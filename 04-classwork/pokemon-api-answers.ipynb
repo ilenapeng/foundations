{
 "cells": [
  {
   "cell_type": "code",
   "execution_count": 1,
   "id": "b18b4a15",
   "metadata": {},
   "outputs": [],
   "source": [
    "# https://pokeapi.co/docs/v2"
   ]
  },
  {
   "cell_type": "markdown",
   "id": "32c2fd58",
   "metadata": {},
   "source": [
    "## What pokemon has the ID of 55?\n",
    "\n",
    "We need to get the info from Pokemon #55 and then get the name out of it."
   ]
  },
  {
   "cell_type": "code",
   "execution_count": 4,
   "id": "f043c16b",
   "metadata": {},
   "outputs": [],
   "source": [
    "# # Put all of your imports at the top\n",
    "import requests\n",
    "import statistics"
   ]
  },
  {
   "cell_type": "code",
   "execution_count": 9,
   "id": "89af6f13",
   "metadata": {},
   "outputs": [],
   "source": [
    "# I never had to pip install this\n",
    "import statistics\n",
    "\n",
    "# I do not need to pip install this\n",
    "# AGAIN because I did it once already\n",
    "import requests"
   ]
  },
  {
   "cell_type": "markdown",
   "id": "9bf709c6",
   "metadata": {},
   "source": [
    "* `pip install` - downloads from internet, installs on your computer\n",
    "* `import` - includes in your current Python file"
   ]
  },
  {
   "cell_type": "code",
   "execution_count": 10,
   "id": "b4679891",
   "metadata": {},
   "outputs": [],
   "source": [
    "url = \"https://pokeapi.co/api/v2/pokemon/55/\"\n",
    "\n",
    "response = requests.get(url)\n",
    "data = response.json()"
   ]
  },
  {
   "cell_type": "code",
   "execution_count": 12,
   "id": "6234ce19",
   "metadata": {},
   "outputs": [
    {
     "data": {
      "text/plain": [
       "dict_keys(['abilities', 'base_experience', 'forms', 'game_indices', 'height', 'held_items', 'id', 'is_default', 'location_area_encounters', 'moves', 'name', 'order', 'past_types', 'species', 'sprites', 'stats', 'types', 'weight'])"
      ]
     },
     "execution_count": 12,
     "metadata": {},
     "output_type": "execute_result"
    }
   ],
   "source": [
    "data.keys()"
   ]
  },
  {
   "cell_type": "code",
   "execution_count": 13,
   "id": "d252ba3a",
   "metadata": {},
   "outputs": [
    {
     "data": {
      "text/plain": [
       "'golduck'"
      ]
     },
     "execution_count": 13,
     "metadata": {},
     "output_type": "execute_result"
    }
   ],
   "source": [
    "data['name']"
   ]
  },
  {
   "cell_type": "code",
   "execution_count": 15,
   "id": "a7694e2e",
   "metadata": {},
   "outputs": [
    {
     "data": {
      "text/plain": [
       "17"
      ]
     },
     "execution_count": 15,
     "metadata": {},
     "output_type": "execute_result"
    }
   ],
   "source": [
    "# https://pokeapi.co/docs/v2#pokemon\n",
    "# decimeters\n",
    "# height, The height of this Pokémon in decimetres., integer\n",
    "data['height']"
   ]
  },
  {
   "cell_type": "code",
   "execution_count": 21,
   "id": "3f852d52",
   "metadata": {},
   "outputs": [
    {
     "data": {
      "text/plain": [
       "'golduck'"
      ]
     },
     "execution_count": 21,
     "metadata": {},
     "output_type": "execute_result"
    }
   ],
   "source": [
    "# Getting a value from a dictionary\n",
    "# https://stackoverflow.com/questions/10540929/figure-of-imshow-is-too-small\n",
    "\n",
    "dict(data).get('name', None)"
   ]
  },
  {
   "cell_type": "code",
   "execution_count": 22,
   "id": "def8f54b",
   "metadata": {},
   "outputs": [
    {
     "name": "stdout",
     "output_type": "stream",
     "text": [
      "lkasmdlkamdlkasmd\n"
     ]
    }
   ],
   "source": [
    "print(\"lkasmdlkamdlkasmd\")"
   ]
  },
  {
   "cell_type": "code",
   "execution_count": 23,
   "id": "f8f88bc5",
   "metadata": {},
   "outputs": [
    {
     "data": {
      "text/plain": [
       "'golduck'"
      ]
     },
     "execution_count": 23,
     "metadata": {},
     "output_type": "execute_result"
    }
   ],
   "source": [
    "data['name']"
   ]
  },
  {
   "cell_type": "code",
   "execution_count": 24,
   "id": "1bf84764",
   "metadata": {},
   "outputs": [
    {
     "name": "stdout",
     "output_type": "stream",
     "text": [
      "golduck\n"
     ]
    }
   ],
   "source": [
    "print(data['name'])"
   ]
  },
  {
   "cell_type": "code",
   "execution_count": 25,
   "id": "8e386db9",
   "metadata": {},
   "outputs": [],
   "source": [
    "url = \"https://pokeapi.co/api/v2/version/\"\n",
    "response = requests.get(url)\n",
    "data = response.json()"
   ]
  },
  {
   "cell_type": "code",
   "execution_count": 26,
   "id": "87c4baa9",
   "metadata": {},
   "outputs": [
    {
     "data": {
      "text/plain": [
       "{'count': 34,\n",
       " 'next': 'https://pokeapi.co/api/v2/version/?offset=20&limit=14',\n",
       " 'previous': None,\n",
       " 'results': [{'name': 'red', 'url': 'https://pokeapi.co/api/v2/version/1/'},\n",
       "  {'name': 'blue', 'url': 'https://pokeapi.co/api/v2/version/2/'},\n",
       "  {'name': 'yellow', 'url': 'https://pokeapi.co/api/v2/version/3/'},\n",
       "  {'name': 'gold', 'url': 'https://pokeapi.co/api/v2/version/4/'},\n",
       "  {'name': 'silver', 'url': 'https://pokeapi.co/api/v2/version/5/'},\n",
       "  {'name': 'crystal', 'url': 'https://pokeapi.co/api/v2/version/6/'},\n",
       "  {'name': 'ruby', 'url': 'https://pokeapi.co/api/v2/version/7/'},\n",
       "  {'name': 'sapphire', 'url': 'https://pokeapi.co/api/v2/version/8/'},\n",
       "  {'name': 'emerald', 'url': 'https://pokeapi.co/api/v2/version/9/'},\n",
       "  {'name': 'firered', 'url': 'https://pokeapi.co/api/v2/version/10/'},\n",
       "  {'name': 'leafgreen', 'url': 'https://pokeapi.co/api/v2/version/11/'},\n",
       "  {'name': 'diamond', 'url': 'https://pokeapi.co/api/v2/version/12/'},\n",
       "  {'name': 'pearl', 'url': 'https://pokeapi.co/api/v2/version/13/'},\n",
       "  {'name': 'platinum', 'url': 'https://pokeapi.co/api/v2/version/14/'},\n",
       "  {'name': 'heartgold', 'url': 'https://pokeapi.co/api/v2/version/15/'},\n",
       "  {'name': 'soulsilver', 'url': 'https://pokeapi.co/api/v2/version/16/'},\n",
       "  {'name': 'black', 'url': 'https://pokeapi.co/api/v2/version/17/'},\n",
       "  {'name': 'white', 'url': 'https://pokeapi.co/api/v2/version/18/'},\n",
       "  {'name': 'colosseum', 'url': 'https://pokeapi.co/api/v2/version/19/'},\n",
       "  {'name': 'xd', 'url': 'https://pokeapi.co/api/v2/version/20/'}]}"
      ]
     },
     "execution_count": 26,
     "metadata": {},
     "output_type": "execute_result"
    }
   ],
   "source": [
    "data"
   ]
  },
  {
   "cell_type": "code",
   "execution_count": 27,
   "id": "164f042c",
   "metadata": {},
   "outputs": [
    {
     "data": {
      "text/plain": [
       "[{'name': 'red', 'url': 'https://pokeapi.co/api/v2/version/1/'},\n",
       " {'name': 'blue', 'url': 'https://pokeapi.co/api/v2/version/2/'},\n",
       " {'name': 'yellow', 'url': 'https://pokeapi.co/api/v2/version/3/'},\n",
       " {'name': 'gold', 'url': 'https://pokeapi.co/api/v2/version/4/'},\n",
       " {'name': 'silver', 'url': 'https://pokeapi.co/api/v2/version/5/'},\n",
       " {'name': 'crystal', 'url': 'https://pokeapi.co/api/v2/version/6/'},\n",
       " {'name': 'ruby', 'url': 'https://pokeapi.co/api/v2/version/7/'},\n",
       " {'name': 'sapphire', 'url': 'https://pokeapi.co/api/v2/version/8/'},\n",
       " {'name': 'emerald', 'url': 'https://pokeapi.co/api/v2/version/9/'},\n",
       " {'name': 'firered', 'url': 'https://pokeapi.co/api/v2/version/10/'},\n",
       " {'name': 'leafgreen', 'url': 'https://pokeapi.co/api/v2/version/11/'},\n",
       " {'name': 'diamond', 'url': 'https://pokeapi.co/api/v2/version/12/'},\n",
       " {'name': 'pearl', 'url': 'https://pokeapi.co/api/v2/version/13/'},\n",
       " {'name': 'platinum', 'url': 'https://pokeapi.co/api/v2/version/14/'},\n",
       " {'name': 'heartgold', 'url': 'https://pokeapi.co/api/v2/version/15/'},\n",
       " {'name': 'soulsilver', 'url': 'https://pokeapi.co/api/v2/version/16/'},\n",
       " {'name': 'black', 'url': 'https://pokeapi.co/api/v2/version/17/'},\n",
       " {'name': 'white', 'url': 'https://pokeapi.co/api/v2/version/18/'},\n",
       " {'name': 'colosseum', 'url': 'https://pokeapi.co/api/v2/version/19/'},\n",
       " {'name': 'xd', 'url': 'https://pokeapi.co/api/v2/version/20/'}]"
      ]
     },
     "execution_count": 27,
     "metadata": {},
     "output_type": "execute_result"
    }
   ],
   "source": [
    "data['results']"
   ]
  },
  {
   "cell_type": "code",
   "execution_count": 28,
   "id": "2eb56673",
   "metadata": {},
   "outputs": [
    {
     "data": {
      "text/plain": [
       "20"
      ]
     },
     "execution_count": 28,
     "metadata": {},
     "output_type": "execute_result"
    }
   ],
   "source": [
    "len(data['results'])"
   ]
  },
  {
   "cell_type": "code",
   "execution_count": 29,
   "id": "b51a5919",
   "metadata": {},
   "outputs": [],
   "source": [
    "url = \"https://pokeapi.co/api/v2/version/?limit=1000\"\n",
    "response = requests.get(url)\n",
    "data = response.json()"
   ]
  },
  {
   "cell_type": "code",
   "execution_count": 30,
   "id": "dbc8c8de",
   "metadata": {},
   "outputs": [
    {
     "data": {
      "text/plain": [
       "34"
      ]
     },
     "execution_count": 30,
     "metadata": {},
     "output_type": "execute_result"
    }
   ],
   "source": [
    "len(data['results'])"
   ]
  },
  {
   "cell_type": "code",
   "execution_count": 32,
   "id": "e84f48db",
   "metadata": {},
   "outputs": [
    {
     "data": {
      "text/plain": [
       "34"
      ]
     },
     "execution_count": 32,
     "metadata": {},
     "output_type": "execute_result"
    }
   ],
   "source": [
    "data['count']"
   ]
  },
  {
   "cell_type": "code",
   "execution_count": 33,
   "id": "054eb1f2",
   "metadata": {},
   "outputs": [],
   "source": [
    "# Pulling info from\n",
    "# https://pokeapi.co/docs/v2#types\n",
    "# about electric pokemon, endpoint should be\n",
    "# https://pokeapi.co/api/v2/type/{id or name}/"
   ]
  },
  {
   "cell_type": "code",
   "execution_count": 34,
   "id": "e595e820",
   "metadata": {},
   "outputs": [],
   "source": [
    "url = \"https://pokeapi.co/api/v2/type/electric/\"\n",
    "response = requests.get(url)\n",
    "data = response.json()"
   ]
  },
  {
   "cell_type": "code",
   "execution_count": 35,
   "id": "b6da8eae",
   "metadata": {},
   "outputs": [
    {
     "data": {
      "text/plain": [
       "{'damage_relations': {'double_damage_from': [{'name': 'ground',\n",
       "    'url': 'https://pokeapi.co/api/v2/type/5/'}],\n",
       "  'double_damage_to': [{'name': 'flying',\n",
       "    'url': 'https://pokeapi.co/api/v2/type/3/'},\n",
       "   {'name': 'water', 'url': 'https://pokeapi.co/api/v2/type/11/'}],\n",
       "  'half_damage_from': [{'name': 'flying',\n",
       "    'url': 'https://pokeapi.co/api/v2/type/3/'},\n",
       "   {'name': 'steel', 'url': 'https://pokeapi.co/api/v2/type/9/'},\n",
       "   {'name': 'electric', 'url': 'https://pokeapi.co/api/v2/type/13/'}],\n",
       "  'half_damage_to': [{'name': 'grass',\n",
       "    'url': 'https://pokeapi.co/api/v2/type/12/'},\n",
       "   {'name': 'electric', 'url': 'https://pokeapi.co/api/v2/type/13/'},\n",
       "   {'name': 'dragon', 'url': 'https://pokeapi.co/api/v2/type/16/'}],\n",
       "  'no_damage_from': [],\n",
       "  'no_damage_to': [{'name': 'ground',\n",
       "    'url': 'https://pokeapi.co/api/v2/type/5/'}]},\n",
       " 'game_indices': [{'game_index': 23,\n",
       "   'generation': {'name': 'generation-i',\n",
       "    'url': 'https://pokeapi.co/api/v2/generation/1/'}},\n",
       "  {'game_index': 23,\n",
       "   'generation': {'name': 'generation-ii',\n",
       "    'url': 'https://pokeapi.co/api/v2/generation/2/'}},\n",
       "  {'game_index': 13,\n",
       "   'generation': {'name': 'generation-iii',\n",
       "    'url': 'https://pokeapi.co/api/v2/generation/3/'}},\n",
       "  {'game_index': 13,\n",
       "   'generation': {'name': 'generation-iv',\n",
       "    'url': 'https://pokeapi.co/api/v2/generation/4/'}},\n",
       "  {'game_index': 12,\n",
       "   'generation': {'name': 'generation-v',\n",
       "    'url': 'https://pokeapi.co/api/v2/generation/5/'}},\n",
       "  {'game_index': 12,\n",
       "   'generation': {'name': 'generation-vi',\n",
       "    'url': 'https://pokeapi.co/api/v2/generation/6/'}}],\n",
       " 'generation': {'name': 'generation-i',\n",
       "  'url': 'https://pokeapi.co/api/v2/generation/1/'},\n",
       " 'id': 13,\n",
       " 'move_damage_class': {'name': 'special',\n",
       "  'url': 'https://pokeapi.co/api/v2/move-damage-class/3/'},\n",
       " 'moves': [{'name': 'thunder-punch',\n",
       "   'url': 'https://pokeapi.co/api/v2/move/9/'},\n",
       "  {'name': 'thunder-shock', 'url': 'https://pokeapi.co/api/v2/move/84/'},\n",
       "  {'name': 'thunderbolt', 'url': 'https://pokeapi.co/api/v2/move/85/'},\n",
       "  {'name': 'thunder-wave', 'url': 'https://pokeapi.co/api/v2/move/86/'},\n",
       "  {'name': 'thunder', 'url': 'https://pokeapi.co/api/v2/move/87/'},\n",
       "  {'name': 'zap-cannon', 'url': 'https://pokeapi.co/api/v2/move/192/'},\n",
       "  {'name': 'spark', 'url': 'https://pokeapi.co/api/v2/move/209/'},\n",
       "  {'name': 'charge', 'url': 'https://pokeapi.co/api/v2/move/268/'},\n",
       "  {'name': 'volt-tackle', 'url': 'https://pokeapi.co/api/v2/move/344/'},\n",
       "  {'name': 'shock-wave', 'url': 'https://pokeapi.co/api/v2/move/351/'},\n",
       "  {'name': 'magnet-rise', 'url': 'https://pokeapi.co/api/v2/move/393/'},\n",
       "  {'name': 'thunder-fang', 'url': 'https://pokeapi.co/api/v2/move/422/'},\n",
       "  {'name': 'discharge', 'url': 'https://pokeapi.co/api/v2/move/435/'},\n",
       "  {'name': 'charge-beam', 'url': 'https://pokeapi.co/api/v2/move/451/'},\n",
       "  {'name': 'electro-ball', 'url': 'https://pokeapi.co/api/v2/move/486/'},\n",
       "  {'name': 'volt-switch', 'url': 'https://pokeapi.co/api/v2/move/521/'},\n",
       "  {'name': 'electroweb', 'url': 'https://pokeapi.co/api/v2/move/527/'},\n",
       "  {'name': 'wild-charge', 'url': 'https://pokeapi.co/api/v2/move/528/'},\n",
       "  {'name': 'bolt-strike', 'url': 'https://pokeapi.co/api/v2/move/550/'},\n",
       "  {'name': 'fusion-bolt', 'url': 'https://pokeapi.co/api/v2/move/559/'},\n",
       "  {'name': 'ion-deluge', 'url': 'https://pokeapi.co/api/v2/move/569/'},\n",
       "  {'name': 'parabolic-charge', 'url': 'https://pokeapi.co/api/v2/move/570/'},\n",
       "  {'name': 'electrify', 'url': 'https://pokeapi.co/api/v2/move/582/'},\n",
       "  {'name': 'eerie-impulse', 'url': 'https://pokeapi.co/api/v2/move/598/'},\n",
       "  {'name': 'magnetic-flux', 'url': 'https://pokeapi.co/api/v2/move/602/'},\n",
       "  {'name': 'electric-terrain', 'url': 'https://pokeapi.co/api/v2/move/604/'},\n",
       "  {'name': 'nuzzle', 'url': 'https://pokeapi.co/api/v2/move/609/'},\n",
       "  {'name': 'gigavolt-havoc--physical',\n",
       "   'url': 'https://pokeapi.co/api/v2/move/646/'},\n",
       "  {'name': 'gigavolt-havoc--special',\n",
       "   'url': 'https://pokeapi.co/api/v2/move/647/'},\n",
       "  {'name': 'catastropika', 'url': 'https://pokeapi.co/api/v2/move/658/'},\n",
       "  {'name': 'stoked-sparksurfer', 'url': 'https://pokeapi.co/api/v2/move/700/'},\n",
       "  {'name': 'zing-zap', 'url': 'https://pokeapi.co/api/v2/move/716/'},\n",
       "  {'name': '10-000-000-volt-thunderbolt',\n",
       "   'url': 'https://pokeapi.co/api/v2/move/719/'},\n",
       "  {'name': 'plasma-fists', 'url': 'https://pokeapi.co/api/v2/move/721/'},\n",
       "  {'name': 'zippy-zap', 'url': 'https://pokeapi.co/api/v2/move/729/'},\n",
       "  {'name': 'pika-papow', 'url': 'https://pokeapi.co/api/v2/move/732/'},\n",
       "  {'name': 'buzzy-buzz', 'url': 'https://pokeapi.co/api/v2/move/734/'},\n",
       "  {'name': 'bolt-beak', 'url': 'https://pokeapi.co/api/v2/move/754/'},\n",
       "  {'name': 'max-lightning', 'url': 'https://pokeapi.co/api/v2/move/759/'},\n",
       "  {'name': 'aura-wheel', 'url': 'https://pokeapi.co/api/v2/move/783/'},\n",
       "  {'name': 'overdrive', 'url': 'https://pokeapi.co/api/v2/move/786/'},\n",
       "  {'name': 'rising-voltage', 'url': 'https://pokeapi.co/api/v2/move/804/'},\n",
       "  {'name': 'thunder-cage', 'url': 'https://pokeapi.co/api/v2/move/819/'}],\n",
       " 'name': 'electric',\n",
       " 'names': [{'language': {'name': 'ja-Hrkt',\n",
       "    'url': 'https://pokeapi.co/api/v2/language/1/'},\n",
       "   'name': 'でんき'},\n",
       "  {'language': {'name': 'ko', 'url': 'https://pokeapi.co/api/v2/language/3/'},\n",
       "   'name': '전기'},\n",
       "  {'language': {'name': 'fr', 'url': 'https://pokeapi.co/api/v2/language/5/'},\n",
       "   'name': 'Électrik'},\n",
       "  {'language': {'name': 'de', 'url': 'https://pokeapi.co/api/v2/language/6/'},\n",
       "   'name': 'Elektro'},\n",
       "  {'language': {'name': 'es', 'url': 'https://pokeapi.co/api/v2/language/7/'},\n",
       "   'name': 'Eléctrico'},\n",
       "  {'language': {'name': 'it', 'url': 'https://pokeapi.co/api/v2/language/8/'},\n",
       "   'name': 'Elettro'},\n",
       "  {'language': {'name': 'en', 'url': 'https://pokeapi.co/api/v2/language/9/'},\n",
       "   'name': 'Electric'}],\n",
       " 'past_damage_relations': [],\n",
       " 'pokemon': [{'pokemon': {'name': 'pikachu',\n",
       "    'url': 'https://pokeapi.co/api/v2/pokemon/25/'},\n",
       "   'slot': 1},\n",
       "  {'pokemon': {'name': 'raichu',\n",
       "    'url': 'https://pokeapi.co/api/v2/pokemon/26/'},\n",
       "   'slot': 1},\n",
       "  {'pokemon': {'name': 'magnemite',\n",
       "    'url': 'https://pokeapi.co/api/v2/pokemon/81/'},\n",
       "   'slot': 1},\n",
       "  {'pokemon': {'name': 'magneton',\n",
       "    'url': 'https://pokeapi.co/api/v2/pokemon/82/'},\n",
       "   'slot': 1},\n",
       "  {'pokemon': {'name': 'voltorb',\n",
       "    'url': 'https://pokeapi.co/api/v2/pokemon/100/'},\n",
       "   'slot': 1},\n",
       "  {'pokemon': {'name': 'electrode',\n",
       "    'url': 'https://pokeapi.co/api/v2/pokemon/101/'},\n",
       "   'slot': 1},\n",
       "  {'pokemon': {'name': 'electabuzz',\n",
       "    'url': 'https://pokeapi.co/api/v2/pokemon/125/'},\n",
       "   'slot': 1},\n",
       "  {'pokemon': {'name': 'jolteon',\n",
       "    'url': 'https://pokeapi.co/api/v2/pokemon/135/'},\n",
       "   'slot': 1},\n",
       "  {'pokemon': {'name': 'zapdos',\n",
       "    'url': 'https://pokeapi.co/api/v2/pokemon/145/'},\n",
       "   'slot': 1},\n",
       "  {'pokemon': {'name': 'chinchou',\n",
       "    'url': 'https://pokeapi.co/api/v2/pokemon/170/'},\n",
       "   'slot': 2},\n",
       "  {'pokemon': {'name': 'lanturn',\n",
       "    'url': 'https://pokeapi.co/api/v2/pokemon/171/'},\n",
       "   'slot': 2},\n",
       "  {'pokemon': {'name': 'pichu',\n",
       "    'url': 'https://pokeapi.co/api/v2/pokemon/172/'},\n",
       "   'slot': 1},\n",
       "  {'pokemon': {'name': 'mareep',\n",
       "    'url': 'https://pokeapi.co/api/v2/pokemon/179/'},\n",
       "   'slot': 1},\n",
       "  {'pokemon': {'name': 'flaaffy',\n",
       "    'url': 'https://pokeapi.co/api/v2/pokemon/180/'},\n",
       "   'slot': 1},\n",
       "  {'pokemon': {'name': 'ampharos',\n",
       "    'url': 'https://pokeapi.co/api/v2/pokemon/181/'},\n",
       "   'slot': 1},\n",
       "  {'pokemon': {'name': 'elekid',\n",
       "    'url': 'https://pokeapi.co/api/v2/pokemon/239/'},\n",
       "   'slot': 1},\n",
       "  {'pokemon': {'name': 'raikou',\n",
       "    'url': 'https://pokeapi.co/api/v2/pokemon/243/'},\n",
       "   'slot': 1},\n",
       "  {'pokemon': {'name': 'electrike',\n",
       "    'url': 'https://pokeapi.co/api/v2/pokemon/309/'},\n",
       "   'slot': 1},\n",
       "  {'pokemon': {'name': 'manectric',\n",
       "    'url': 'https://pokeapi.co/api/v2/pokemon/310/'},\n",
       "   'slot': 1},\n",
       "  {'pokemon': {'name': 'plusle',\n",
       "    'url': 'https://pokeapi.co/api/v2/pokemon/311/'},\n",
       "   'slot': 1},\n",
       "  {'pokemon': {'name': 'minun',\n",
       "    'url': 'https://pokeapi.co/api/v2/pokemon/312/'},\n",
       "   'slot': 1},\n",
       "  {'pokemon': {'name': 'shinx',\n",
       "    'url': 'https://pokeapi.co/api/v2/pokemon/403/'},\n",
       "   'slot': 1},\n",
       "  {'pokemon': {'name': 'luxio',\n",
       "    'url': 'https://pokeapi.co/api/v2/pokemon/404/'},\n",
       "   'slot': 1},\n",
       "  {'pokemon': {'name': 'luxray',\n",
       "    'url': 'https://pokeapi.co/api/v2/pokemon/405/'},\n",
       "   'slot': 1},\n",
       "  {'pokemon': {'name': 'pachirisu',\n",
       "    'url': 'https://pokeapi.co/api/v2/pokemon/417/'},\n",
       "   'slot': 1},\n",
       "  {'pokemon': {'name': 'magnezone',\n",
       "    'url': 'https://pokeapi.co/api/v2/pokemon/462/'},\n",
       "   'slot': 1},\n",
       "  {'pokemon': {'name': 'electivire',\n",
       "    'url': 'https://pokeapi.co/api/v2/pokemon/466/'},\n",
       "   'slot': 1},\n",
       "  {'pokemon': {'name': 'rotom',\n",
       "    'url': 'https://pokeapi.co/api/v2/pokemon/479/'},\n",
       "   'slot': 1},\n",
       "  {'pokemon': {'name': 'blitzle',\n",
       "    'url': 'https://pokeapi.co/api/v2/pokemon/522/'},\n",
       "   'slot': 1},\n",
       "  {'pokemon': {'name': 'zebstrika',\n",
       "    'url': 'https://pokeapi.co/api/v2/pokemon/523/'},\n",
       "   'slot': 1},\n",
       "  {'pokemon': {'name': 'emolga',\n",
       "    'url': 'https://pokeapi.co/api/v2/pokemon/587/'},\n",
       "   'slot': 1},\n",
       "  {'pokemon': {'name': 'joltik',\n",
       "    'url': 'https://pokeapi.co/api/v2/pokemon/595/'},\n",
       "   'slot': 2},\n",
       "  {'pokemon': {'name': 'galvantula',\n",
       "    'url': 'https://pokeapi.co/api/v2/pokemon/596/'},\n",
       "   'slot': 2},\n",
       "  {'pokemon': {'name': 'tynamo',\n",
       "    'url': 'https://pokeapi.co/api/v2/pokemon/602/'},\n",
       "   'slot': 1},\n",
       "  {'pokemon': {'name': 'eelektrik',\n",
       "    'url': 'https://pokeapi.co/api/v2/pokemon/603/'},\n",
       "   'slot': 1},\n",
       "  {'pokemon': {'name': 'eelektross',\n",
       "    'url': 'https://pokeapi.co/api/v2/pokemon/604/'},\n",
       "   'slot': 1},\n",
       "  {'pokemon': {'name': 'stunfisk',\n",
       "    'url': 'https://pokeapi.co/api/v2/pokemon/618/'},\n",
       "   'slot': 2},\n",
       "  {'pokemon': {'name': 'thundurus-incarnate',\n",
       "    'url': 'https://pokeapi.co/api/v2/pokemon/642/'},\n",
       "   'slot': 1},\n",
       "  {'pokemon': {'name': 'zekrom',\n",
       "    'url': 'https://pokeapi.co/api/v2/pokemon/644/'},\n",
       "   'slot': 2},\n",
       "  {'pokemon': {'name': 'helioptile',\n",
       "    'url': 'https://pokeapi.co/api/v2/pokemon/694/'},\n",
       "   'slot': 1},\n",
       "  {'pokemon': {'name': 'heliolisk',\n",
       "    'url': 'https://pokeapi.co/api/v2/pokemon/695/'},\n",
       "   'slot': 1},\n",
       "  {'pokemon': {'name': 'dedenne',\n",
       "    'url': 'https://pokeapi.co/api/v2/pokemon/702/'},\n",
       "   'slot': 1},\n",
       "  {'pokemon': {'name': 'charjabug',\n",
       "    'url': 'https://pokeapi.co/api/v2/pokemon/737/'},\n",
       "   'slot': 2},\n",
       "  {'pokemon': {'name': 'vikavolt',\n",
       "    'url': 'https://pokeapi.co/api/v2/pokemon/738/'},\n",
       "   'slot': 2},\n",
       "  {'pokemon': {'name': 'togedemaru',\n",
       "    'url': 'https://pokeapi.co/api/v2/pokemon/777/'},\n",
       "   'slot': 1},\n",
       "  {'pokemon': {'name': 'tapu-koko',\n",
       "    'url': 'https://pokeapi.co/api/v2/pokemon/785/'},\n",
       "   'slot': 1},\n",
       "  {'pokemon': {'name': 'xurkitree',\n",
       "    'url': 'https://pokeapi.co/api/v2/pokemon/796/'},\n",
       "   'slot': 1},\n",
       "  {'pokemon': {'name': 'zeraora',\n",
       "    'url': 'https://pokeapi.co/api/v2/pokemon/807/'},\n",
       "   'slot': 1},\n",
       "  {'pokemon': {'name': 'yamper',\n",
       "    'url': 'https://pokeapi.co/api/v2/pokemon/835/'},\n",
       "   'slot': 1},\n",
       "  {'pokemon': {'name': 'boltund',\n",
       "    'url': 'https://pokeapi.co/api/v2/pokemon/836/'},\n",
       "   'slot': 1},\n",
       "  {'pokemon': {'name': 'toxel',\n",
       "    'url': 'https://pokeapi.co/api/v2/pokemon/848/'},\n",
       "   'slot': 1},\n",
       "  {'pokemon': {'name': 'toxtricity-amped',\n",
       "    'url': 'https://pokeapi.co/api/v2/pokemon/849/'},\n",
       "   'slot': 1},\n",
       "  {'pokemon': {'name': 'pincurchin',\n",
       "    'url': 'https://pokeapi.co/api/v2/pokemon/871/'},\n",
       "   'slot': 1},\n",
       "  {'pokemon': {'name': 'morpeko',\n",
       "    'url': 'https://pokeapi.co/api/v2/pokemon/877/'},\n",
       "   'slot': 1},\n",
       "  {'pokemon': {'name': 'dracozolt',\n",
       "    'url': 'https://pokeapi.co/api/v2/pokemon/880/'},\n",
       "   'slot': 1},\n",
       "  {'pokemon': {'name': 'arctozolt',\n",
       "    'url': 'https://pokeapi.co/api/v2/pokemon/881/'},\n",
       "   'slot': 1},\n",
       "  {'pokemon': {'name': 'regieleki',\n",
       "    'url': 'https://pokeapi.co/api/v2/pokemon/894/'},\n",
       "   'slot': 1},\n",
       "  {'pokemon': {'name': 'rotom-heat',\n",
       "    'url': 'https://pokeapi.co/api/v2/pokemon/10008/'},\n",
       "   'slot': 1},\n",
       "  {'pokemon': {'name': 'rotom-wash',\n",
       "    'url': 'https://pokeapi.co/api/v2/pokemon/10009/'},\n",
       "   'slot': 1},\n",
       "  {'pokemon': {'name': 'rotom-frost',\n",
       "    'url': 'https://pokeapi.co/api/v2/pokemon/10010/'},\n",
       "   'slot': 1},\n",
       "  {'pokemon': {'name': 'rotom-fan',\n",
       "    'url': 'https://pokeapi.co/api/v2/pokemon/10011/'},\n",
       "   'slot': 1},\n",
       "  {'pokemon': {'name': 'rotom-mow',\n",
       "    'url': 'https://pokeapi.co/api/v2/pokemon/10012/'},\n",
       "   'slot': 1},\n",
       "  {'pokemon': {'name': 'thundurus-therian',\n",
       "    'url': 'https://pokeapi.co/api/v2/pokemon/10020/'},\n",
       "   'slot': 1},\n",
       "  {'pokemon': {'name': 'ampharos-mega',\n",
       "    'url': 'https://pokeapi.co/api/v2/pokemon/10045/'},\n",
       "   'slot': 1},\n",
       "  {'pokemon': {'name': 'manectric-mega',\n",
       "    'url': 'https://pokeapi.co/api/v2/pokemon/10055/'},\n",
       "   'slot': 1},\n",
       "  {'pokemon': {'name': 'pikachu-rock-star',\n",
       "    'url': 'https://pokeapi.co/api/v2/pokemon/10080/'},\n",
       "   'slot': 1},\n",
       "  {'pokemon': {'name': 'pikachu-belle',\n",
       "    'url': 'https://pokeapi.co/api/v2/pokemon/10081/'},\n",
       "   'slot': 1},\n",
       "  {'pokemon': {'name': 'pikachu-pop-star',\n",
       "    'url': 'https://pokeapi.co/api/v2/pokemon/10082/'},\n",
       "   'slot': 1},\n",
       "  {'pokemon': {'name': 'pikachu-phd',\n",
       "    'url': 'https://pokeapi.co/api/v2/pokemon/10083/'},\n",
       "   'slot': 1},\n",
       "  {'pokemon': {'name': 'pikachu-libre',\n",
       "    'url': 'https://pokeapi.co/api/v2/pokemon/10084/'},\n",
       "   'slot': 1},\n",
       "  {'pokemon': {'name': 'pikachu-cosplay',\n",
       "    'url': 'https://pokeapi.co/api/v2/pokemon/10085/'},\n",
       "   'slot': 1},\n",
       "  {'pokemon': {'name': 'pikachu-original-cap',\n",
       "    'url': 'https://pokeapi.co/api/v2/pokemon/10094/'},\n",
       "   'slot': 1},\n",
       "  {'pokemon': {'name': 'pikachu-hoenn-cap',\n",
       "    'url': 'https://pokeapi.co/api/v2/pokemon/10095/'},\n",
       "   'slot': 1},\n",
       "  {'pokemon': {'name': 'pikachu-sinnoh-cap',\n",
       "    'url': 'https://pokeapi.co/api/v2/pokemon/10096/'},\n",
       "   'slot': 1},\n",
       "  {'pokemon': {'name': 'pikachu-unova-cap',\n",
       "    'url': 'https://pokeapi.co/api/v2/pokemon/10097/'},\n",
       "   'slot': 1},\n",
       "  {'pokemon': {'name': 'pikachu-kalos-cap',\n",
       "    'url': 'https://pokeapi.co/api/v2/pokemon/10098/'},\n",
       "   'slot': 1},\n",
       "  {'pokemon': {'name': 'pikachu-alola-cap',\n",
       "    'url': 'https://pokeapi.co/api/v2/pokemon/10099/'},\n",
       "   'slot': 1},\n",
       "  {'pokemon': {'name': 'raichu-alola',\n",
       "    'url': 'https://pokeapi.co/api/v2/pokemon/10100/'},\n",
       "   'slot': 1},\n",
       "  {'pokemon': {'name': 'geodude-alola',\n",
       "    'url': 'https://pokeapi.co/api/v2/pokemon/10109/'},\n",
       "   'slot': 2},\n",
       "  {'pokemon': {'name': 'graveler-alola',\n",
       "    'url': 'https://pokeapi.co/api/v2/pokemon/10110/'},\n",
       "   'slot': 2},\n",
       "  {'pokemon': {'name': 'golem-alola',\n",
       "    'url': 'https://pokeapi.co/api/v2/pokemon/10111/'},\n",
       "   'slot': 2},\n",
       "  {'pokemon': {'name': 'vikavolt-totem',\n",
       "    'url': 'https://pokeapi.co/api/v2/pokemon/10122/'},\n",
       "   'slot': 2},\n",
       "  {'pokemon': {'name': 'oricorio-pom-pom',\n",
       "    'url': 'https://pokeapi.co/api/v2/pokemon/10123/'},\n",
       "   'slot': 1},\n",
       "  {'pokemon': {'name': 'pikachu-partner-cap',\n",
       "    'url': 'https://pokeapi.co/api/v2/pokemon/10148/'},\n",
       "   'slot': 1},\n",
       "  {'pokemon': {'name': 'togedemaru-totem',\n",
       "    'url': 'https://pokeapi.co/api/v2/pokemon/10154/'},\n",
       "   'slot': 1},\n",
       "  {'pokemon': {'name': 'toxtricity-low-key',\n",
       "    'url': 'https://pokeapi.co/api/v2/pokemon/10178/'},\n",
       "   'slot': 1},\n",
       "  {'pokemon': {'name': 'pikachu-gmax',\n",
       "    'url': 'https://pokeapi.co/api/v2/pokemon/10190/'},\n",
       "   'slot': 1},\n",
       "  {'pokemon': {'name': 'toxtricity-amped-gmax',\n",
       "    'url': 'https://pokeapi.co/api/v2/pokemon/10210/'},\n",
       "   'slot': 1},\n",
       "  {'pokemon': {'name': 'toxtricity-low-key-gmax',\n",
       "    'url': 'https://pokeapi.co/api/v2/pokemon/10220/'},\n",
       "   'slot': 1}]}"
      ]
     },
     "execution_count": 35,
     "metadata": {},
     "output_type": "execute_result"
    }
   ],
   "source": [
    "data"
   ]
  },
  {
   "cell_type": "code",
   "execution_count": 36,
   "id": "4e140a19",
   "metadata": {},
   "outputs": [
    {
     "data": {
      "text/plain": [
       "dict_keys(['damage_relations', 'game_indices', 'generation', 'id', 'move_damage_class', 'moves', 'name', 'names', 'past_damage_relations', 'pokemon'])"
      ]
     },
     "execution_count": 36,
     "metadata": {},
     "output_type": "execute_result"
    }
   ],
   "source": [
    "data.keys()"
   ]
  },
  {
   "cell_type": "code",
   "execution_count": 37,
   "id": "62ae77d0",
   "metadata": {},
   "outputs": [],
   "source": [
    "# names The name of this resource listed in different languages"
   ]
  },
  {
   "cell_type": "code",
   "execution_count": 38,
   "id": "6182f149",
   "metadata": {},
   "outputs": [
    {
     "data": {
      "text/plain": [
       "[{'language': {'name': 'ja-Hrkt',\n",
       "   'url': 'https://pokeapi.co/api/v2/language/1/'},\n",
       "  'name': 'でんき'},\n",
       " {'language': {'name': 'ko', 'url': 'https://pokeapi.co/api/v2/language/3/'},\n",
       "  'name': '전기'},\n",
       " {'language': {'name': 'fr', 'url': 'https://pokeapi.co/api/v2/language/5/'},\n",
       "  'name': 'Électrik'},\n",
       " {'language': {'name': 'de', 'url': 'https://pokeapi.co/api/v2/language/6/'},\n",
       "  'name': 'Elektro'},\n",
       " {'language': {'name': 'es', 'url': 'https://pokeapi.co/api/v2/language/7/'},\n",
       "  'name': 'Eléctrico'},\n",
       " {'language': {'name': 'it', 'url': 'https://pokeapi.co/api/v2/language/8/'},\n",
       "  'name': 'Elettro'},\n",
       " {'language': {'name': 'en', 'url': 'https://pokeapi.co/api/v2/language/9/'},\n",
       "  'name': 'Electric'}]"
      ]
     },
     "execution_count": 38,
     "metadata": {},
     "output_type": "execute_result"
    }
   ],
   "source": [
    "data['names']"
   ]
  },
  {
   "cell_type": "code",
   "execution_count": 45,
   "id": "bba4d6be",
   "metadata": {},
   "outputs": [
    {
     "data": {
      "text/plain": [
       "'전기'"
      ]
     },
     "execution_count": 45,
     "metadata": {},
     "output_type": "execute_result"
    }
   ],
   "source": [
    "# Cheating\n",
    "data['names'][1]['name']"
   ]
  },
  {
   "cell_type": "code",
   "execution_count": 56,
   "id": "b997f58f",
   "metadata": {},
   "outputs": [
    {
     "name": "stdout",
     "output_type": "stream",
     "text": [
      "전기\n"
     ]
    }
   ],
   "source": [
    "for language in data['names']:\n",
    "    # data['names']\n",
    "    # print(\"-----\")\n",
    "    # print(language['language'])\n",
    "    lang_code = language['language']['name']\n",
    "    if lang_code == 'ko':\n",
    "        # print(language)\n",
    "        print(language['name'])"
   ]
  },
  {
   "cell_type": "code",
   "execution_count": null,
   "id": "b3de3160",
   "metadata": {},
   "outputs": [],
   "source": [
    "# oauth2 = you'll be unhappy"
   ]
  }
 ],
 "metadata": {
  "kernelspec": {
   "display_name": "Python 3",
   "language": "python",
   "name": "python3"
  },
  "language_info": {
   "codemirror_mode": {
    "name": "ipython",
    "version": 3
   },
   "file_extension": ".py",
   "mimetype": "text/x-python",
   "name": "python",
   "nbconvert_exporter": "python",
   "pygments_lexer": "ipython3",
   "version": "3.8.2"
  }
 },
 "nbformat": 4,
 "nbformat_minor": 5
}
