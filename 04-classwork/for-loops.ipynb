{
 "cells": [
  {
   "cell_type": "code",
   "execution_count": 1,
   "id": "f014841e",
   "metadata": {},
   "outputs": [],
   "source": [
    "number = 5"
   ]
  },
  {
   "cell_type": "code",
   "execution_count": 2,
   "id": "c84a4c66",
   "metadata": {},
   "outputs": [
    {
     "name": "stdout",
     "output_type": "stream",
     "text": [
      "5\n"
     ]
    }
   ],
   "source": [
    "print(number)"
   ]
  },
  {
   "cell_type": "code",
   "execution_count": 3,
   "id": "1083f112",
   "metadata": {},
   "outputs": [
    {
     "data": {
      "text/plain": [
       "5"
      ]
     },
     "execution_count": 3,
     "metadata": {},
     "output_type": "execute_result"
    }
   ],
   "source": [
    "number"
   ]
  },
  {
   "cell_type": "code",
   "execution_count": 4,
   "id": "971e6c91",
   "metadata": {},
   "outputs": [
    {
     "data": {
      "text/plain": [
       "5"
      ]
     },
     "execution_count": 4,
     "metadata": {},
     "output_type": "execute_result"
    }
   ],
   "source": [
    "number\n",
    "number"
   ]
  },
  {
   "cell_type": "code",
   "execution_count": 5,
   "id": "27a299bd",
   "metadata": {},
   "outputs": [
    {
     "name": "stdout",
     "output_type": "stream",
     "text": [
      "5\n",
      "5\n"
     ]
    }
   ],
   "source": [
    "print(number)\n",
    "print(number)"
   ]
  },
  {
   "cell_type": "code",
   "execution_count": 6,
   "id": "70d3da93",
   "metadata": {},
   "outputs": [
    {
     "name": "stdout",
     "output_type": "stream",
     "text": [
      "5\n"
     ]
    },
    {
     "data": {
      "text/plain": [
       "5"
      ]
     },
     "execution_count": 6,
     "metadata": {},
     "output_type": "execute_result"
    }
   ],
   "source": [
    "print(number)\n",
    "5"
   ]
  },
  {
   "cell_type": "code",
   "execution_count": 7,
   "id": "76b14114",
   "metadata": {},
   "outputs": [],
   "source": [
    "number = number * number"
   ]
  },
  {
   "cell_type": "code",
   "execution_count": 8,
   "id": "b1793245",
   "metadata": {},
   "outputs": [
    {
     "data": {
      "text/plain": [
       "25"
      ]
     },
     "execution_count": 8,
     "metadata": {},
     "output_type": "execute_result"
    }
   ],
   "source": [
    "number"
   ]
  },
  {
   "cell_type": "code",
   "execution_count": 9,
   "id": "b8c1ce51",
   "metadata": {},
   "outputs": [
    {
     "name": "stdout",
     "output_type": "stream",
     "text": [
      "04-homework.zip   Untitled.ipynb    do-now-answers.md outline.txt\r\n"
     ]
    }
   ],
   "source": [
    "!ls"
   ]
  },
  {
   "cell_type": "code",
   "execution_count": 10,
   "id": "6598d1de",
   "metadata": {},
   "outputs": [
    {
     "name": "stdout",
     "output_type": "stream",
     "text": [
      "Requirement already satisfied: requests in /Users/soma/.pyenv/versions/3.10.0/lib/python3.10/site-packages (2.26.0)\n",
      "Requirement already satisfied: certifi>=2017.4.17 in /Users/soma/.pyenv/versions/3.10.0/lib/python3.10/site-packages (from requests) (2021.10.8)\n",
      "Requirement already satisfied: idna<4,>=2.5 in /Users/soma/.pyenv/versions/3.10.0/lib/python3.10/site-packages (from requests) (3.3)\n",
      "Requirement already satisfied: urllib3<1.27,>=1.21.1 in /Users/soma/.pyenv/versions/3.10.0/lib/python3.10/site-packages (from requests) (1.26.7)\n",
      "Requirement already satisfied: charset-normalizer~=2.0.0 in /Users/soma/.pyenv/versions/3.10.0/lib/python3.10/site-packages (from requests) (2.0.7)\n",
      "\u001b[33mWARNING: You are using pip version 21.2.3; however, version 21.3.1 is available.\n",
      "You should consider upgrading via the '/Users/soma/.pyenv/versions/3.10.0/bin/python3.10 -m pip install --upgrade pip' command.\u001b[0m\n"
     ]
    }
   ],
   "source": [
    "!pip install requests"
   ]
  },
  {
   "cell_type": "code",
   "execution_count": 12,
   "id": "18cc6f11",
   "metadata": {},
   "outputs": [
    {
     "name": "stdout",
     "output_type": "stream",
     "text": [
      "# How do you start a Jupyter notebook server?\r\n",
      "\r\n",
      "jupyter notebook\r\n",
      "\r\n",
      "# How do you stop a Jupyter notebook server?\r\n",
      "\r\n",
      "ctrl+c (hold down ctrl, press c)\r\n",
      "DO YOU REALLY WANT TO?, then press y\r\n",
      "exit()\r\n",
      "exit\r\n",
      "\\q\r\n",
      "\r\n",
      "# APIs don’t usually give us CSV files – what data format do they use?\r\n",
      "\r\n",
      "# My editor wants me to use the urllib library to talk to an API. What do I do?\r\n",
      "\r\n",
      "# When you’re using an API, what does the word “endpoint” mean?\r\n",
      "\r\n",
      "# We're trying to run the code below, but we get the error (also below). What went wrong, and how do we fix it?\r\n",
      "\r\n",
      "# WELCOME TO THE BUBBLEGUM API\r\n",
      "# Dear User,\r\n",
      "# Welcome to the Bubblegum JSON API, available at api.bubblegum.com! Your API key is b335. Endpoints are below.\r\n",
      "# Note: Your API key must be added to the end of the URL using the parameter APIKEY, like: ?APIKEY=[APIKEY]\r\n",
      "\r\n",
      "\r\n",
      "# What is the full URL to retrieve complete data for the gum named “Minty Fresh”?\r\n",
      "\r\n",
      "# Request a list of all gum flavors, and print each flavor’s name\r\n",
      "\r\n"
     ]
    }
   ],
   "source": [
    "# Put a ! in the front of it and it means \"IM IN THE TERMINAL\"\n",
    "# \"bang\"\n",
    "# !! = \"bangbang\" = runs the last command again\n",
    "!cat do-now-answers.md"
   ]
  },
  {
   "cell_type": "code",
   "execution_count": 49,
   "id": "a2ec69d3",
   "metadata": {},
   "outputs": [],
   "source": [
    "cities = [\n",
    "    {'name': 'NYC', 'pop': 5},\n",
    "    {'name': 'LA', 'pop': 15},\n",
    "    {'name': 'Chicago', 'pop': 35}\n",
    "]\n",
    "\n",
    "\n",
    "data = {\n",
    "    'city_info': [\n",
    "        {'name': 'NYC', 'pop': 5},\n",
    "        {'name': 'LA', 'pop': 15},\n",
    "        {'name': 'Chicago', 'pop': 35}\n",
    "    ]\n",
    "}"
   ]
  },
  {
   "cell_type": "code",
   "execution_count": 50,
   "id": "1bcd6a98",
   "metadata": {},
   "outputs": [
    {
     "name": "stdout",
     "output_type": "stream",
     "text": [
      "NYC\n",
      "LA\n",
      "Chicago\n"
     ]
    }
   ],
   "source": [
    "for city in data['city_info']:\n",
    "    print(city['name'])"
   ]
  },
  {
   "cell_type": "code",
   "execution_count": 14,
   "id": "40805261",
   "metadata": {},
   "outputs": [
    {
     "name": "stdout",
     "output_type": "stream",
     "text": [
      "NYC\n",
      "LA\n",
      "Chicago\n"
     ]
    }
   ],
   "source": [
    "for city in cities:\n",
    "    print(city['name'])"
   ]
  },
  {
   "cell_type": "code",
   "execution_count": 15,
   "id": "716392ac",
   "metadata": {},
   "outputs": [
    {
     "name": "stdout",
     "output_type": "stream",
     "text": [
      "NYC\n",
      "LA\n",
      "Chicago\n"
     ]
    }
   ],
   "source": [
    "# I want to find all of the people who used\n",
    "# grep\n",
    "\n",
    "for city in range(len(cities)):\n",
    "    print(cities[city]['name'])"
   ]
  },
  {
   "cell_type": "code",
   "execution_count": 16,
   "id": "cc2c0332",
   "metadata": {},
   "outputs": [
    {
     "data": {
      "text/plain": [
       "3"
      ]
     },
     "execution_count": 16,
     "metadata": {},
     "output_type": "execute_result"
    }
   ],
   "source": [
    "len(cities)"
   ]
  },
  {
   "cell_type": "code",
   "execution_count": 24,
   "id": "547ecf93",
   "metadata": {},
   "outputs": [
    {
     "data": {
      "text/plain": [
       "range(1989, 1993)"
      ]
     },
     "execution_count": 24,
     "metadata": {},
     "output_type": "execute_result"
    }
   ],
   "source": [
    "range(1989, 1993)"
   ]
  },
  {
   "cell_type": "code",
   "execution_count": 25,
   "id": "8480393c",
   "metadata": {},
   "outputs": [
    {
     "data": {
      "text/plain": [
       "[1989, 1990, 1991, 1992]"
      ]
     },
     "execution_count": 25,
     "metadata": {},
     "output_type": "execute_result"
    }
   ],
   "source": [
    "list(range(1989, 1993))"
   ]
  },
  {
   "cell_type": "code",
   "execution_count": 29,
   "id": "a79b1416",
   "metadata": {},
   "outputs": [
    {
     "name": "stdout",
     "output_type": "stream",
     "text": [
      "0\n",
      "1\n",
      "2\n"
     ]
    }
   ],
   "source": [
    "# for city in range(len(cities))\n",
    "# is the same as\n",
    "for city in [0, 1, 2]:\n",
    "    print(city)"
   ]
  },
  {
   "cell_type": "code",
   "execution_count": 31,
   "id": "257c57f6",
   "metadata": {},
   "outputs": [
    {
     "name": "stdout",
     "output_type": "stream",
     "text": [
      "0\n",
      "1\n",
      "2\n"
     ]
    }
   ],
   "source": [
    "indices = [0, 1, 2]\n",
    "for index in indices:\n",
    "    print(index)"
   ]
  },
  {
   "cell_type": "code",
   "execution_count": 33,
   "id": "ef77df18",
   "metadata": {},
   "outputs": [
    {
     "data": {
      "text/plain": [
       "{'name': 'NYC', 'pop': 5}"
      ]
     },
     "execution_count": 33,
     "metadata": {},
     "output_type": "execute_result"
    }
   ],
   "source": [
    "cities[0]"
   ]
  },
  {
   "cell_type": "code",
   "execution_count": 34,
   "id": "21793e10",
   "metadata": {},
   "outputs": [
    {
     "data": {
      "text/plain": [
       "{'name': 'LA', 'pop': 15}"
      ]
     },
     "execution_count": 34,
     "metadata": {},
     "output_type": "execute_result"
    }
   ],
   "source": [
    "cities[1]"
   ]
  },
  {
   "cell_type": "code",
   "execution_count": 35,
   "id": "b326318a",
   "metadata": {},
   "outputs": [
    {
     "data": {
      "text/plain": [
       "{'name': 'Chicago', 'pop': 35}"
      ]
     },
     "execution_count": 35,
     "metadata": {},
     "output_type": "execute_result"
    }
   ],
   "source": [
    "cities[2]"
   ]
  },
  {
   "cell_type": "code",
   "execution_count": 36,
   "id": "2e64098f",
   "metadata": {},
   "outputs": [
    {
     "name": "stdout",
     "output_type": "stream",
     "text": [
      "{'name': 'NYC', 'pop': 5}\n",
      "{'name': 'LA', 'pop': 15}\n",
      "{'name': 'Chicago', 'pop': 35}\n"
     ]
    }
   ],
   "source": [
    "indices = [0, 1, 2]\n",
    "for index in indices:\n",
    "    # cities[0]\n",
    "    # cities[1]\n",
    "    # cities[2]\n",
    "    print(cities[index])"
   ]
  },
  {
   "cell_type": "code",
   "execution_count": 37,
   "id": "311e9c0e",
   "metadata": {},
   "outputs": [
    {
     "name": "stdout",
     "output_type": "stream",
     "text": [
      "NYC\n",
      "LA\n",
      "Chicago\n"
     ]
    }
   ],
   "source": [
    "indices = [0, 1, 2]\n",
    "for index in indices:\n",
    "    print(cities[index]['name'])"
   ]
  },
  {
   "cell_type": "code",
   "execution_count": 38,
   "id": "c0c4d146",
   "metadata": {},
   "outputs": [
    {
     "name": "stdout",
     "output_type": "stream",
     "text": [
      "NYC\n",
      "LA\n",
      "Chicago\n"
     ]
    }
   ],
   "source": [
    "for city in range(len(cities)):\n",
    "    print(cities[city]['name'])"
   ]
  },
  {
   "cell_type": "code",
   "execution_count": 39,
   "id": "538abdd7",
   "metadata": {},
   "outputs": [
    {
     "name": "stdout",
     "output_type": "stream",
     "text": [
      "NYC\n",
      "LA\n",
      "Chicago\n"
     ]
    }
   ],
   "source": [
    "for city in cities:\n",
    "    print(city['name'])"
   ]
  },
  {
   "cell_type": "code",
   "execution_count": 42,
   "id": "9c066d03",
   "metadata": {},
   "outputs": [
    {
     "data": {
      "text/plain": [
       "3"
      ]
     },
     "execution_count": 42,
     "metadata": {},
     "output_type": "execute_result"
    }
   ],
   "source": [
    "len(cities)"
   ]
  },
  {
   "cell_type": "code",
   "execution_count": 46,
   "id": "b73d1d54",
   "metadata": {},
   "outputs": [
    {
     "name": "stdout",
     "output_type": "stream",
     "text": [
      "I have a seen 0 cities\n",
      "NYC\n",
      "I have a seen 1 cities\n",
      "LA\n",
      "I have a seen 2 cities\n",
      "Chicago\n"
     ]
    },
    {
     "data": {
      "text/plain": [
       "3"
      ]
     },
     "execution_count": 46,
     "metadata": {},
     "output_type": "execute_result"
    }
   ],
   "source": [
    "total = 0\n",
    "for city in cities:\n",
    "    print(f\"I have a seen {total} cities\")\n",
    "    print(cities[total]['name'])\n",
    "    total = total + 1\n",
    "total"
   ]
  },
  {
   "cell_type": "markdown",
   "id": "a4db488d",
   "metadata": {},
   "source": [
    "# Here's the rule\n",
    "\n",
    "## It's very important and it's about loops\n",
    "\n",
    "If you are talking about your list inside of your for loop, **you're doing something wrong.**\n",
    "\n",
    "If you don't get it, maybe [go read the class notes](https://jonathansoma.com/course/foundations-2021/)"
   ]
  },
  {
   "cell_type": "code",
   "execution_count": 48,
   "id": "9b542337",
   "metadata": {},
   "outputs": [
    {
     "name": "stdout",
     "output_type": "stream",
     "text": [
      "['electrocute']\n"
     ]
    }
   ],
   "source": [
    "data = {\n",
    "    'abilities': ['electrocute']\n",
    "}\n",
    "\n",
    "for ability in data['abilities']:\n",
    "    print(data['abilities'])"
   ]
  },
  {
   "cell_type": "code",
   "execution_count": null,
   "id": "eec33508",
   "metadata": {},
   "outputs": [],
   "source": []
  }
 ],
 "metadata": {
  "kernelspec": {
   "display_name": "Python 3",
   "language": "python",
   "name": "python3"
  },
  "language_info": {
   "codemirror_mode": {
    "name": "ipython",
    "version": 3
   },
   "file_extension": ".py",
   "mimetype": "text/x-python",
   "name": "python",
   "nbconvert_exporter": "python",
   "pygments_lexer": "ipython3",
   "version": "3.8.2"
  }
 },
 "nbformat": 4,
 "nbformat_minor": 5
}
