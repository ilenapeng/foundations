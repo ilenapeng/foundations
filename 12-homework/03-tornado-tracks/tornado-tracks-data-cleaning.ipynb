{
 "cells": [
  {
   "cell_type": "code",
   "execution_count": 1,
   "id": "f44ce87b",
   "metadata": {},
   "outputs": [
    {
     "name": "stderr",
     "output_type": "stream",
     "text": [
      "/Users/ilenapeng/.pyenv/versions/3.9.7/lib/python3.9/site-packages/pandas/compat/__init__.py:124: UserWarning: Could not import the lzma module. Your installed Python is incomplete. Attempting to use lzma compression will result in a RuntimeError.\n",
      "  warnings.warn(msg)\n"
     ]
    }
   ],
   "source": [
    "import pandas as pd\n",
    "df = pd.read_csv(\"1950-2017_torn.csv\")\n",
    "\n",
    "# Remove tornadoes missing an end point\n",
    "df = df[df.elon != 0]\n",
    "\n",
    "# Add a Well-Known Text column\n",
    "# See https://en.wikipedia.org/wiki/Well-known_text_representation_of_geometry\n",
    "df['wkt_geom'] = 'linestring(' + df.slon.astype(str) + ' ' + df.slat.astype(str) + ',' + df.elon.astype(str) + ' ' + df.elat.astype(str) + ')'\n",
    "\n",
    "df.to_csv(\"tornados_fixed.csv\", index=False)"
   ]
  }
 ],
 "metadata": {
  "kernelspec": {
   "display_name": "Python 3 (ipykernel)",
   "language": "python",
   "name": "python3"
  },
  "language_info": {
   "codemirror_mode": {
    "name": "ipython",
    "version": 3
   },
   "file_extension": ".py",
   "mimetype": "text/x-python",
   "name": "python",
   "nbconvert_exporter": "python",
   "pygments_lexer": "ipython3",
   "version": "3.9.7"
  }
 },
 "nbformat": 4,
 "nbformat_minor": 5
}
