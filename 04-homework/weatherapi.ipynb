{
 "cells": [
  {
   "cell_type": "markdown",
   "metadata": {},
   "source": [
    "# WeatherAPI (Weather)\n",
    "\n",
    "Answer the following questions using [WeatherAPI](http://www.weatherapi.com/). I've added three cells for most questions but you're free to use more or less! Hold `Shift` and hit `Enter` to run a cell, and use the `+` on the top left to add a new cell to a notebook.\n",
    "\n",
    "Be sure to take advantage of both the documentation and the API Explorer!\n",
    "\n",
    "## 0) Import any libraries you might need\n",
    "\n",
    "- *Tip: We're going to be downloading things from the internet, so we probably need `requests`.*\n",
    "- *Tip: Remember you only need to import requests once!*"
   ]
  },
  {
   "cell_type": "code",
   "execution_count": 1,
   "metadata": {},
   "outputs": [],
   "source": [
    "import requests"
   ]
  },
  {
   "cell_type": "markdown",
   "metadata": {
    "collapsed": true
   },
   "source": [
    "## 1) Make a request to the Weather API for where you were born (or lived, or want to visit!).\n",
    "\n",
    "- *Tip: The URL we used in class was for a place near San Francisco. What was the format of the endpoint that made this happen?*\n",
    "- *Tip: Save the URL as a separate variable, and be sure to not have `[` and `]` inside.*\n",
    "- *Tip: How is north vs. south and east vs. west latitude/longitude represented? Is it the normal North/South/East/West?*\n",
    "- *Tip: You know it's JSON, but Python doesn't! Make sure you aren't trying to deal with plain text.* \n",
    "- *Tip: Once you've imported the JSON into a variable, check the timezone's name to make sure it seems like it got the right part of the world!*"
   ]
  },
  {
   "cell_type": "code",
   "execution_count": 2,
   "metadata": {},
   "outputs": [],
   "source": [
    "url_cupertino = \"http://api.weatherapi.com/v1/current.json?key=1a6fa10583f54fcdbfa115430210411&q=95014&aqi=no\"\n",
    "\n",
    "response_cupertino = requests.get(url_cupertino)\n",
    "data_cupertino = response_cupertino.json()"
   ]
  },
  {
   "cell_type": "code",
   "execution_count": 3,
   "metadata": {},
   "outputs": [
    {
     "name": "stdout",
     "output_type": "stream",
     "text": [
      "America/Los_Angeles\n"
     ]
    }
   ],
   "source": [
    "print(data_cupertino['location']['tz_id'])"
   ]
  },
  {
   "cell_type": "markdown",
   "metadata": {},
   "source": [
    "## 2) What's the current wind speed? How much warmer does it feel than it actually is?\n",
    "\n",
    "- *Tip: You can do this by browsing through the dictionaries, but it might be easier to read the documentation*\n",
    "- *Tip: For the second half: it **is** one temperature, and it **feels** a different temperature. Calculate the difference.*"
   ]
  },
  {
   "cell_type": "code",
   "execution_count": 4,
   "metadata": {},
   "outputs": [
    {
     "name": "stdout",
     "output_type": "stream",
     "text": [
      "{'last_updated_epoch': 1636422300, 'last_updated': '2021-11-08 17:45', 'temp_c': 17.0, 'temp_f': 62.6, 'is_day': 0, 'condition': {'text': 'Overcast', 'icon': '//cdn.weatherapi.com/weather/64x64/night/122.png', 'code': 1009}, 'wind_mph': 6.9, 'wind_kph': 11.2, 'wind_degree': 160, 'wind_dir': 'SSE', 'pressure_mb': 1016.0, 'pressure_in': 30.0, 'precip_mm': 0.0, 'precip_in': 0.0, 'humidity': 36, 'cloud': 100, 'feelslike_c': 17.0, 'feelslike_f': 62.6, 'vis_km': 14.0, 'vis_miles': 8.0, 'uv': 5.0, 'gust_mph': 3.8, 'gust_kph': 6.1}\n"
     ]
    }
   ],
   "source": [
    "print(data_cupertino['current'])"
   ]
  },
  {
   "cell_type": "code",
   "execution_count": 5,
   "metadata": {},
   "outputs": [
    {
     "name": "stdout",
     "output_type": "stream",
     "text": [
      "6.9\n"
     ]
    }
   ],
   "source": [
    "# current wind speed\n",
    "print(data_cupertino['current']['wind_mph'])"
   ]
  },
  {
   "cell_type": "code",
   "execution_count": 6,
   "metadata": {},
   "outputs": [
    {
     "name": "stdout",
     "output_type": "stream",
     "text": [
      "0.0\n"
     ]
    }
   ],
   "source": [
    "# difference between actual and feels like temperature\n",
    "current_temp = data_cupertino['current']['temp_f']\n",
    "feels_like = data_cupertino['current']['feelslike_f']\n",
    "\n",
    "difference = current_temp - feels_like\n",
    "print(difference)"
   ]
  },
  {
   "cell_type": "markdown",
   "metadata": {},
   "source": [
    "## 3) What is the API endpoint for moon-related information? For the place you decided on above, how much of the moon will be visible tomorrow?\n",
    "\n",
    "- *Tip: Check the documentation!*\n",
    "- *Tip: If you aren't sure what something means, ask in Slack*"
   ]
  },
  {
   "cell_type": "code",
   "execution_count": 7,
   "metadata": {},
   "outputs": [],
   "source": [
    "# The API endpoint is http://api.weatherapi.com/v1/astronomy.json\n",
    "url_moon = \"http://api.weatherapi.com/v1/astronomy.json?key=1a6fa10583f54fcdbfa115430210411&q=Cupertino&dt=2021-11-09\"\n",
    "\n",
    "response_moon = requests.get(url_moon)\n",
    "data_moon = response_moon.json()"
   ]
  },
  {
   "cell_type": "code",
   "execution_count": 8,
   "metadata": {},
   "outputs": [
    {
     "name": "stdout",
     "output_type": "stream",
     "text": [
      "29\n"
     ]
    }
   ],
   "source": [
    "# print(data.keys())\n",
    "# print(data['astronomy'])\n",
    "print(data_moon['astronomy']['astro']['moon_illumination'])"
   ]
  },
  {
   "cell_type": "markdown",
   "metadata": {},
   "source": [
    "## 4) What's the difference between the high and low temperatures for today?\n",
    "\n",
    "- *Tip: When you requested moon data, you probably overwrote your variables! If so, you'll need to make a new request.*"
   ]
  },
  {
   "cell_type": "code",
   "execution_count": 9,
   "metadata": {},
   "outputs": [],
   "source": [
    "# No max/min temp in the current temperatures for the day -- need to look at the forecast\n",
    "url_forecast = \"http://api.weatherapi.com/v1/forecast.json?key=1a6fa10583f54fcdbfa115430210411&q=Cupertino&days=3&aqi=no&alerts=no\"\n",
    "\n",
    "response_forecast = requests.get(url_forecast)\n",
    "data_forecast = response_forecast.json()"
   ]
  },
  {
   "cell_type": "code",
   "execution_count": 10,
   "metadata": {},
   "outputs": [
    {
     "name": "stdout",
     "output_type": "stream",
     "text": [
      "19.6\n"
     ]
    }
   ],
   "source": [
    "# print(data_forecast.keys())\n",
    "# print(data_forecast['forecast'])\n",
    "max_temp = data_forecast['forecast']['forecastday'][0]['day']['maxtemp_f']\n",
    "min_temp = data_forecast['forecast']['forecastday'][0]['day']['mintemp_f']\n",
    "\n",
    "print(max_temp - min_temp)"
   ]
  },
  {
   "cell_type": "markdown",
   "metadata": {
    "collapsed": true
   },
   "source": [
    "## 4.5) How can you avoid the \"oh no I don't have the data any more because I made another request\" problem in the future?\n",
    "\n",
    "What variable(s) do you have to rename, and what would you rename them?"
   ]
  },
  {
   "cell_type": "code",
   "execution_count": 11,
   "metadata": {},
   "outputs": [],
   "source": [
    "# Did this in my above variables already, as opposed to renaming them in this block!\n",
    "# Added _cupertino to the end of url, response and data fields for requesting the Cupertino data\n",
    "# Added _moon to the end of url, response and data fields for requesting the Astronomy data\n",
    "# Added _forecast to the end of url, response and data fields for requesting the forecast data\n",
    "\n",
    "# Marked below are all the places where variables had to be renamed\n",
    "# url field here:\n",
    "# url_moon = \"http://api.weatherapi.com/v1/astronomy.json?key=1a6fa10583f54fcdbfa115430210411&q=Cupertino&dt=2021-11-09\"\n",
    "# # response and url field here:\n",
    "# response_moon = requests.get(url_moon)\n",
    "# # data and response field here:\n",
    "# data_moon = response_moon.json()"
   ]
  },
  {
   "cell_type": "markdown",
   "metadata": {},
   "source": [
    "## 5) Go through the daily forecasts, printing out the next three days' worth of predictions.\n",
    "\n",
    "I'd like to know the **high temperature** for each day, and whether it's **hot, warm, or cold** (based on what temperatures you think are hot, warm or cold).\n",
    "\n",
    "- *Tip: You'll need to use an `if` statement to say whether it is hot, warm or cold.*"
   ]
  },
  {
   "cell_type": "code",
   "execution_count": 12,
   "metadata": {},
   "outputs": [
    {
     "name": "stdout",
     "output_type": "stream",
     "text": [
      "63.7\n",
      "It's just right!\n",
      "61.5\n",
      "It's just right!\n",
      "67.1\n",
      "It's just right!\n"
     ]
    }
   ],
   "source": [
    "# print(data_forecast['forecast']['forecastday'][0]['day']['maxtemp_f'])\n",
    "\n",
    "# for day in data_forecast['forecast']['forecastday']:\n",
    "#     print (day['day']['maxtemp_f']) \n",
    "\n",
    "for day in data_forecast['forecast']['forecastday']:\n",
    "    print (day['day']['maxtemp_f']) \n",
    "    if day['day']['maxtemp_f'] > 80:\n",
    "        print(\"Yowza, it's hot!\")\n",
    "    if day['day']['maxtemp_f'] < 50:\n",
    "        print(\"Brrr, it's cold!\")\n",
    "    else:\n",
    "        print(\"It's just right!\")"
   ]
  },
  {
   "cell_type": "markdown",
   "metadata": {},
   "source": [
    "## 5b) The question above used to be an entire week, but not any more. Try to re-use the code above to print out seven days.\n",
    "\n",
    "What happens? Can you figure out why it doesn't work?\n",
    "\n",
    "* *Tip: it has to do with the reason you're using an API key - maybe take a look at the \"Air Quality Data\" introduction for a hint? If you can't figure it out right now, no worries.*"
   ]
  },
  {
   "cell_type": "code",
   "execution_count": 13,
   "metadata": {},
   "outputs": [],
   "source": [
    "url_forecast7 = \"http://api.weatherapi.com/v1/forecast.json?key=1a6fa10583f54fcdbfa115430210411&q=Cupertino&days=7&aqi=no&alerts=no\"\n",
    "\n",
    "response_forecast7 = requests.get(url_forecast)\n",
    "data_forecast7 = response_forecast7.json()"
   ]
  },
  {
   "cell_type": "code",
   "execution_count": 14,
   "metadata": {},
   "outputs": [
    {
     "name": "stdout",
     "output_type": "stream",
     "text": [
      "63.7\n",
      "It's just right!\n",
      "61.5\n",
      "It's just right!\n",
      "67.1\n",
      "It's just right!\n"
     ]
    }
   ],
   "source": [
    "# Nothing happens, it just returns the same three days we had before!\n",
    "for day in data_forecast7['forecast']['forecastday']:\n",
    "    print (day['day']['maxtemp_f']) \n",
    "    if day['day']['maxtemp_f'] > 80:\n",
    "        print(\"Yowza, it's hot!\")\n",
    "    if day['day']['maxtemp_f'] < 50:\n",
    "        print(\"Brrr, it's cold!\")\n",
    "    else:\n",
    "        print(\"It's just right!\")"
   ]
  },
  {
   "cell_type": "code",
   "execution_count": 15,
   "metadata": {},
   "outputs": [],
   "source": [
    "# This is because of the API key's limits\n",
    "# https://www.weatherapi.com/docs/ -> \"Air Quality\" section\n",
    "# \"Depending upon your subscription plan we provide current and 3 day air \n",
    "# quality data for the given location in json and xml.\""
   ]
  },
  {
   "cell_type": "markdown",
   "metadata": {},
   "source": [
    "## 6) What will be the hottest day in the next three days? What is the high temperature on that day?"
   ]
  },
  {
   "cell_type": "code",
   "execution_count": 16,
   "metadata": {},
   "outputs": [
    {
     "name": "stdout",
     "output_type": "stream",
     "text": [
      "2021-11-10 is the hottest day in the next three days with a temperature of 67.1\n"
     ]
    }
   ],
   "source": [
    "max_temp = 0\n",
    "max_temp_day = 0\n",
    "for day in data_forecast['forecast']['forecastday']:\n",
    "    if (day['day']['maxtemp_f'] > max_temp):\n",
    "            max_temp = day['day']['maxtemp_f']\n",
    "\n",
    "print(f\"{day['date']} is the hottest day in the next three days with a temperature of {max_temp}\")"
   ]
  },
  {
   "cell_type": "markdown",
   "metadata": {},
   "source": [
    "## 7) What's the weather looking like for the next 24+ hours in Miami, Florida?\n",
    "\n",
    "I'd like to know the temperature for every hour, and if it's going to have cloud cover of more than 50% say \"{temperature} and cloudy\" instead of just the temperature. \n",
    "\n",
    "- *Tip: You'll only need one day of forecast*"
   ]
  },
  {
   "cell_type": "code",
   "execution_count": 17,
   "metadata": {},
   "outputs": [],
   "source": [
    "url_miami = \"http://api.weatherapi.com/v1/forecast.json?key=1a6fa10583f54fcdbfa115430210411&q=Miami&days=1&aqi=no&alerts=no\"\n",
    "\n",
    "response_miami = requests.get(url_miami)\n",
    "data_miami = response_miami.json()"
   ]
  },
  {
   "cell_type": "code",
   "execution_count": 18,
   "metadata": {},
   "outputs": [
    {
     "name": "stdout",
     "output_type": "stream",
     "text": [
      "2021-11-08 00:00: 68.7\n",
      "2021-11-08 01:00: 67.8\n",
      "2021-11-08 02:00: 67.8\n",
      "2021-11-08 03:00: 67.5\n",
      "2021-11-08 04:00: 66.9\n",
      "2021-11-08 05:00: 65.5\n",
      "2021-11-08 06:00: 65.7\n",
      "2021-11-08 07:00: 65.7\n",
      "2021-11-08 08:00: 65.5\n",
      "2021-11-08 09:00: 66.2\n",
      "2021-11-08 10:00: 67.8\n",
      "2021-11-08 11:00: 74.7\n",
      "2021-11-08 12:00: 76.8\n",
      "2021-11-08 13:00: 78.4\n",
      "2021-11-08 14:00: 79.7\n",
      "2021-11-08 15:00: 80.6\n",
      "2021-11-08 16:00: 81.1\n",
      "2021-11-08 17:00: 81.1\n",
      "2021-11-08 18:00: 80.4\n",
      "2021-11-08 19:00: 77.5\n",
      "2021-11-08 20:00: 74.7\n",
      "2021-11-08 21:00: 74.7\n",
      "2021-11-08 22:00: 74.8\n",
      "2021-11-08 23:00: 74.5\n"
     ]
    }
   ],
   "source": [
    "# temperature for every hour\n",
    "# print(data_miami['forecast']['forecastday'][0].keys())\n",
    "# print(data_miami['forecast']['forecastday'][0]['hour'])\n",
    "\n",
    "# testing this out without the for loop\n",
    "# print(data_miami['forecast']['forecastday'][0]['hour'][0]['time'])\n",
    "# print(data_miami['forecast']['forecastday'][0]['hour'][0]['temp_f'])\n",
    "# print(data_miami['forecast']['forecastday'][0]['hour'][0]['cloud'])\n",
    "\n",
    "for hour in data_miami['forecast']['forecastday'][0]['hour']:\n",
    "    if hour['cloud'] > 50:\n",
    "        print(f\"{hour['time']}: {hour['temp_f']} and cloudy\")\n",
    "    else:\n",
    "        print(f\"{hour['time']}: {hour['temp_f']}\")"
   ]
  },
  {
   "cell_type": "markdown",
   "metadata": {},
   "source": [
    "## 8) For the next 24-ish hours in Miami, what percent of the time is the temperature above 85 degrees?\n",
    "\n",
    "- *Tip: You might want to read up on [looping patterns](http://jonathansoma.com/lede/foundations-2017/classes/data%20structures/looping-patterns/)*"
   ]
  },
  {
   "cell_type": "code",
   "execution_count": 19,
   "metadata": {},
   "outputs": [
    {
     "name": "stdout",
     "output_type": "stream",
     "text": [
      "For the next 24 hours in Miami, the temperature is above 85 degrees 0.0% of the time\n"
     ]
    }
   ],
   "source": [
    "above85_count = 0\n",
    "\n",
    "for hour in data_miami['forecast']['forecastday'][0]['hour']:\n",
    "  if hour['temp_f'] > 85:\n",
    "    above85_count = above85_count + 1\n",
    "\n",
    "# len(data_miami['forecast']['forecastday'][0]['hour']) -> returns 24\n",
    "above85_pct = above85_count/len(data_miami['forecast']['forecastday'][0]['hour'])\n",
    "\n",
    "print(f'For the next 24 hours in Miami, the temperature is above 85 degrees {above85_pct}% of the time')"
   ]
  },
  {
   "cell_type": "markdown",
   "metadata": {},
   "source": [
    "## 9) How much will it cost if you need to use 1,500,000 API calls?\n",
    "\n",
    "You are only allowed 1,000,000 API calls each month. If you were really bad at this homework or made some awful loops, WeatherAPI might shut down your free access. \n",
    "\n",
    "* *Tip: this involves looking somewhere that isn't the normal documentation.*"
   ]
  },
  {
   "cell_type": "code",
   "execution_count": 20,
   "metadata": {},
   "outputs": [],
   "source": [
    "# https://www.weatherapi.com/pricing.aspx\n",
    "# The Developer plan gets you 2 million calls per month"
   ]
  },
  {
   "cell_type": "markdown",
   "metadata": {},
   "source": [
    "## 10) You're too poor to spend more money! What else could you do instead of give them money?\n",
    "\n",
    "* *Tip: I'm not endorsing being sneaky, but newsrooms and students are both generally poverty-stricken.*"
   ]
  },
  {
   "cell_type": "code",
   "execution_count": 21,
   "metadata": {},
   "outputs": [],
   "source": [
    "# Sign up for a new account with a different email address"
   ]
  }
 ],
 "metadata": {
  "kernelspec": {
   "display_name": "Python 3 (ipykernel)",
   "language": "python",
   "name": "python3"
  },
  "language_info": {
   "codemirror_mode": {
    "name": "ipython",
    "version": 3
   },
   "file_extension": ".py",
   "mimetype": "text/x-python",
   "name": "python",
   "nbconvert_exporter": "python",
   "pygments_lexer": "ipython3",
   "version": "3.10.0"
  }
 },
 "nbformat": 4,
 "nbformat_minor": 1
}
