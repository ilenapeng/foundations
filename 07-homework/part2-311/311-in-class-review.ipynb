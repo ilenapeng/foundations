{
 "cells": [
  {
   "cell_type": "markdown",
   "id": "9d38926d",
   "metadata": {},
   "source": [
    "### Do your imports!"
   ]
  },
  {
   "cell_type": "code",
   "execution_count": 1,
   "id": "055005cf",
   "metadata": {},
   "outputs": [
    {
     "name": "stderr",
     "output_type": "stream",
     "text": [
      "/Users/ilenapeng/.pyenv/versions/3.9.7/lib/python3.9/site-packages/pandas/compat/__init__.py:124: UserWarning: Could not import the lzma module. Your installed Python is incomplete. Attempting to use lzma compression will result in a RuntimeError.\n",
      "  warnings.warn(msg)\n"
     ]
    }
   ],
   "source": [
    "import pandas as pd\n",
    "pd.set_option(\"display.max_columns\", None)\n",
    "# in the place of the 'None,' you can put a number to only show 3 columns or 10 columns\n",
    "# 'None' means no limit / show all columns"
   ]
  },
  {
   "cell_type": "markdown",
   "id": "0ad89e50",
   "metadata": {},
   "source": [
    "# 311 data analysis\n",
    "\n",
    "## Read in `subset.csv` and review the first few rows\n",
    "\n",
    "Even though it's a giant file – gigs and gigs! – it's a subset of the [entire dataset](https://data.cityofnewyork.us/Social-Services/311-Service-Requests-from-2010-to-Present/erm2-nwe9). It covers plenty of years, but not all of the columns.\n",
    "\n",
    "If your computer is struggling (which it will!) or you are impatient, feel free to use `nrows=` when reading it in to speed up the process by only reading in a subset of columns. Pull in at least a few million, or a couple years back."
   ]
  },
  {
   "cell_type": "code",
   "execution_count": 2,
   "id": "95ab0b53",
   "metadata": {
    "scrolled": true
   },
   "outputs": [
    {
     "name": "stderr",
     "output_type": "stream",
     "text": [
      "/Users/ilenapeng/.pyenv/versions/3.9.7/lib/python3.9/site-packages/IPython/core/interactiveshell.py:3444: DtypeWarning: Columns (8) have mixed types.Specify dtype option on import or set low_memory=False.\n",
      "  exec(code_obj, self.user_global_ns, self.user_ns)\n"
     ]
    }
   ],
   "source": [
    "df = pd.read_csv('subset.csv', nrows=500000)\n",
    "# df.sample takes longer because it reads all your data and then takes a sample\n",
    "# but df.sample allows you to select only 50% of my data OR specific rows\n",
    "# excel files, you can't do nrows, it'll read the whole thing\n",
    "\n",
    "# you can't tell pandas to say 'give me a random subset from this data, but don't read the whole file first'\n",
    "# if something was way too big to open here, you would open it in SQL and then ask them to give you a random subset\n",
    "# from 30 million rows"
   ]
  },
  {
   "cell_type": "code",
   "execution_count": 3,
   "id": "eb2942b4",
   "metadata": {},
   "outputs": [
    {
     "data": {
      "text/html": [
       "<div>\n",
       "<style scoped>\n",
       "    .dataframe tbody tr th:only-of-type {\n",
       "        vertical-align: middle;\n",
       "    }\n",
       "\n",
       "    .dataframe tbody tr th {\n",
       "        vertical-align: top;\n",
       "    }\n",
       "\n",
       "    .dataframe thead th {\n",
       "        text-align: right;\n",
       "    }\n",
       "</style>\n",
       "<table border=\"1\" class=\"dataframe\">\n",
       "  <thead>\n",
       "    <tr style=\"text-align: right;\">\n",
       "      <th></th>\n",
       "      <th>Unique Key</th>\n",
       "      <th>Created Date</th>\n",
       "      <th>Closed Date</th>\n",
       "      <th>Agency</th>\n",
       "      <th>Agency Name</th>\n",
       "      <th>Complaint Type</th>\n",
       "      <th>Descriptor</th>\n",
       "      <th>Location Type</th>\n",
       "      <th>Incident Zip</th>\n",
       "      <th>Incident Address</th>\n",
       "      <th>Address Type</th>\n",
       "      <th>City</th>\n",
       "      <th>Status</th>\n",
       "      <th>Borough</th>\n",
       "      <th>Open Data Channel Type</th>\n",
       "    </tr>\n",
       "  </thead>\n",
       "  <tbody>\n",
       "    <tr>\n",
       "      <th>0</th>\n",
       "      <td>41694420</td>\n",
       "      <td>01/27/2019 07:26:21 PM</td>\n",
       "      <td>02/13/2019 10:53:25 AM</td>\n",
       "      <td>HPD</td>\n",
       "      <td>Department of Housing Preservation and Develop...</td>\n",
       "      <td>GENERAL</td>\n",
       "      <td>BELL/BUZZER/INTERCOM</td>\n",
       "      <td>RESIDENTIAL BUILDING</td>\n",
       "      <td>11216</td>\n",
       "      <td>30 MAC DONOUGH STREET</td>\n",
       "      <td>ADDRESS</td>\n",
       "      <td>BROOKLYN</td>\n",
       "      <td>Closed</td>\n",
       "      <td>BROOKLYN</td>\n",
       "      <td>PHONE</td>\n",
       "    </tr>\n",
       "    <tr>\n",
       "      <th>1</th>\n",
       "      <td>41694421</td>\n",
       "      <td>01/29/2019 11:06:56 AM</td>\n",
       "      <td>02/13/2019 02:07:22 AM</td>\n",
       "      <td>HPD</td>\n",
       "      <td>Department of Housing Preservation and Develop...</td>\n",
       "      <td>PAINT/PLASTER</td>\n",
       "      <td>CEILING</td>\n",
       "      <td>RESIDENTIAL BUILDING</td>\n",
       "      <td>10453</td>\n",
       "      <td>30 RICHMAN PLAZA</td>\n",
       "      <td>ADDRESS</td>\n",
       "      <td>BRONX</td>\n",
       "      <td>Closed</td>\n",
       "      <td>BRONX</td>\n",
       "      <td>PHONE</td>\n",
       "    </tr>\n",
       "    <tr>\n",
       "      <th>2</th>\n",
       "      <td>41694422</td>\n",
       "      <td>02/13/2019 12:28:18 PM</td>\n",
       "      <td>03/15/2019 09:54:50 AM</td>\n",
       "      <td>DOF</td>\n",
       "      <td>External Affairs Unit</td>\n",
       "      <td>DOF Property - Payment Issue</td>\n",
       "      <td>Bill Received in Error</td>\n",
       "      <td>Property Address</td>\n",
       "      <td>11412</td>\n",
       "      <td>120-25 200 STREET</td>\n",
       "      <td>ADDRESS</td>\n",
       "      <td>SAINT ALBANS</td>\n",
       "      <td>Closed</td>\n",
       "      <td>QUEENS</td>\n",
       "      <td>PHONE</td>\n",
       "    </tr>\n",
       "    <tr>\n",
       "      <th>3</th>\n",
       "      <td>41694423</td>\n",
       "      <td>02/13/2019 03:40:19 PM</td>\n",
       "      <td>02/20/2019 06:18:35 AM</td>\n",
       "      <td>DOT</td>\n",
       "      <td>Department of Transportation</td>\n",
       "      <td>Broken Parking Meter</td>\n",
       "      <td>Out of Order</td>\n",
       "      <td>Street</td>\n",
       "      <td>11377</td>\n",
       "      <td>NaN</td>\n",
       "      <td>INTERSECTION</td>\n",
       "      <td>WOODSIDE</td>\n",
       "      <td>Closed</td>\n",
       "      <td>QUEENS</td>\n",
       "      <td>PHONE</td>\n",
       "    </tr>\n",
       "    <tr>\n",
       "      <th>4</th>\n",
       "      <td>41694424</td>\n",
       "      <td>02/13/2019 01:18:31 PM</td>\n",
       "      <td>02/20/2019 05:36:54 AM</td>\n",
       "      <td>DOT</td>\n",
       "      <td>Department of Transportation</td>\n",
       "      <td>Broken Parking Meter</td>\n",
       "      <td>Out of Order</td>\n",
       "      <td>Street</td>\n",
       "      <td>10461</td>\n",
       "      <td>1082 MORRIS PARK AVENUE</td>\n",
       "      <td>ADDRESS</td>\n",
       "      <td>BRONX</td>\n",
       "      <td>Closed</td>\n",
       "      <td>BRONX</td>\n",
       "      <td>PHONE</td>\n",
       "    </tr>\n",
       "  </tbody>\n",
       "</table>\n",
       "</div>"
      ],
      "text/plain": [
       "   Unique Key            Created Date             Closed Date Agency  \\\n",
       "0    41694420  01/27/2019 07:26:21 PM  02/13/2019 10:53:25 AM    HPD   \n",
       "1    41694421  01/29/2019 11:06:56 AM  02/13/2019 02:07:22 AM    HPD   \n",
       "2    41694422  02/13/2019 12:28:18 PM  03/15/2019 09:54:50 AM    DOF   \n",
       "3    41694423  02/13/2019 03:40:19 PM  02/20/2019 06:18:35 AM    DOT   \n",
       "4    41694424  02/13/2019 01:18:31 PM  02/20/2019 05:36:54 AM    DOT   \n",
       "\n",
       "                                         Agency Name  \\\n",
       "0  Department of Housing Preservation and Develop...   \n",
       "1  Department of Housing Preservation and Develop...   \n",
       "2                              External Affairs Unit   \n",
       "3                       Department of Transportation   \n",
       "4                       Department of Transportation   \n",
       "\n",
       "                 Complaint Type              Descriptor         Location Type  \\\n",
       "0                       GENERAL    BELL/BUZZER/INTERCOM  RESIDENTIAL BUILDING   \n",
       "1                 PAINT/PLASTER                 CEILING  RESIDENTIAL BUILDING   \n",
       "2  DOF Property - Payment Issue  Bill Received in Error      Property Address   \n",
       "3          Broken Parking Meter            Out of Order                Street   \n",
       "4          Broken Parking Meter            Out of Order                Street   \n",
       "\n",
       "  Incident Zip         Incident Address  Address Type          City  Status  \\\n",
       "0        11216    30 MAC DONOUGH STREET       ADDRESS      BROOKLYN  Closed   \n",
       "1        10453         30 RICHMAN PLAZA       ADDRESS         BRONX  Closed   \n",
       "2        11412        120-25 200 STREET       ADDRESS  SAINT ALBANS  Closed   \n",
       "3        11377                      NaN  INTERSECTION      WOODSIDE  Closed   \n",
       "4        10461  1082 MORRIS PARK AVENUE       ADDRESS         BRONX  Closed   \n",
       "\n",
       "    Borough Open Data Channel Type  \n",
       "0  BROOKLYN                  PHONE  \n",
       "1     BRONX                  PHONE  \n",
       "2    QUEENS                  PHONE  \n",
       "3    QUEENS                  PHONE  \n",
       "4     BRONX                  PHONE  "
      ]
     },
     "execution_count": 3,
     "metadata": {},
     "output_type": "execute_result"
    }
   ],
   "source": [
    "df.head(5)"
   ]
  },
  {
   "cell_type": "markdown",
   "id": "e870bd49",
   "metadata": {},
   "source": [
    "### Where the subset came from\n",
    "\n",
    "If you're curious, I took the [original data](https://data.cityofnewyork.us/Social-Services/311-Service-Requests-from-2010-to-Present/erm2-nwe9/data) and clipped out a subset by using the command-line tool [csvkit](https://csvkit.readthedocs.io/en/latest/).\n",
    "\n",
    "First I inspected the column headers:\n",
    "\n",
    "```bash\n",
    "$ csvcut -n 311_Service_Requests_from_2010_to_Present.csv \n",
    "```\n",
    "\n",
    "Then I selected the columns I was interested in and saved it to a file.\n",
    "\n",
    "```bash\n",
    "$ csvcut -c 1,2,3,4,5,6,7,8,9,10,16,17,20,26,29 311_Service_Requests_from_2010_to_Present.csv > subset.csv\n",
    "```\n",
    "\n",
    "This was much much much much faster than doing it in Python."
   ]
  },
  {
   "cell_type": "markdown",
   "id": "5584582a",
   "metadata": {},
   "source": [
    "## We want more columns!\n",
    "\n",
    "**Right now we don't see all of the columns.** For example, mine has `...` between the **Incident Address** column and the **City** column. Go up to the top where you imported pandas, and add a `pd.set_option` line that will allow you to view all of the columns of the dataset."
   ]
  },
  {
   "cell_type": "markdown",
   "id": "a63e2407",
   "metadata": {},
   "source": [
    "## We hate those column names!\n",
    "\n",
    "Change the column names to be tab- and period-friendly, like `df.created_date` instead of `df['Created Date']`"
   ]
  },
  {
   "cell_type": "code",
   "execution_count": 4,
   "id": "e7a06ffa",
   "metadata": {},
   "outputs": [
    {
     "data": {
      "text/plain": [
       "Index(['unique_key', 'created_date', 'closed_date', 'agency', 'agency_name',\n",
       "       'complaint_type', 'descriptor', 'location_type', 'incident_zip',\n",
       "       'incident_address', 'address_type', 'city', 'status', 'borough',\n",
       "       'open_data_channel_type'],\n",
       "      dtype='object')"
      ]
     },
     "execution_count": 4,
     "metadata": {},
     "output_type": "execute_result"
    }
   ],
   "source": [
    "df.columns = df.columns.str.lower().str.replace(' ','_')\n",
    "df.columns"
   ]
  },
  {
   "cell_type": "markdown",
   "id": "36ff2fc2",
   "metadata": {},
   "source": [
    "# Dates and times\n",
    "\n",
    "## Are the datetimes actually datetimes?\n",
    "\n",
    "We're going to be doing some datetime-y things, so let's see if the columns that look like dates are actually dates."
   ]
  },
  {
   "cell_type": "code",
   "execution_count": 5,
   "id": "57e32449",
   "metadata": {},
   "outputs": [
    {
     "data": {
      "text/plain": [
       "unique_key                 int64\n",
       "created_date              object\n",
       "closed_date               object\n",
       "agency                    object\n",
       "agency_name               object\n",
       "complaint_type            object\n",
       "descriptor                object\n",
       "location_type             object\n",
       "incident_zip              object\n",
       "incident_address          object\n",
       "address_type              object\n",
       "city                      object\n",
       "status                    object\n",
       "borough                   object\n",
       "open_data_channel_type    object\n",
       "dtype: object"
      ]
     },
     "execution_count": 5,
     "metadata": {},
     "output_type": "execute_result"
    }
   ],
   "source": [
    "df.dtypes"
   ]
  },
  {
   "cell_type": "markdown",
   "id": "d5338fad",
   "metadata": {},
   "source": [
    "## In they aren't datetimes, convert them\n",
    "\n",
    "The ones we're interested in are as follows:\n",
    "\n",
    "* Created Date\n",
    "* Closed Date\n",
    "\n",
    "You have two options to convert them:\n",
    "\n",
    "1. Do it like we did in class, but **overwrite the existing string columns with the new datetime versions**\n",
    "2. Find an option with `read_csv` to automatically read certain columns as dates! Use the shift+tab trick to read the `read_csv` docs to uncover it. Once you find it, you'll set it to be the **list of date-y columns**.\n",
    "\n",
    "They're both going to take forever if you do them wrong, but can be faster with a few tricks. For example, using `pd.to_datetime` can be sped up significantly be specifying the format of the datestring.\n",
    "\n",
    "For example, if your datetime was formatted as `YYYY-MM-DD HH:MM:SS AM`, you could use the following:\n",
    "\n",
    "```\n",
    "df.my_datetime = pd.to_datetime(df.my_datetime, format=\"%Y-%m-%d %I:%M:%S %p\")\n",
    "```\n",
    "\n",
    "It's unfortunately much much much faster than the `read_csv` technique. And yes, [that's `%I` and not `%H`](https://strftime.org/).\n",
    "\n",
    "> *Tip: What should happen if it encounters an error or missing data?*"
   ]
  },
  {
   "cell_type": "code",
   "execution_count": 6,
   "id": "91739685",
   "metadata": {},
   "outputs": [],
   "source": [
    "df.created_date = pd.to_datetime(df.created_date, format=\"%m/%d/%Y %I:%M:%S %p\")\n",
    "# specifying format is a lot faster on your computer than not specifying it\n",
    "# but sometimes pd.to_datetime doesn't work with any format that you put\n",
    "# %I is 12-hour clock. %H is 24-hour clock\n",
    "\n",
    "## ALSO TO NOTE: adding %%time to the beginning of any cell will tell you how long it takes to run"
   ]
  },
  {
   "cell_type": "code",
   "execution_count": 7,
   "id": "43885101",
   "metadata": {},
   "outputs": [],
   "source": [
    "df.closed_date = pd.to_datetime(df.closed_date, format=\"%m/%d/%Y %I:%M:%S %p\")"
   ]
  },
  {
   "cell_type": "code",
   "execution_count": 8,
   "id": "29535ceb",
   "metadata": {},
   "outputs": [
    {
     "data": {
      "text/plain": [
       "unique_key                         int64\n",
       "created_date              datetime64[ns]\n",
       "closed_date               datetime64[ns]\n",
       "agency                            object\n",
       "agency_name                       object\n",
       "complaint_type                    object\n",
       "descriptor                        object\n",
       "location_type                     object\n",
       "incident_zip                      object\n",
       "incident_address                  object\n",
       "address_type                      object\n",
       "city                              object\n",
       "status                            object\n",
       "borough                           object\n",
       "open_data_channel_type            object\n",
       "dtype: object"
      ]
     },
     "execution_count": 8,
     "metadata": {},
     "output_type": "execute_result"
    }
   ],
   "source": [
    "df.dtypes"
   ]
  },
  {
   "cell_type": "markdown",
   "id": "61949b07",
   "metadata": {},
   "source": [
    "## According to the dataset, which month of the year has the most 311 calls?\n",
    "\n",
    "The kind of answer we're looking for is \"January,\" not \"January 2021\""
   ]
  },
  {
   "cell_type": "code",
   "execution_count": 9,
   "id": "38149da1",
   "metadata": {},
   "outputs": [
    {
     "data": {
      "text/plain": [
       "03    199264\n",
       "04    166461\n",
       "02    105466\n",
       "01     12451\n",
       "12      4662\n",
       "11      1866\n",
       "10      1832\n",
       "08      1782\n",
       "09      1738\n",
       "07      1692\n",
       "06      1424\n",
       "05      1362\n",
       "Name: created_date, dtype: int64"
      ]
     },
     "execution_count": 9,
     "metadata": {},
     "output_type": "execute_result"
    }
   ],
   "source": [
    "df.created_date.dt.strftime('%m').value_counts()"
   ]
  },
  {
   "cell_type": "code",
   "execution_count": 10,
   "id": "6166392c",
   "metadata": {},
   "outputs": [
    {
     "data": {
      "text/plain": [
       "3     199264\n",
       "4     166461\n",
       "2     105466\n",
       "1      12451\n",
       "12      4662\n",
       "11      1866\n",
       "10      1832\n",
       "8       1782\n",
       "9       1738\n",
       "7       1692\n",
       "6       1424\n",
       "5       1362\n",
       "Name: created_date, dtype: int64"
      ]
     },
     "execution_count": 10,
     "metadata": {},
     "output_type": "execute_result"
    }
   ],
   "source": [
    "# CORRECT ANSWER\n",
    "# strftime can't be plotted because it'll plot out of order (it turns everything to a string)\n",
    "df.created_date.dt.month.value_counts()"
   ]
  },
  {
   "cell_type": "code",
   "execution_count": 11,
   "id": "968a006f",
   "metadata": {},
   "outputs": [
    {
     "data": {
      "text/plain": [
       "March        199264\n",
       "April        166461\n",
       "February     105466\n",
       "January       12451\n",
       "December       4662\n",
       "November       1866\n",
       "October        1832\n",
       "August         1782\n",
       "September      1738\n",
       "July           1692\n",
       "June           1424\n",
       "May            1362\n",
       "Name: created_date, dtype: int64"
      ]
     },
     "execution_count": 11,
     "metadata": {},
     "output_type": "execute_result"
    }
   ],
   "source": [
    "# To get the month name, if you really wanted it\n",
    "df.created_date.dt.strftime('%B').value_counts()"
   ]
  },
  {
   "cell_type": "code",
   "execution_count": 12,
   "id": "6cfc364c",
   "metadata": {},
   "outputs": [
    {
     "data": {
      "text/plain": [
       "March        199264\n",
       "April        166461\n",
       "February     105466\n",
       "January       12451\n",
       "December       4662\n",
       "November       1866\n",
       "October        1832\n",
       "August         1782\n",
       "September      1738\n",
       "July           1692\n",
       "June           1424\n",
       "May            1362\n",
       "Name: created_date, dtype: int64"
      ]
     },
     "execution_count": 12,
     "metadata": {},
     "output_type": "execute_result"
    }
   ],
   "source": [
    "# Another way to get the month name\n",
    "df.created_date.dt.month_name().value_counts()"
   ]
  },
  {
   "cell_type": "code",
   "execution_count": 13,
   "id": "f6bcdc8f",
   "metadata": {},
   "outputs": [],
   "source": [
    "# .dt -- every single January is combined into a super-January\n",
    "# .resample -- each year's January is SEPARATE"
   ]
  },
  {
   "cell_type": "markdown",
   "id": "4c03fb54",
   "metadata": {},
   "source": [
    "## According to the dataset, which month has had the most 311 calls?\n",
    "\n",
    "The kind of answer we're looking for is \"January 2021,\" not \"January\" (although _techniucally_ it will say `2021-01-31`, not `January 2021`)"
   ]
  },
  {
   "cell_type": "code",
   "execution_count": 14,
   "id": "12d75e39",
   "metadata": {},
   "outputs": [
    {
     "data": {
      "text/plain": [
       "19-03    197975\n",
       "19-04    165207\n",
       "19-02    104099\n",
       "19-01     10797\n",
       "18-12      4051\n",
       "Name: month_year, dtype: int64"
      ]
     },
     "execution_count": 14,
     "metadata": {},
     "output_type": "execute_result"
    }
   ],
   "source": [
    "df['month_year'] = df.created_date.dt.strftime('%y-%m')\n",
    "df.month_year.value_counts().head(5)"
   ]
  },
  {
   "cell_type": "code",
   "execution_count": 15,
   "id": "45756a4b",
   "metadata": {},
   "outputs": [
    {
     "data": {
      "text/plain": [
       "created_date\n",
       "2019-03-31    197975\n",
       "2019-04-30    165207\n",
       "2019-02-28    104099\n",
       "2019-01-31     10797\n",
       "2018-12-31      4051\n",
       "               ...  \n",
       "2011-01-31         2\n",
       "2010-10-31         1\n",
       "2010-09-30         1\n",
       "2012-03-31         1\n",
       "2010-08-31         1\n",
       "Length: 105, dtype: int64"
      ]
     },
     "execution_count": 15,
     "metadata": {},
     "output_type": "execute_result"
    }
   ],
   "source": [
    "# CORRECT ANSWER: uses resample\n",
    "# resample = groupby of time\n",
    "# resample has to use size, you can't use value_counts()\n",
    "# M - group by month, on = the variable to look at\n",
    "df.resample('M', on='created_date').size().sort_values(ascending=False)"
   ]
  },
  {
   "cell_type": "markdown",
   "id": "0113e7e7",
   "metadata": {},
   "source": [
    "## Plot the 311 call frequency over our dataset on a _weekly_ basis\n",
    "\n",
    "To make your y axis start at zero, use `ylim=(0,100000)` when doing `.plot`. But replace the `1000` with a large enough value to actually see your data nicely!"
   ]
  },
  {
   "cell_type": "code",
   "execution_count": 16,
   "id": "691e80cf",
   "metadata": {},
   "outputs": [
    {
     "data": {
      "text/plain": [
       "<AxesSubplot:>"
      ]
     },
     "execution_count": 16,
     "metadata": {},
     "output_type": "execute_result"
    },
    {
     "data": {
      "image/png": "[encoded data removed]",
      "text/plain": [
       "<Figure size 432x288 with 1 Axes>"
      ]
     },
     "metadata": {
      "needs_background": "light"
     },
     "output_type": "display_data"
    }
   ],
   "source": [
    "# This is WRONG, I accidentally did this monthly instead of weekly\n",
    "df.month_year.value_counts().sort_index().plot()\n",
    "# my chart already started from 0! so I didn't use ylim here"
   ]
  },
  {
   "cell_type": "code",
   "execution_count": 17,
   "id": "a49de68f",
   "metadata": {},
   "outputs": [
    {
     "data": {
      "text/plain": [
       "<AxesSubplot:xlabel='created_date'>"
      ]
     },
     "execution_count": 17,
     "metadata": {},
     "output_type": "execute_result"
    },
    {
     "data": {
      "image/png": "[encoded data removed]",
      "text/plain": [
       "<Figure size 432x288 with 1 Axes>"
      ]
     },
     "metadata": {
      "needs_background": "light"
     },
     "output_type": "display_data"
    }
   ],
   "source": [
    "# CORRECT ANSWER:\n",
    "df.resample('W', on='created_date').size().plot()"
   ]
  },
  {
   "cell_type": "markdown",
   "id": "4fe8dc9a",
   "metadata": {},
   "source": [
    "## What time of day (by hour) is the most least for 311 complains? The most common?\n"
   ]
  },
  {
   "cell_type": "code",
   "execution_count": 18,
   "id": "7a7452bc",
   "metadata": {},
   "outputs": [
    {
     "data": {
      "text/plain": [
       "11 AM    34489\n",
       "10 AM    34202\n",
       "09 AM    32768\n",
       "12 PM    32677\n",
       "01 PM    30788\n",
       "02 PM    30716\n",
       "03 PM    29716\n",
       "04 PM    27935\n",
       "08 AM    24909\n",
       "05 PM    23284\n",
       "06 PM    21734\n",
       "09 PM    21244\n",
       "10 PM    21082\n",
       "08 PM    20813\n",
       "07 PM    20721\n",
       "12 AM    20243\n",
       "11 PM    18288\n",
       "07 AM    15453\n",
       "01 AM     9881\n",
       "06 AM     9108\n",
       "02 AM     5995\n",
       "05 AM     5140\n",
       "03 AM     4649\n",
       "04 AM     4165\n",
       "Name: created_date, dtype: int64"
      ]
     },
     "execution_count": 18,
     "metadata": {},
     "output_type": "execute_result"
    }
   ],
   "source": [
    "df.created_date.dt.strftime('%I %p').value_counts()"
   ]
  },
  {
   "cell_type": "code",
   "execution_count": 19,
   "id": "7675fa03",
   "metadata": {},
   "outputs": [
    {
     "data": {
      "text/plain": [
       "0     20243\n",
       "1      9881\n",
       "2      5995\n",
       "3      4649\n",
       "4      4165\n",
       "5      5140\n",
       "6      9108\n",
       "7     15453\n",
       "8     24909\n",
       "9     32768\n",
       "10    34202\n",
       "11    34489\n",
       "12    32677\n",
       "13    30788\n",
       "14    30716\n",
       "15    29716\n",
       "16    27935\n",
       "17    23284\n",
       "18    21734\n",
       "19    20721\n",
       "20    20813\n",
       "21    21244\n",
       "22    21082\n",
       "23    18288\n",
       "Name: created_date, dtype: int64"
      ]
     },
     "execution_count": 19,
     "metadata": {},
     "output_type": "execute_result"
    }
   ],
   "source": [
    "# CORRECT ANSWER:\n",
    "df.created_date.dt.hour.value_counts().sort_index()"
   ]
  },
  {
   "cell_type": "markdown",
   "id": "1001c432",
   "metadata": {},
   "source": [
    "### Make a graph of the results\n",
    "\n",
    "* Make sure the hours are in the correct order\n",
    "* Be sure to set the y-axis to start at 0\n",
    "* Give your plot a descriptive title"
   ]
  },
  {
   "cell_type": "code",
   "execution_count": 20,
   "id": "9c2c4689",
   "metadata": {},
   "outputs": [
    {
     "data": {
      "text/plain": [
       "<AxesSubplot:title={'center':'NY 311 Calls Per Hour'}>"
      ]
     },
     "execution_count": 20,
     "metadata": {},
     "output_type": "execute_result"
    },
    {
     "data": {
      "image/png": "[encoded data removed]",
      "text/plain": [
       "<Figure size 432x288 with 1 Axes>"
      ]
     },
     "metadata": {
      "needs_background": "light"
     },
     "output_type": "display_data"
    }
   ],
   "source": [
    "df.created_date.dt.strftime('%I %p').value_counts().sort_index().plot(title='NY 311 Calls Per Hour')"
   ]
  },
  {
   "cell_type": "code",
   "execution_count": 21,
   "id": "60938596",
   "metadata": {},
   "outputs": [
    {
     "data": {
      "text/plain": [
       "<AxesSubplot:title={'center':'NY 311 Calls Per Hour'}>"
      ]
     },
     "execution_count": 21,
     "metadata": {},
     "output_type": "execute_result"
    },
    {
     "data": {
      "image/png": "[encoded data removed]",
      "text/plain": [
       "<Figure size 432x288 with 1 Axes>"
      ]
     },
     "metadata": {
      "needs_background": "light"
     },
     "output_type": "display_data"
    }
   ],
   "source": [
    "# CORRECT ANSWER:\n",
    "df.created_date.dt.hour.value_counts().sort_index().plot(title='NY 311 Calls Per Hour')"
   ]
  },
  {
   "cell_type": "markdown",
   "id": "dd2d2905",
   "metadata": {},
   "source": [
    "# Agencies\n",
    "\n",
    "## What agencies field the most complaints in the dataset? Get the top 5.\n",
    "\n",
    "Use the `agency` column for this one."
   ]
  },
  {
   "cell_type": "code",
   "execution_count": 22,
   "id": "22000a0e",
   "metadata": {},
   "outputs": [
    {
     "data": {
      "text/plain": [
       "NYPD    143417\n",
       "HPD     132810\n",
       "DSNY     70815\n",
       "DOT      54411\n",
       "DOB      38580\n",
       "Name: agency, dtype: int64"
      ]
     },
     "execution_count": 22,
     "metadata": {},
     "output_type": "execute_result"
    }
   ],
   "source": [
    "df.agency.value_counts().head(5)"
   ]
  },
  {
   "cell_type": "markdown",
   "id": "3469fc64",
   "metadata": {},
   "source": [
    "## What are each of those agencies?\n",
    "\n",
    "Define the following five acronyms:\n",
    "\n",
    "* NYPD\n",
    "* HPD\n",
    "* DOT\n",
    "* DSNY\n",
    "* DEP"
   ]
  },
  {
   "cell_type": "code",
   "execution_count": 23,
   "id": "0c588062",
   "metadata": {},
   "outputs": [
    {
     "data": {
      "text/plain": [
       "New York City Police Department                       143125\n",
       "Department of Housing Preservation and Development    132806\n",
       "Department of Transportation                           54411\n",
       "Department of Sanitation                               46261\n",
       "Department of Buildings                                38580\n",
       "Department of Environmental Protection                 32938\n",
       "Name: agency_name, dtype: int64"
      ]
     },
     "execution_count": 23,
     "metadata": {},
     "output_type": "execute_result"
    }
   ],
   "source": [
    "df.agency_name.value_counts().head(6)\n",
    "\n",
    "# NYPD - New York City Police Department\n",
    "# HPD - Department of Housing Preservation and Development\n",
    "# DOT - Department of Transportation\n",
    "# DSNY - Department of Sanitation\n",
    "# DEP - Department of Environmental Protection"
   ]
  },
  {
   "cell_type": "markdown",
   "id": "d4cae99e",
   "metadata": {},
   "source": [
    "## What is the most common complaint to HPD?"
   ]
  },
  {
   "cell_type": "code",
   "execution_count": 24,
   "id": "030eca78",
   "metadata": {},
   "outputs": [
    {
     "data": {
      "text/plain": [
       "HEAT/HOT WATER          48100\n",
       "UNSANITARY CONDITION    17789\n",
       "PAINT/PLASTER           13495\n",
       "PLUMBING                12494\n",
       "DOOR/WINDOW              9050\n",
       "Name: complaint_type, dtype: int64"
      ]
     },
     "execution_count": 24,
     "metadata": {},
     "output_type": "execute_result"
    }
   ],
   "source": [
    "df[df.agency == 'HPD'].complaint_type.value_counts().head(5)"
   ]
  },
  {
   "cell_type": "markdown",
   "id": "75def603",
   "metadata": {},
   "source": [
    "## What are the top 3 complaints to each agency?\n",
    "\n",
    "You'll want to use the weird confusing `.groupby(level=...` thing we learned when reviewing the homework."
   ]
  },
  {
   "cell_type": "code",
   "execution_count": 25,
   "id": "eeaee487",
   "metadata": {},
   "outputs": [
    {
     "data": {
      "text/plain": [
       "agency  complaint_type                     \n",
       "ACS     Forms                                     69\n",
       "COIB    Forms                                      2\n",
       "DCA     Consumer Complaint                      2855\n",
       "DCAS    Question                                 162\n",
       "        Comments                                  11\n",
       "DCP     Research Questions                         4\n",
       "DEP     Noise                                  12680\n",
       "        Water System                            9467\n",
       "        Sewer                                   5355\n",
       "DFTA    Housing - Low Income Senior             1135\n",
       "        Housing Options                          342\n",
       "        Senior Center Complaint                   43\n",
       "DHS     Homeless Person Assistance               385\n",
       "DOB     Elevator                               19489\n",
       "        General Construction/Plumbing           6829\n",
       "        Building/Use                            4156\n",
       "DOE     School Maintenance                       238\n",
       "DOF     DOF Property - Payment Issue            1367\n",
       "        DRIE                                     359\n",
       "        Advocate-Prop Refunds/Credits             76\n",
       "DOHMH   Rodent                                  5229\n",
       "        Food Establishment                      1229\n",
       "        Indoor Air Quality                       981\n",
       "DOITT   Public Payphone Complaint                 80\n",
       "        LinkNYC                                   25\n",
       "DOT     Street Condition                       20581\n",
       "        Street Light Condition                 12771\n",
       "        Traffic Signal Condition                7605\n",
       "DPR     Damaged Tree                            2611\n",
       "        Root/Sewer/Sidewalk Condition           1615\n",
       "        Overgrown Tree/Branches                 1087\n",
       "DSNY    Request Large Bulky Item Collection    37684\n",
       "        Electronics Waste Appointment           7223\n",
       "        Missed Collection (All Materials)       7120\n",
       "EDC     Noise - Helicopter                       148\n",
       "HPD     HEAT/HOT WATER                         48100\n",
       "        UNSANITARY CONDITION                   17789\n",
       "        PAINT/PLASTER                          13495\n",
       "NYPD    Noise - Residential                    42689\n",
       "        Illegal Parking                        34942\n",
       "        Blocked Driveway                       25939\n",
       "TAX     Question                                  43\n",
       "        Comments                                   4\n",
       "TLC     Taxi Complaint                          1104\n",
       "        For Hire Vehicle Complaint              1049\n",
       "        Taxi Report                              267\n",
       "Name: complaint_type, dtype: int64"
      ]
     },
     "execution_count": 25,
     "metadata": {},
     "output_type": "execute_result"
    }
   ],
   "source": [
    "df.groupby('agency').complaint_type.value_counts().groupby(level=0).head(3)\n",
    "\n",
    "# he prefers nlargest, but they're the same\n",
    "# df.groupby('agency').complaint_type.value_counts().groupby(level=0, group_keys=False).nlargest(3)"
   ]
  },
  {
   "cell_type": "markdown",
   "id": "c3d55807",
   "metadata": {},
   "source": [
    "## What is the most common kind of residential noise complaint?\n",
    "\n",
    "The NYPD seems to deal with a lot of noise complaints at homes. What is the most common subtype?"
   ]
  },
  {
   "cell_type": "code",
   "execution_count": 26,
   "id": "e726cd32",
   "metadata": {},
   "outputs": [
    {
     "data": {
      "text/plain": [
       "Loud Music/Party    24808\n",
       "Banging/Pounding    13880\n",
       "Loud Talking         3016\n",
       "Loud Television       985\n",
       "Name: descriptor, dtype: int64"
      ]
     },
     "execution_count": 26,
     "metadata": {},
     "output_type": "execute_result"
    }
   ],
   "source": [
    "df[(df.agency=='NYPD') & (df.complaint_type=='Noise - Residential')].descriptor.value_counts()"
   ]
  },
  {
   "cell_type": "markdown",
   "id": "3d6c4dff",
   "metadata": {},
   "source": [
    "## What time of day do \"Loud Music/Party\" complaints come in? Make it a chart!"
   ]
  },
  {
   "cell_type": "code",
   "execution_count": 27,
   "id": "029c4248",
   "metadata": {},
   "outputs": [
    {
     "data": {
      "text/plain": [
       "11 PM    3252\n",
       "12 AM    3139\n",
       "10 PM    3001\n",
       "01 AM    2068\n",
       "09 PM    1942\n",
       "08 PM    1470\n",
       "07 PM    1183\n",
       "02 AM    1180\n",
       "06 PM     929\n",
       "03 AM     822\n",
       "05 PM     755\n",
       "04 PM     694\n",
       "03 PM     605\n",
       "01 PM     526\n",
       "02 PM     505\n",
       "04 AM     501\n",
       "12 PM     431\n",
       "11 AM     374\n",
       "05 AM     345\n",
       "10 AM     252\n",
       "09 AM     242\n",
       "06 AM     220\n",
       "08 AM     198\n",
       "07 AM     174\n",
       "Name: created_date, dtype: int64"
      ]
     },
     "execution_count": 27,
     "metadata": {},
     "output_type": "execute_result"
    }
   ],
   "source": [
    "df[(df.agency=='NYPD') & (df.complaint_type=='Noise - Residential') & (df.descriptor == 'Loud Music/Party')]. \\\n",
    "created_date.dt.strftime('%I %p').value_counts()"
   ]
  },
  {
   "cell_type": "code",
   "execution_count": 28,
   "id": "d6f3ca8b",
   "metadata": {},
   "outputs": [
    {
     "data": {
      "text/plain": [
       "0     3139\n",
       "1     2068\n",
       "2     1180\n",
       "3      822\n",
       "4      501\n",
       "5      345\n",
       "6      220\n",
       "7      174\n",
       "8      198\n",
       "9      242\n",
       "10     252\n",
       "11     374\n",
       "12     431\n",
       "13     526\n",
       "14     505\n",
       "15     605\n",
       "16     694\n",
       "17     755\n",
       "18     929\n",
       "19    1183\n",
       "20    1470\n",
       "21    1942\n",
       "22    3001\n",
       "23    3252\n",
       "Name: created_date, dtype: int64"
      ]
     },
     "execution_count": 28,
     "metadata": {},
     "output_type": "execute_result"
    }
   ],
   "source": [
    "# CORRECT ANSWER:\n",
    "df[(df.agency=='NYPD') & (df.complaint_type=='Noise - Residential') & (df.descriptor == 'Loud Music/Party')] \\\n",
    ".created_date.dt.hour.value_counts().sort_index()"
   ]
  },
  {
   "cell_type": "markdown",
   "id": "72378323",
   "metadata": {},
   "source": [
    "## When do people party hard?\n",
    "\n",
    "Make a monthly chart of Loud Music/Party complaints since the beginning of the dataset. Make it count them on a biweekly basis (every two weeks)."
   ]
  },
  {
   "cell_type": "code",
   "execution_count": 29,
   "id": "1403b89b",
   "metadata": {},
   "outputs": [
    {
     "data": {
      "text/plain": [
       "<AxesSubplot:xlabel='created_date'>"
      ]
     },
     "execution_count": 29,
     "metadata": {},
     "output_type": "execute_result"
    },
    {
     "data": {
      "image/png": "[encoded data removed]",
      "text/plain": [
       "<Figure size 432x288 with 1 Axes>"
      ]
     },
     "metadata": {
      "needs_background": "light"
     },
     "output_type": "display_data"
    }
   ],
   "source": [
    "df[df.descriptor == 'Loud Music/Party'].resample('2W', on='created_date').size().plot()"
   ]
  },
  {
   "cell_type": "markdown",
   "id": "de48a3ec",
   "metadata": {},
   "source": [
    "## People and their bees\n",
    "\n",
    "Sometimes people complain about bees! Why they'd do that, I have no idea. It's somewhere in \"complaint_type\" – can you find all of the bee-related complaints?"
   ]
  },
  {
   "cell_type": "code",
   "execution_count": 30,
   "id": "5f1901b0",
   "metadata": {},
   "outputs": [
    {
     "data": {
      "text/html": [
       "<div>\n",
       "<style scoped>\n",
       "    .dataframe tbody tr th:only-of-type {\n",
       "        vertical-align: middle;\n",
       "    }\n",
       "\n",
       "    .dataframe tbody tr th {\n",
       "        vertical-align: top;\n",
       "    }\n",
       "\n",
       "    .dataframe thead th {\n",
       "        text-align: right;\n",
       "    }\n",
       "</style>\n",
       "<table border=\"1\" class=\"dataframe\">\n",
       "  <thead>\n",
       "    <tr style=\"text-align: right;\">\n",
       "      <th></th>\n",
       "      <th>unique_key</th>\n",
       "      <th>created_date</th>\n",
       "      <th>closed_date</th>\n",
       "      <th>agency</th>\n",
       "      <th>agency_name</th>\n",
       "      <th>complaint_type</th>\n",
       "      <th>descriptor</th>\n",
       "      <th>location_type</th>\n",
       "      <th>incident_zip</th>\n",
       "      <th>incident_address</th>\n",
       "      <th>address_type</th>\n",
       "      <th>city</th>\n",
       "      <th>status</th>\n",
       "      <th>borough</th>\n",
       "      <th>open_data_channel_type</th>\n",
       "      <th>month_year</th>\n",
       "    </tr>\n",
       "  </thead>\n",
       "  <tbody>\n",
       "    <tr>\n",
       "      <th>288065</th>\n",
       "      <td>42054326</td>\n",
       "      <td>2019-03-26 19:10:34</td>\n",
       "      <td>2019-04-05 15:00:55</td>\n",
       "      <td>DOHMH</td>\n",
       "      <td>Department of Health and Mental Hygiene</td>\n",
       "      <td>Harboring Bees/Wasps</td>\n",
       "      <td>Beekeeping - Honeybees</td>\n",
       "      <td>1-2 Family Dwelling</td>\n",
       "      <td>11103.0</td>\n",
       "      <td>24-19 42 STREET</td>\n",
       "      <td>ADDRESS</td>\n",
       "      <td>ASTORIA</td>\n",
       "      <td>Closed</td>\n",
       "      <td>QUEENS</td>\n",
       "      <td>PHONE</td>\n",
       "      <td>19-03</td>\n",
       "    </tr>\n",
       "    <tr>\n",
       "      <th>291446</th>\n",
       "      <td>42058804</td>\n",
       "      <td>2019-03-26 18:14:03</td>\n",
       "      <td>2019-04-05 15:02:00</td>\n",
       "      <td>DOHMH</td>\n",
       "      <td>Department of Health and Mental Hygiene</td>\n",
       "      <td>Harboring Bees/Wasps</td>\n",
       "      <td>Beekeeping - Honeybees</td>\n",
       "      <td>1-2 Family Dwelling</td>\n",
       "      <td>11104.0</td>\n",
       "      <td>42-19 42 STREET</td>\n",
       "      <td>ADDRESS</td>\n",
       "      <td>SUNNYSIDE</td>\n",
       "      <td>Closed</td>\n",
       "      <td>QUEENS</td>\n",
       "      <td>PHONE</td>\n",
       "      <td>19-03</td>\n",
       "    </tr>\n",
       "    <tr>\n",
       "      <th>372834</th>\n",
       "      <td>42163934</td>\n",
       "      <td>2019-04-08 18:26:04</td>\n",
       "      <td>2019-04-29 11:18:17</td>\n",
       "      <td>DOHMH</td>\n",
       "      <td>Department of Health and Mental Hygiene</td>\n",
       "      <td>Harboring Bees/Wasps</td>\n",
       "      <td>Bees/Wasps - Not a beekeper</td>\n",
       "      <td>1-2 Family Dwelling</td>\n",
       "      <td>10302</td>\n",
       "      <td>57 HOOKER PLACE</td>\n",
       "      <td>ADDRESS</td>\n",
       "      <td>STATEN ISLAND</td>\n",
       "      <td>Closed</td>\n",
       "      <td>STATEN ISLAND</td>\n",
       "      <td>PHONE</td>\n",
       "      <td>19-04</td>\n",
       "    </tr>\n",
       "    <tr>\n",
       "      <th>378505</th>\n",
       "      <td>42171504</td>\n",
       "      <td>2019-04-08 15:50:40</td>\n",
       "      <td>2019-04-29 11:11:42</td>\n",
       "      <td>DOHMH</td>\n",
       "      <td>Department of Health and Mental Hygiene</td>\n",
       "      <td>Harboring Bees/Wasps</td>\n",
       "      <td>Bees/Wasps - Not a beekeper</td>\n",
       "      <td>1-2 Family Mixed Use Building</td>\n",
       "      <td>11214</td>\n",
       "      <td>2060 78 STREET</td>\n",
       "      <td>ADDRESS</td>\n",
       "      <td>BROOKLYN</td>\n",
       "      <td>Closed</td>\n",
       "      <td>BROOKLYN</td>\n",
       "      <td>ONLINE</td>\n",
       "      <td>19-04</td>\n",
       "    </tr>\n",
       "    <tr>\n",
       "      <th>391645</th>\n",
       "      <td>42189666</td>\n",
       "      <td>2019-04-10 19:28:14</td>\n",
       "      <td>2019-04-29 11:17:09</td>\n",
       "      <td>DOHMH</td>\n",
       "      <td>Department of Health and Mental Hygiene</td>\n",
       "      <td>Harboring Bees/Wasps</td>\n",
       "      <td>Beekeeping - Honeybees</td>\n",
       "      <td>1-2 Family Dwelling</td>\n",
       "      <td>10469</td>\n",
       "      <td>1462 STICKNEY PLACE</td>\n",
       "      <td>ADDRESS</td>\n",
       "      <td>BRONX</td>\n",
       "      <td>Closed</td>\n",
       "      <td>BRONX</td>\n",
       "      <td>PHONE</td>\n",
       "      <td>19-04</td>\n",
       "    </tr>\n",
       "    <tr>\n",
       "      <th>466469</th>\n",
       "      <td>42291921</td>\n",
       "      <td>2019-04-23 11:39:59</td>\n",
       "      <td>2019-05-06 09:36:28</td>\n",
       "      <td>DOHMH</td>\n",
       "      <td>Department of Health and Mental Hygiene</td>\n",
       "      <td>Harboring Bees/Wasps</td>\n",
       "      <td>Bees/Wasps - Not a beekeper</td>\n",
       "      <td>1-2 Family Dwelling</td>\n",
       "      <td>11210</td>\n",
       "      <td>674 EAST 22 STREET</td>\n",
       "      <td>ADDRESS</td>\n",
       "      <td>BROOKLYN</td>\n",
       "      <td>Closed</td>\n",
       "      <td>BROOKLYN</td>\n",
       "      <td>PHONE</td>\n",
       "      <td>19-04</td>\n",
       "    </tr>\n",
       "    <tr>\n",
       "      <th>472431</th>\n",
       "      <td>42300656</td>\n",
       "      <td>2019-04-23 14:56:21</td>\n",
       "      <td>2019-05-06 09:37:30</td>\n",
       "      <td>DOHMH</td>\n",
       "      <td>Department of Health and Mental Hygiene</td>\n",
       "      <td>Harboring Bees/Wasps</td>\n",
       "      <td>Bees/Wasps - Not a beekeper</td>\n",
       "      <td>3+ Family Apartment Building</td>\n",
       "      <td>10037</td>\n",
       "      <td>2311 5 AVENUE</td>\n",
       "      <td>ADDRESS</td>\n",
       "      <td>NEW YORK</td>\n",
       "      <td>Closed</td>\n",
       "      <td>MANHATTAN</td>\n",
       "      <td>PHONE</td>\n",
       "      <td>19-04</td>\n",
       "    </tr>\n",
       "  </tbody>\n",
       "</table>\n",
       "</div>"
      ],
      "text/plain": [
       "        unique_key        created_date         closed_date agency  \\\n",
       "288065    42054326 2019-03-26 19:10:34 2019-04-05 15:00:55  DOHMH   \n",
       "291446    42058804 2019-03-26 18:14:03 2019-04-05 15:02:00  DOHMH   \n",
       "372834    42163934 2019-04-08 18:26:04 2019-04-29 11:18:17  DOHMH   \n",
       "378505    42171504 2019-04-08 15:50:40 2019-04-29 11:11:42  DOHMH   \n",
       "391645    42189666 2019-04-10 19:28:14 2019-04-29 11:17:09  DOHMH   \n",
       "466469    42291921 2019-04-23 11:39:59 2019-05-06 09:36:28  DOHMH   \n",
       "472431    42300656 2019-04-23 14:56:21 2019-05-06 09:37:30  DOHMH   \n",
       "\n",
       "                                    agency_name        complaint_type  \\\n",
       "288065  Department of Health and Mental Hygiene  Harboring Bees/Wasps   \n",
       "291446  Department of Health and Mental Hygiene  Harboring Bees/Wasps   \n",
       "372834  Department of Health and Mental Hygiene  Harboring Bees/Wasps   \n",
       "378505  Department of Health and Mental Hygiene  Harboring Bees/Wasps   \n",
       "391645  Department of Health and Mental Hygiene  Harboring Bees/Wasps   \n",
       "466469  Department of Health and Mental Hygiene  Harboring Bees/Wasps   \n",
       "472431  Department of Health and Mental Hygiene  Harboring Bees/Wasps   \n",
       "\n",
       "                         descriptor                  location_type  \\\n",
       "288065       Beekeeping - Honeybees            1-2 Family Dwelling   \n",
       "291446       Beekeeping - Honeybees            1-2 Family Dwelling   \n",
       "372834  Bees/Wasps - Not a beekeper            1-2 Family Dwelling   \n",
       "378505  Bees/Wasps - Not a beekeper  1-2 Family Mixed Use Building   \n",
       "391645       Beekeeping - Honeybees            1-2 Family Dwelling   \n",
       "466469  Bees/Wasps - Not a beekeper            1-2 Family Dwelling   \n",
       "472431  Bees/Wasps - Not a beekeper   3+ Family Apartment Building   \n",
       "\n",
       "       incident_zip     incident_address address_type           city  status  \\\n",
       "288065      11103.0      24-19 42 STREET      ADDRESS        ASTORIA  Closed   \n",
       "291446      11104.0      42-19 42 STREET      ADDRESS      SUNNYSIDE  Closed   \n",
       "372834        10302      57 HOOKER PLACE      ADDRESS  STATEN ISLAND  Closed   \n",
       "378505        11214       2060 78 STREET      ADDRESS       BROOKLYN  Closed   \n",
       "391645        10469  1462 STICKNEY PLACE      ADDRESS          BRONX  Closed   \n",
       "466469        11210   674 EAST 22 STREET      ADDRESS       BROOKLYN  Closed   \n",
       "472431        10037        2311 5 AVENUE      ADDRESS       NEW YORK  Closed   \n",
       "\n",
       "              borough open_data_channel_type month_year  \n",
       "288065         QUEENS                  PHONE      19-03  \n",
       "291446         QUEENS                  PHONE      19-03  \n",
       "372834  STATEN ISLAND                  PHONE      19-04  \n",
       "378505       BROOKLYN                 ONLINE      19-04  \n",
       "391645          BRONX                  PHONE      19-04  \n",
       "466469       BROOKLYN                  PHONE      19-04  \n",
       "472431      MANHATTAN                  PHONE      19-04  "
      ]
     },
     "execution_count": 30,
     "metadata": {},
     "output_type": "execute_result"
    }
   ],
   "source": [
    "# Used this to figure out where the bee complaints were:\n",
    "# df.complaint_type.unique()\n",
    "df[df.complaint_type.str.contains(\"Bee\")]"
   ]
  },
  {
   "cell_type": "markdown",
   "id": "8c68e167",
   "metadata": {},
   "source": [
    "### What month do most of the complaints happen in? I'd like to see a graph."
   ]
  },
  {
   "cell_type": "code",
   "execution_count": 31,
   "id": "590fd267",
   "metadata": {},
   "outputs": [
    {
     "data": {
      "text/plain": [
       "<AxesSubplot:>"
      ]
     },
     "execution_count": 31,
     "metadata": {},
     "output_type": "execute_result"
    },
    {
     "data": {
      "image/png": "[encoded data removed]",
      "text/plain": [
       "<Figure size 432x288 with 1 Axes>"
      ]
     },
     "metadata": {
      "needs_background": "light"
     },
     "output_type": "display_data"
    }
   ],
   "source": [
    "df[df.complaint_type.str.contains(\"Bee\")].created_date.dt.strftime('%m').value_counts().sort_index().plot(kind='bar')"
   ]
  },
  {
   "cell_type": "markdown",
   "id": "9cdf43eb",
   "metadata": {},
   "source": [
    "### Are the people getting in trouble usually beekeepers or not beekeepers?"
   ]
  },
  {
   "cell_type": "code",
   "execution_count": 32,
   "id": "e517af3a",
   "metadata": {},
   "outputs": [
    {
     "data": {
      "text/plain": [
       "Bees/Wasps - Not a beekeper    4\n",
       "Beekeeping - Honeybees         3\n",
       "Name: descriptor, dtype: int64"
      ]
     },
     "execution_count": 32,
     "metadata": {},
     "output_type": "execute_result"
    }
   ],
   "source": [
    "df[df.complaint_type=='Harboring Bees/Wasps'].descriptor.value_counts()"
   ]
  },
  {
   "cell_type": "markdown",
   "id": "2f96be0a",
   "metadata": {},
   "source": [
    "# Math with datetimes\n",
    "\n",
    "## How long does it normally take to resolve a 311 complaint?\n",
    "\n",
    "Even if we didn't cover this in class, I have faith that you can guess how to calculate it."
   ]
  },
  {
   "cell_type": "code",
   "execution_count": 33,
   "id": "11145dfb",
   "metadata": {},
   "outputs": [
    {
     "data": {
      "text/plain": [
       "0        16 days 15:27:04\n",
       "1        14 days 15:00:26\n",
       "2        29 days 21:26:32\n",
       "3         6 days 14:38:16\n",
       "4         6 days 16:18:23\n",
       "               ...       \n",
       "499995    2 days 21:57:58\n",
       "499996    2 days 17:09:26\n",
       "499997    3 days 03:51:50\n",
       "499998    1 days 01:16:03\n",
       "499999    2 days 04:59:44\n",
       "Length: 500000, dtype: timedelta64[ns]"
      ]
     },
     "execution_count": 33,
     "metadata": {},
     "output_type": "execute_result"
    }
   ],
   "source": [
    "df.closed_date - df.created_date"
   ]
  },
  {
   "cell_type": "markdown",
   "id": "f901cdb7",
   "metadata": {},
   "source": [
    "Save it as a new column called `time_to_fix`"
   ]
  },
  {
   "cell_type": "code",
   "execution_count": 34,
   "id": "2cdcf705",
   "metadata": {},
   "outputs": [],
   "source": [
    "df['time_to_fix'] = df.closed_date - df.created_date"
   ]
  },
  {
   "cell_type": "markdown",
   "id": "30fbc746",
   "metadata": {},
   "source": [
    "## Which agency has the best time-to-fix time?"
   ]
  },
  {
   "cell_type": "code",
   "execution_count": 35,
   "id": "c2bb7780",
   "metadata": {},
   "outputs": [
    {
     "data": {
      "text/plain": [
       "agency\n",
       "DHS      0 days 03:15:55.379220779\n",
       "NYPD     0 days 04:25:51.774747763\n",
       "DSNY     4 days 11:40:07.711909204\n",
       "DEP      4 days 17:33:17.511784823\n",
       "DOT      6 days 13:23:32.788485375\n",
       "DOE      7 days 21:48:19.260504201\n",
       "DCA      8 days 17:38:53.481260945\n",
       "DPR     11 days 06:06:50.193993610\n",
       "DFTA    11 days 20:52:59.579701120\n",
       "DOHMH   12 days 10:30:35.071569487\n",
       "HPD     14 days 08:31:36.037208776\n",
       "DOITT   15 days 12:09:28.047619047\n",
       "DOF     16 days 23:45:41.472046413\n",
       "EDC     21 days 03:14:54.952702702\n",
       "TLC     49 days 10:55:49.767542140\n",
       "DOB     56 days 15:36:24.891705547\n",
       "ACS                            NaT\n",
       "COIB                           NaT\n",
       "DCAS                           NaT\n",
       "DCP                            NaT\n",
       "TAX                            NaT\n",
       "Name: time_to_fix, dtype: timedelta64[ns]"
      ]
     },
     "execution_count": 35,
     "metadata": {},
     "output_type": "execute_result"
    }
   ],
   "source": [
    "df.groupby('agency').time_to_fix.mean().sort_values()\n",
    "# better answer would be median"
   ]
  },
  {
   "cell_type": "code",
   "execution_count": 36,
   "id": "0b1bc7cf",
   "metadata": {},
   "outputs": [
    {
     "data": {
      "text/plain": [
       "agency\n",
       "DHS             0 days 01:16:59\n",
       "NYPD            0 days 02:33:24\n",
       "DEP             0 days 23:21:00\n",
       "DOT             1 days 08:14:38\n",
       "DSNY            2 days 09:55:00\n",
       "DPR             2 days 23:40:03\n",
       "DOHMH           3 days 00:30:35\n",
       "DOE      4 days 01:09:43.500000\n",
       "HPD             5 days 10:30:19\n",
       "DOF            12 days 21:59:10\n",
       "DFTA    12 days 23:45:25.500000\n",
       "DOITT          14 days 17:30:55\n",
       "DCA            15 days 01:44:13\n",
       "DOB     18 days 11:27:22.500000\n",
       "EDC            19 days 00:41:53\n",
       "TLC            58 days 23:03:53\n",
       "ACS                         NaT\n",
       "COIB                        NaT\n",
       "DCAS                        NaT\n",
       "DCP                         NaT\n",
       "TAX                         NaT\n",
       "Name: time_to_fix, dtype: timedelta64[ns]"
      ]
     },
     "execution_count": 36,
     "metadata": {},
     "output_type": "execute_result"
    }
   ],
   "source": [
    "# Better answer would've used median\n",
    "df.groupby('agency').time_to_fix.median().sort_values()"
   ]
  },
  {
   "cell_type": "markdown",
   "id": "376f1775",
   "metadata": {},
   "source": [
    "## Maybe we need some more information...\n",
    "\n",
    "I might want to know how big our sample size is for each of those, maybe the high performers only have one or two instances of having requests filed!\n",
    "\n",
    "### First, try using `.describe()` on the time to fix column after your `groupby`."
   ]
  },
  {
   "cell_type": "code",
   "execution_count": 37,
   "id": "81ba3d2e",
   "metadata": {},
   "outputs": [
    {
     "data": {
      "text/html": [
       "<div>\n",
       "<style scoped>\n",
       "    .dataframe tbody tr th:only-of-type {\n",
       "        vertical-align: middle;\n",
       "    }\n",
       "\n",
       "    .dataframe tbody tr th {\n",
       "        vertical-align: top;\n",
       "    }\n",
       "\n",
       "    .dataframe thead th {\n",
       "        text-align: right;\n",
       "    }\n",
       "</style>\n",
       "<table border=\"1\" class=\"dataframe\">\n",
       "  <thead>\n",
       "    <tr style=\"text-align: right;\">\n",
       "      <th></th>\n",
       "      <th>count</th>\n",
       "      <th>mean</th>\n",
       "      <th>std</th>\n",
       "      <th>min</th>\n",
       "      <th>25%</th>\n",
       "      <th>50%</th>\n",
       "      <th>75%</th>\n",
       "      <th>max</th>\n",
       "    </tr>\n",
       "    <tr>\n",
       "      <th>agency</th>\n",
       "      <th></th>\n",
       "      <th></th>\n",
       "      <th></th>\n",
       "      <th></th>\n",
       "      <th></th>\n",
       "      <th></th>\n",
       "      <th></th>\n",
       "      <th></th>\n",
       "    </tr>\n",
       "  </thead>\n",
       "  <tbody>\n",
       "    <tr>\n",
       "      <th>ACS</th>\n",
       "      <td>0</td>\n",
       "      <td>NaT</td>\n",
       "      <td>NaT</td>\n",
       "      <td>NaT</td>\n",
       "      <td>NaT</td>\n",
       "      <td>NaT</td>\n",
       "      <td>NaT</td>\n",
       "      <td>NaT</td>\n",
       "    </tr>\n",
       "    <tr>\n",
       "      <th>COIB</th>\n",
       "      <td>0</td>\n",
       "      <td>NaT</td>\n",
       "      <td>NaT</td>\n",
       "      <td>NaT</td>\n",
       "      <td>NaT</td>\n",
       "      <td>NaT</td>\n",
       "      <td>NaT</td>\n",
       "      <td>NaT</td>\n",
       "    </tr>\n",
       "    <tr>\n",
       "      <th>DCA</th>\n",
       "      <td>2855</td>\n",
       "      <td>8 days 17:38:53.481260945</td>\n",
       "      <td>6 days 21:29:59.577945279</td>\n",
       "      <td>0 days 00:24:01</td>\n",
       "      <td>1 days 07:19:21</td>\n",
       "      <td>15 days 01:44:13</td>\n",
       "      <td>15 days 11:08:52.500000</td>\n",
       "      <td>26 days 19:19:49</td>\n",
       "    </tr>\n",
       "    <tr>\n",
       "      <th>DCAS</th>\n",
       "      <td>0</td>\n",
       "      <td>NaT</td>\n",
       "      <td>NaT</td>\n",
       "      <td>NaT</td>\n",
       "      <td>NaT</td>\n",
       "      <td>NaT</td>\n",
       "      <td>NaT</td>\n",
       "      <td>NaT</td>\n",
       "    </tr>\n",
       "    <tr>\n",
       "      <th>DCP</th>\n",
       "      <td>0</td>\n",
       "      <td>NaT</td>\n",
       "      <td>NaT</td>\n",
       "      <td>NaT</td>\n",
       "      <td>NaT</td>\n",
       "      <td>NaT</td>\n",
       "      <td>NaT</td>\n",
       "      <td>NaT</td>\n",
       "    </tr>\n",
       "    <tr>\n",
       "      <th>DEP</th>\n",
       "      <td>32457</td>\n",
       "      <td>4 days 17:33:17.511784823</td>\n",
       "      <td>20 days 14:54:31.532085500</td>\n",
       "      <td>0 days 00:00:00</td>\n",
       "      <td>0 days 03:09:00</td>\n",
       "      <td>0 days 23:54:00</td>\n",
       "      <td>4 days 02:27:00</td>\n",
       "      <td>901 days 09:09:00</td>\n",
       "    </tr>\n",
       "    <tr>\n",
       "      <th>DFTA</th>\n",
       "      <td>1606</td>\n",
       "      <td>11 days 20:52:59.579701120</td>\n",
       "      <td>4 days 07:08:39.905979742</td>\n",
       "      <td>0 days 01:50:29</td>\n",
       "      <td>9 days 22:26:47</td>\n",
       "      <td>12 days 23:45:25.500000</td>\n",
       "      <td>14 days 04:24:16.250000</td>\n",
       "      <td>33 days 17:46:05</td>\n",
       "    </tr>\n",
       "    <tr>\n",
       "      <th>DHS</th>\n",
       "      <td>385</td>\n",
       "      <td>0 days 03:15:55.379220779</td>\n",
       "      <td>0 days 05:28:54.724780130</td>\n",
       "      <td>0 days 00:00:40</td>\n",
       "      <td>0 days 00:16:31</td>\n",
       "      <td>0 days 01:16:59</td>\n",
       "      <td>0 days 03:37:33</td>\n",
       "      <td>2 days 11:45:22</td>\n",
       "    </tr>\n",
       "    <tr>\n",
       "      <th>DOB</th>\n",
       "      <td>38580</td>\n",
       "      <td>56 days 15:36:24.891705547</td>\n",
       "      <td>175 days 15:50:36.222076966</td>\n",
       "      <td>0 days 00:00:00</td>\n",
       "      <td>3 days 10:48:47</td>\n",
       "      <td>18 days 11:27:22.500000</td>\n",
       "      <td>44 days 02:54:14.250000</td>\n",
       "      <td>3307 days 12:04:34</td>\n",
       "    </tr>\n",
       "    <tr>\n",
       "      <th>DOE</th>\n",
       "      <td>238</td>\n",
       "      <td>7 days 21:48:19.260504201</td>\n",
       "      <td>14 days 07:16:13.271057618</td>\n",
       "      <td>0 days 00:09:36</td>\n",
       "      <td>1 days 00:30:35</td>\n",
       "      <td>4 days 01:09:43.500000</td>\n",
       "      <td>6 days 21:37:51</td>\n",
       "      <td>84 days 19:31:32</td>\n",
       "    </tr>\n",
       "    <tr>\n",
       "      <th>DOF</th>\n",
       "      <td>1896</td>\n",
       "      <td>16 days 23:45:41.472046413</td>\n",
       "      <td>15 days 15:50:45.849344977</td>\n",
       "      <td>0 days 00:01:27</td>\n",
       "      <td>3 days 08:22:34.500000</td>\n",
       "      <td>12 days 21:59:10</td>\n",
       "      <td>27 days 22:37:45.250000</td>\n",
       "      <td>71 days 23:16:23</td>\n",
       "    </tr>\n",
       "    <tr>\n",
       "      <th>DOHMH</th>\n",
       "      <td>9124</td>\n",
       "      <td>12 days 10:30:35.071569487</td>\n",
       "      <td>20 days 15:26:13.031302866</td>\n",
       "      <td>0 days 00:00:00</td>\n",
       "      <td>0 days 01:16:21.250000</td>\n",
       "      <td>3 days 00:31:00.500000</td>\n",
       "      <td>11 days 00:00:00</td>\n",
       "      <td>228 days 00:20:42</td>\n",
       "    </tr>\n",
       "    <tr>\n",
       "      <th>DOITT</th>\n",
       "      <td>105</td>\n",
       "      <td>15 days 12:09:28.047619047</td>\n",
       "      <td>7 days 21:31:40.418430651</td>\n",
       "      <td>0 days 20:12:20</td>\n",
       "      <td>11 days 23:29:56</td>\n",
       "      <td>14 days 17:30:55</td>\n",
       "      <td>18 days 16:59:49</td>\n",
       "      <td>48 days 03:44:41</td>\n",
       "    </tr>\n",
       "    <tr>\n",
       "      <th>DOT</th>\n",
       "      <td>54053</td>\n",
       "      <td>6 days 13:23:32.788485375</td>\n",
       "      <td>23 days 22:43:25.456714205</td>\n",
       "      <td>-31 days +10:48:00</td>\n",
       "      <td>0 days 01:43:00</td>\n",
       "      <td>1 days 09:47:01</td>\n",
       "      <td>6 days 20:25:26</td>\n",
       "      <td>946 days 07:13:00</td>\n",
       "    </tr>\n",
       "    <tr>\n",
       "      <th>DPR</th>\n",
       "      <td>7825</td>\n",
       "      <td>11 days 06:06:50.193993610</td>\n",
       "      <td>24 days 12:25:32.457635703</td>\n",
       "      <td>0 days 00:02:54</td>\n",
       "      <td>0 days 23:54:01</td>\n",
       "      <td>2 days 23:40:03</td>\n",
       "      <td>8 days 12:22:55</td>\n",
       "      <td>639 days 04:16:14</td>\n",
       "    </tr>\n",
       "    <tr>\n",
       "      <th>DSNY</th>\n",
       "      <td>70752</td>\n",
       "      <td>4 days 11:40:07.711909204</td>\n",
       "      <td>11 days 14:13:15.325300117</td>\n",
       "      <td>0 days 00:00:00</td>\n",
       "      <td>1 days 06:27:00</td>\n",
       "      <td>2 days 09:58:00</td>\n",
       "      <td>4 days 10:46:00</td>\n",
       "      <td>810 days 01:17:00</td>\n",
       "    </tr>\n",
       "    <tr>\n",
       "      <th>EDC</th>\n",
       "      <td>148</td>\n",
       "      <td>21 days 03:14:54.952702702</td>\n",
       "      <td>9 days 22:31:55.753552336</td>\n",
       "      <td>1 days 20:27:28</td>\n",
       "      <td>13 days 05:56:37.750000</td>\n",
       "      <td>19 days 00:41:53</td>\n",
       "      <td>30 days 21:29:40.250000</td>\n",
       "      <td>44 days 16:27:14</td>\n",
       "    </tr>\n",
       "    <tr>\n",
       "      <th>HPD</th>\n",
       "      <td>132630</td>\n",
       "      <td>14 days 08:31:36.037208776</td>\n",
       "      <td>21 days 10:39:54.857421139</td>\n",
       "      <td>0 days 00:00:00</td>\n",
       "      <td>2 days 02:44:42.250000</td>\n",
       "      <td>5 days 10:59:17</td>\n",
       "      <td>16 days 22:30:22.500000</td>\n",
       "      <td>431 days 18:14:47</td>\n",
       "    </tr>\n",
       "    <tr>\n",
       "      <th>NYPD</th>\n",
       "      <td>143417</td>\n",
       "      <td>0 days 04:25:51.774747763</td>\n",
       "      <td>0 days 11:07:26.349876484</td>\n",
       "      <td>0 days 00:01:41</td>\n",
       "      <td>0 days 01:11:19</td>\n",
       "      <td>0 days 02:33:24</td>\n",
       "      <td>0 days 05:01:22</td>\n",
       "      <td>31 days 09:36:37</td>\n",
       "    </tr>\n",
       "    <tr>\n",
       "      <th>TAX</th>\n",
       "      <td>0</td>\n",
       "      <td>NaT</td>\n",
       "      <td>NaT</td>\n",
       "      <td>NaT</td>\n",
       "      <td>NaT</td>\n",
       "      <td>NaT</td>\n",
       "      <td>NaT</td>\n",
       "      <td>NaT</td>\n",
       "    </tr>\n",
       "    <tr>\n",
       "      <th>TLC</th>\n",
       "      <td>2551</td>\n",
       "      <td>49 days 10:55:49.767542140</td>\n",
       "      <td>32 days 14:18:54.090307314</td>\n",
       "      <td>0 days 00:00:01</td>\n",
       "      <td>14 days 00:18:42.500000</td>\n",
       "      <td>58 days 23:03:53</td>\n",
       "      <td>75 days 08:53:26</td>\n",
       "      <td>112 days 23:12:36</td>\n",
       "    </tr>\n",
       "  </tbody>\n",
       "</table>\n",
       "</div>"
      ],
      "text/plain": [
       "         count                       mean                         std  \\\n",
       "agency                                                                  \n",
       "ACS          0                        NaT                         NaT   \n",
       "COIB         0                        NaT                         NaT   \n",
       "DCA       2855  8 days 17:38:53.481260945   6 days 21:29:59.577945279   \n",
       "DCAS         0                        NaT                         NaT   \n",
       "DCP          0                        NaT                         NaT   \n",
       "DEP      32457  4 days 17:33:17.511784823  20 days 14:54:31.532085500   \n",
       "DFTA      1606 11 days 20:52:59.579701120   4 days 07:08:39.905979742   \n",
       "DHS        385  0 days 03:15:55.379220779   0 days 05:28:54.724780130   \n",
       "DOB      38580 56 days 15:36:24.891705547 175 days 15:50:36.222076966   \n",
       "DOE        238  7 days 21:48:19.260504201  14 days 07:16:13.271057618   \n",
       "DOF       1896 16 days 23:45:41.472046413  15 days 15:50:45.849344977   \n",
       "DOHMH     9124 12 days 10:30:35.071569487  20 days 15:26:13.031302866   \n",
       "DOITT      105 15 days 12:09:28.047619047   7 days 21:31:40.418430651   \n",
       "DOT      54053  6 days 13:23:32.788485375  23 days 22:43:25.456714205   \n",
       "DPR       7825 11 days 06:06:50.193993610  24 days 12:25:32.457635703   \n",
       "DSNY     70752  4 days 11:40:07.711909204  11 days 14:13:15.325300117   \n",
       "EDC        148 21 days 03:14:54.952702702   9 days 22:31:55.753552336   \n",
       "HPD     132630 14 days 08:31:36.037208776  21 days 10:39:54.857421139   \n",
       "NYPD    143417  0 days 04:25:51.774747763   0 days 11:07:26.349876484   \n",
       "TAX          0                        NaT                         NaT   \n",
       "TLC       2551 49 days 10:55:49.767542140  32 days 14:18:54.090307314   \n",
       "\n",
       "                      min                     25%                     50%  \\\n",
       "agency                                                                      \n",
       "ACS                   NaT                     NaT                     NaT   \n",
       "COIB                  NaT                     NaT                     NaT   \n",
       "DCA       0 days 00:24:01         1 days 07:19:21        15 days 01:44:13   \n",
       "DCAS                  NaT                     NaT                     NaT   \n",
       "DCP                   NaT                     NaT                     NaT   \n",
       "DEP       0 days 00:00:00         0 days 03:09:00         0 days 23:54:00   \n",
       "DFTA      0 days 01:50:29         9 days 22:26:47 12 days 23:45:25.500000   \n",
       "DHS       0 days 00:00:40         0 days 00:16:31         0 days 01:16:59   \n",
       "DOB       0 days 00:00:00         3 days 10:48:47 18 days 11:27:22.500000   \n",
       "DOE       0 days 00:09:36         1 days 00:30:35  4 days 01:09:43.500000   \n",
       "DOF       0 days 00:01:27  3 days 08:22:34.500000        12 days 21:59:10   \n",
       "DOHMH     0 days 00:00:00  0 days 01:16:21.250000  3 days 00:31:00.500000   \n",
       "DOITT     0 days 20:12:20        11 days 23:29:56        14 days 17:30:55   \n",
       "DOT    -31 days +10:48:00         0 days 01:43:00         1 days 09:47:01   \n",
       "DPR       0 days 00:02:54         0 days 23:54:01         2 days 23:40:03   \n",
       "DSNY      0 days 00:00:00         1 days 06:27:00         2 days 09:58:00   \n",
       "EDC       1 days 20:27:28 13 days 05:56:37.750000        19 days 00:41:53   \n",
       "HPD       0 days 00:00:00  2 days 02:44:42.250000         5 days 10:59:17   \n",
       "NYPD      0 days 00:01:41         0 days 01:11:19         0 days 02:33:24   \n",
       "TAX                   NaT                     NaT                     NaT   \n",
       "TLC       0 days 00:00:01 14 days 00:18:42.500000        58 days 23:03:53   \n",
       "\n",
       "                           75%                max  \n",
       "agency                                             \n",
       "ACS                        NaT                NaT  \n",
       "COIB                       NaT                NaT  \n",
       "DCA    15 days 11:08:52.500000   26 days 19:19:49  \n",
       "DCAS                       NaT                NaT  \n",
       "DCP                        NaT                NaT  \n",
       "DEP            4 days 02:27:00  901 days 09:09:00  \n",
       "DFTA   14 days 04:24:16.250000   33 days 17:46:05  \n",
       "DHS            0 days 03:37:33    2 days 11:45:22  \n",
       "DOB    44 days 02:54:14.250000 3307 days 12:04:34  \n",
       "DOE            6 days 21:37:51   84 days 19:31:32  \n",
       "DOF    27 days 22:37:45.250000   71 days 23:16:23  \n",
       "DOHMH         11 days 00:00:00  228 days 00:20:42  \n",
       "DOITT         18 days 16:59:49   48 days 03:44:41  \n",
       "DOT            6 days 20:25:26  946 days 07:13:00  \n",
       "DPR            8 days 12:22:55  639 days 04:16:14  \n",
       "DSNY           4 days 10:46:00  810 days 01:17:00  \n",
       "EDC    30 days 21:29:40.250000   44 days 16:27:14  \n",
       "HPD    16 days 22:30:22.500000  431 days 18:14:47  \n",
       "NYPD           0 days 05:01:22   31 days 09:36:37  \n",
       "TAX                        NaT                NaT  \n",
       "TLC           75 days 08:53:26  112 days 23:12:36  "
      ]
     },
     "execution_count": 37,
     "metadata": {},
     "output_type": "execute_result"
    }
   ],
   "source": [
    "df.groupby('agency').time_to_fix.describe()"
   ]
  },
  {
   "cell_type": "markdown",
   "id": "d9805543",
   "metadata": {},
   "source": [
    "### Now, an alternative\n",
    "\n",
    "Seems a little busy, yeah? **You can also do smaller, custom aggregations.**\n",
    "\n",
    "Try something like this:\n",
    "\n",
    "```python\n",
    "# Multiple aggregations of one column\n",
    "df.groupby('agency').time_to_fix.agg(['median', 'size'])\n",
    "\n",
    "# You can also do something like this to reach multiple columns\n",
    "df.groupby('agency').agg({\n",
    "    'time_to_fix': ['median', 'size']\n",
    "})\n",
    "```"
   ]
  },
  {
   "cell_type": "code",
   "execution_count": 38,
   "id": "90413000",
   "metadata": {},
   "outputs": [
    {
     "data": {
      "text/html": [
       "<div>\n",
       "<style scoped>\n",
       "    .dataframe tbody tr th:only-of-type {\n",
       "        vertical-align: middle;\n",
       "    }\n",
       "\n",
       "    .dataframe tbody tr th {\n",
       "        vertical-align: top;\n",
       "    }\n",
       "\n",
       "    .dataframe thead th {\n",
       "        text-align: right;\n",
       "    }\n",
       "</style>\n",
       "<table border=\"1\" class=\"dataframe\">\n",
       "  <thead>\n",
       "    <tr style=\"text-align: right;\">\n",
       "      <th></th>\n",
       "      <th>median</th>\n",
       "      <th>size</th>\n",
       "    </tr>\n",
       "    <tr>\n",
       "      <th>agency</th>\n",
       "      <th></th>\n",
       "      <th></th>\n",
       "    </tr>\n",
       "  </thead>\n",
       "  <tbody>\n",
       "    <tr>\n",
       "      <th>ACS</th>\n",
       "      <td>NaT</td>\n",
       "      <td>69</td>\n",
       "    </tr>\n",
       "    <tr>\n",
       "      <th>COIB</th>\n",
       "      <td>NaT</td>\n",
       "      <td>2</td>\n",
       "    </tr>\n",
       "    <tr>\n",
       "      <th>DCA</th>\n",
       "      <td>15 days 01:44:13</td>\n",
       "      <td>2855</td>\n",
       "    </tr>\n",
       "    <tr>\n",
       "      <th>DCAS</th>\n",
       "      <td>NaT</td>\n",
       "      <td>173</td>\n",
       "    </tr>\n",
       "    <tr>\n",
       "      <th>DCP</th>\n",
       "      <td>NaT</td>\n",
       "      <td>4</td>\n",
       "    </tr>\n",
       "    <tr>\n",
       "      <th>DEP</th>\n",
       "      <td>0 days 23:21:00</td>\n",
       "      <td>32938</td>\n",
       "    </tr>\n",
       "    <tr>\n",
       "      <th>DFTA</th>\n",
       "      <td>12 days 23:45:25.500000</td>\n",
       "      <td>1606</td>\n",
       "    </tr>\n",
       "    <tr>\n",
       "      <th>DHS</th>\n",
       "      <td>0 days 01:16:59</td>\n",
       "      <td>385</td>\n",
       "    </tr>\n",
       "    <tr>\n",
       "      <th>DOB</th>\n",
       "      <td>18 days 11:27:22.500000</td>\n",
       "      <td>38580</td>\n",
       "    </tr>\n",
       "    <tr>\n",
       "      <th>DOE</th>\n",
       "      <td>4 days 01:09:43.500000</td>\n",
       "      <td>238</td>\n",
       "    </tr>\n",
       "    <tr>\n",
       "      <th>DOF</th>\n",
       "      <td>12 days 21:59:10</td>\n",
       "      <td>1896</td>\n",
       "    </tr>\n",
       "    <tr>\n",
       "      <th>DOHMH</th>\n",
       "      <td>3 days 00:30:35</td>\n",
       "      <td>9125</td>\n",
       "    </tr>\n",
       "    <tr>\n",
       "      <th>DOITT</th>\n",
       "      <td>14 days 17:30:55</td>\n",
       "      <td>105</td>\n",
       "    </tr>\n",
       "    <tr>\n",
       "      <th>DOT</th>\n",
       "      <td>1 days 08:14:38</td>\n",
       "      <td>54411</td>\n",
       "    </tr>\n",
       "    <tr>\n",
       "      <th>DPR</th>\n",
       "      <td>2 days 23:40:03</td>\n",
       "      <td>7825</td>\n",
       "    </tr>\n",
       "    <tr>\n",
       "      <th>DSNY</th>\n",
       "      <td>2 days 09:55:00</td>\n",
       "      <td>70815</td>\n",
       "    </tr>\n",
       "    <tr>\n",
       "      <th>EDC</th>\n",
       "      <td>19 days 00:41:53</td>\n",
       "      <td>148</td>\n",
       "    </tr>\n",
       "    <tr>\n",
       "      <th>HPD</th>\n",
       "      <td>5 days 10:30:19</td>\n",
       "      <td>132810</td>\n",
       "    </tr>\n",
       "    <tr>\n",
       "      <th>NYPD</th>\n",
       "      <td>0 days 02:33:24</td>\n",
       "      <td>143417</td>\n",
       "    </tr>\n",
       "    <tr>\n",
       "      <th>TAX</th>\n",
       "      <td>NaT</td>\n",
       "      <td>47</td>\n",
       "    </tr>\n",
       "    <tr>\n",
       "      <th>TLC</th>\n",
       "      <td>58 days 23:03:53</td>\n",
       "      <td>2551</td>\n",
       "    </tr>\n",
       "  </tbody>\n",
       "</table>\n",
       "</div>"
      ],
      "text/plain": [
       "                        median    size\n",
       "agency                                \n",
       "ACS                        NaT      69\n",
       "COIB                       NaT       2\n",
       "DCA           15 days 01:44:13    2855\n",
       "DCAS                       NaT     173\n",
       "DCP                        NaT       4\n",
       "DEP            0 days 23:21:00   32938\n",
       "DFTA   12 days 23:45:25.500000    1606\n",
       "DHS            0 days 01:16:59     385\n",
       "DOB    18 days 11:27:22.500000   38580\n",
       "DOE     4 days 01:09:43.500000     238\n",
       "DOF           12 days 21:59:10    1896\n",
       "DOHMH          3 days 00:30:35    9125\n",
       "DOITT         14 days 17:30:55     105\n",
       "DOT            1 days 08:14:38   54411\n",
       "DPR            2 days 23:40:03    7825\n",
       "DSNY           2 days 09:55:00   70815\n",
       "EDC           19 days 00:41:53     148\n",
       "HPD            5 days 10:30:19  132810\n",
       "NYPD           0 days 02:33:24  143417\n",
       "TAX                        NaT      47\n",
       "TLC           58 days 23:03:53    2551"
      ]
     },
     "execution_count": 38,
     "metadata": {},
     "output_type": "execute_result"
    }
   ],
   "source": [
    "df.groupby('agency').time_to_fix.agg(['median', 'size'])\n",
    "\n",
    "# also ran\n",
    "# df.groupby('agency').time_to_fix.agg(['mean', 'size'])"
   ]
  },
  {
   "cell_type": "markdown",
   "id": "d1cf1865",
   "metadata": {},
   "source": [
    "## Seems weird that NYPD time-to-close is so fast. Can we break that down by complaint type?\n",
    "\n",
    "Remember the order: \n",
    "\n",
    "1. Filter\n",
    "2. Group\n",
    "3. Grab a column\n",
    "4. Do something with it\n",
    "5. Sort"
   ]
  },
  {
   "cell_type": "code",
   "execution_count": 39,
   "id": "11c4f90f",
   "metadata": {},
   "outputs": [
    {
     "data": {
      "text/plain": [
       "complaint_type\n",
       "Noise - Vehicle               0 days 01:34:31.500000\n",
       "Noise - Park                         0 days 01:46:20\n",
       "Traffic                              0 days 01:53:45\n",
       "Noise - Commercial                   0 days 01:59:35\n",
       "Noise - Street/Sidewalk              0 days 02:00:30\n",
       "Bike/Roller/Skate Chronic            0 days 02:01:18\n",
       "Noise - House of Worship             0 days 02:02:31\n",
       "Drinking                             0 days 02:22:05\n",
       "Non-Emergency Police Matter          0 days 02:24:57\n",
       "Disorderly Youth                     0 days 02:25:35\n",
       "Noise - Residential                  0 days 02:27:47\n",
       "Vending                              0 days 02:34:18\n",
       "Homeless Encampment           0 days 02:37:04.500000\n",
       "Illegal Parking               0 days 02:42:50.500000\n",
       "Posting Advertisement         0 days 02:46:26.500000\n",
       "Panhandling                          0 days 02:53:57\n",
       "Urinating in Public                  0 days 02:54:11\n",
       "Blocked Driveway                     0 days 03:05:19\n",
       "Animal Abuse                         0 days 03:15:56\n",
       "Drug Activity                 0 days 03:19:52.500000\n",
       "Derelict Vehicle                     0 days 03:40:13\n",
       "Illegal Fireworks                    0 days 03:42:33\n",
       "Graffiti                             0 days 03:45:35\n",
       "Name: time_to_fix, dtype: timedelta64[ns]"
      ]
     },
     "execution_count": 39,
     "metadata": {},
     "output_type": "execute_result"
    }
   ],
   "source": [
    "df[df.agency == 'NYPD'].groupby('complaint_type').time_to_fix.median().sort_values()\n",
    "# also tried looking at mean:\n",
    "# df[df.agency == 'NYPD'].groupby('complaint_type').time_to_fix.mean().sort_values()"
   ]
  },
  {
   "cell_type": "markdown",
   "id": "c5b5caf5",
   "metadata": {},
   "source": [
    "## Back to median fix time for all agencies: do these values change based on the borough?\n",
    "\n",
    "First, use `groupby` to get the median time to fix per agency in each borough. You can use something like `pd.set_option(\"display.max_rows\", 200)` if you can't see all of the results by default!"
   ]
  },
  {
   "cell_type": "code",
   "execution_count": 40,
   "id": "4525d028",
   "metadata": {},
   "outputs": [
    {
     "data": {
      "text/plain": [
       "borough        agency\n",
       "BRONX          DCA             15 days 06:21:21\n",
       "               DEP              0 days 21:23:30\n",
       "               DFTA     13 days 00:02:30.500000\n",
       "               DHS       0 days 01:43:37.500000\n",
       "               DOB             15 days 15:08:27\n",
       "               DOE              5 days 01:34:55\n",
       "               DOF             14 days 22:46:47\n",
       "               DOHMH            2 days 00:00:00\n",
       "               DOITT    15 days 01:18:20.500000\n",
       "               DOT              1 days 00:56:15\n",
       "               DPR              4 days 05:28:17\n",
       "               DSNY             1 days 16:25:00\n",
       "               EDC             29 days 09:57:57\n",
       "               HPD              6 days 07:25:41\n",
       "               NYPD             0 days 03:57:43\n",
       "               TLC      55 days 17:23:51.500000\n",
       "BROOKLYN       DCA              5 days 03:51:55\n",
       "               DEP              0 days 19:56:00\n",
       "               DFTA            12 days 23:30:09\n",
       "               DHS       0 days 01:56:10.500000\n",
       "               DOB             20 days 10:41:12\n",
       "               DOE              2 days 17:11:26\n",
       "               DOF      14 days 06:27:49.500000\n",
       "               DOHMH            4 days 00:00:00\n",
       "               DOITT           13 days 01:52:56\n",
       "               DOT              1 days 04:31:01\n",
       "               DPR              4 days 01:32:10\n",
       "               DSNY             2 days 09:38:00\n",
       "               EDC             19 days 23:27:58\n",
       "               HPD              4 days 00:34:31\n",
       "               NYPD             0 days 02:31:50\n",
       "               TLC      61 days 20:14:29.500000\n",
       "MANHATTAN      DCA              3 days 18:14:23\n",
       "               DEP              1 days 23:09:00\n",
       "               DFTA     12 days 22:24:04.500000\n",
       "               DHS              0 days 01:10:08\n",
       "               DOB             14 days 09:28:47\n",
       "               DOE              3 days 19:12:48\n",
       "               DOF             10 days 19:00:13\n",
       "               DOHMH            3 days 00:00:00\n",
       "               DOITT           14 days 02:30:51\n",
       "               DOT              1 days 03:52:47\n",
       "               DPR              4 days 23:50:31\n",
       "               DSNY             1 days 23:30:00\n",
       "               EDC             18 days 23:30:31\n",
       "               HPD              6 days 02:25:21\n",
       "               NYPD      0 days 01:54:39.500000\n",
       "               TLC             60 days 00:36:36\n",
       "QUEENS         DCA             15 days 01:35:38\n",
       "               DEP              0 days 20:13:00\n",
       "               DFTA     13 days 02:33:22.500000\n",
       "               DHS              0 days 00:50:56\n",
       "               DOB             24 days 09:11:03\n",
       "               DOE              4 days 10:49:02\n",
       "               DOF             12 days 03:06:58\n",
       "               DOHMH            4 days 14:42:36\n",
       "               DOITT           17 days 16:56:08\n",
       "               DOT       1 days 23:49:28.500000\n",
       "               DPR              2 days 02:23:17\n",
       "               DSNY             3 days 03:08:30\n",
       "               EDC             18 days 13:30:47\n",
       "               HPD              5 days 05:53:39\n",
       "               NYPD             0 days 02:31:49\n",
       "               TLC             55 days 08:43:30\n",
       "STATEN ISLAND  DCA             15 days 06:10:56\n",
       "               DEP              0 days 18:56:00\n",
       "               DFTA            13 days 23:36:06\n",
       "               DHS       0 days 04:15:57.500000\n",
       "               DOB             16 days 04:02:56\n",
       "               DOE              6 days 07:33:22\n",
       "               DOF             12 days 23:34:54\n",
       "               DOHMH            5 days 11:54:04\n",
       "               DOITT           17 days 21:47:06\n",
       "               DOT              1 days 21:41:27\n",
       "               DPR              2 days 03:57:32\n",
       "               DSNY             2 days 05:15:30\n",
       "               EDC      17 days 22:38:35.500000\n",
       "               HPD             13 days 08:17:09\n",
       "               NYPD      0 days 02:32:24.500000\n",
       "               TLC             59 days 02:22:32\n",
       "Unspecified    ACS                          NaT\n",
       "               COIB                         NaT\n",
       "               DCA             15 days 09:54:22\n",
       "               DCAS                         NaT\n",
       "               DCP                          NaT\n",
       "               DEP              0 days 00:59:30\n",
       "               DFTA             8 days 01:03:31\n",
       "               DOE              9 days 19:25:47\n",
       "               DOHMH           15 days 17:03:59\n",
       "               DOT       0 days 16:26:06.500000\n",
       "               DPR              2 days 11:27:22\n",
       "               NYPD      0 days 03:23:11.500000\n",
       "               TAX                          NaT\n",
       "               TLC             55 days 08:28:06\n",
       "Name: time_to_fix, dtype: timedelta64[ns]"
      ]
     },
     "execution_count": 40,
     "metadata": {},
     "output_type": "execute_result"
    }
   ],
   "source": [
    "pd.set_option(\"display.max_rows\", 200)\n",
    "df.groupby(['borough', 'agency']).time_to_fix.median()\n",
    "\n",
    "# to make this a df:\n",
    "# df.groupby(['agency', 'borough']).time_to_fix.median().sort_values() \\\n",
    "#     .to_frame('median_time_to_fix').reset_index()"
   ]
  },
  {
   "cell_type": "markdown",
   "id": "04727585",
   "metadata": {},
   "source": [
    "### Or, use another technique!"
   ]
  },
  {
   "cell_type": "markdown",
   "id": "be7a8f72",
   "metadata": {},
   "source": [
    "We talked about pivot table for a hot second in class, but it's (potentially) a good fit for this situation:\n",
    "\n",
    "```python\n",
    "df.pivot_table(\n",
    "    columns='what will show up as your columns',\n",
    "    index='what will show up as your rows',\n",
    "    values='the column that will show up in each cell',\n",
    "    aggfunc='the calculation(s) you want dont'\n",
    ")\n",
    "```"
   ]
  },
  {
   "cell_type": "code",
   "execution_count": 41,
   "id": "bcd98dc1",
   "metadata": {},
   "outputs": [
    {
     "data": {
      "text/html": [
       "<div>\n",
       "<style scoped>\n",
       "    .dataframe tbody tr th:only-of-type {\n",
       "        vertical-align: middle;\n",
       "    }\n",
       "\n",
       "    .dataframe tbody tr th {\n",
       "        vertical-align: top;\n",
       "    }\n",
       "\n",
       "    .dataframe thead th {\n",
       "        text-align: right;\n",
       "    }\n",
       "</style>\n",
       "<table border=\"1\" class=\"dataframe\">\n",
       "  <thead>\n",
       "    <tr style=\"text-align: right;\">\n",
       "      <th>borough</th>\n",
       "      <th>BRONX</th>\n",
       "      <th>BROOKLYN</th>\n",
       "      <th>MANHATTAN</th>\n",
       "      <th>QUEENS</th>\n",
       "      <th>STATEN ISLAND</th>\n",
       "      <th>Unspecified</th>\n",
       "    </tr>\n",
       "    <tr>\n",
       "      <th>agency</th>\n",
       "      <th></th>\n",
       "      <th></th>\n",
       "      <th></th>\n",
       "      <th></th>\n",
       "      <th></th>\n",
       "      <th></th>\n",
       "    </tr>\n",
       "  </thead>\n",
       "  <tbody>\n",
       "    <tr>\n",
       "      <th>DCA</th>\n",
       "      <td>15 days 06:21:21</td>\n",
       "      <td>5 days 03:51:55</td>\n",
       "      <td>3 days 18:14:23</td>\n",
       "      <td>15 days 01:35:38</td>\n",
       "      <td>15 days 06:10:56</td>\n",
       "      <td>15 days 09:54:22</td>\n",
       "    </tr>\n",
       "    <tr>\n",
       "      <th>DEP</th>\n",
       "      <td>0 days 21:23:30</td>\n",
       "      <td>0 days 19:56:00</td>\n",
       "      <td>1 days 23:09:00</td>\n",
       "      <td>0 days 20:13:00</td>\n",
       "      <td>0 days 18:56:00</td>\n",
       "      <td>0 days 00:59:30</td>\n",
       "    </tr>\n",
       "    <tr>\n",
       "      <th>DFTA</th>\n",
       "      <td>13 days 00:02:30.500000</td>\n",
       "      <td>12 days 23:30:09</td>\n",
       "      <td>12 days 22:24:04.500000</td>\n",
       "      <td>13 days 02:33:22.500000</td>\n",
       "      <td>13 days 23:36:06</td>\n",
       "      <td>8 days 01:03:31</td>\n",
       "    </tr>\n",
       "    <tr>\n",
       "      <th>DHS</th>\n",
       "      <td>0 days 01:43:37.500000</td>\n",
       "      <td>0 days 01:56:10.500000</td>\n",
       "      <td>0 days 01:10:08</td>\n",
       "      <td>0 days 00:50:56</td>\n",
       "      <td>0 days 04:15:57.500000</td>\n",
       "      <td>NaT</td>\n",
       "    </tr>\n",
       "    <tr>\n",
       "      <th>DOB</th>\n",
       "      <td>15 days 15:08:27</td>\n",
       "      <td>20 days 10:41:12</td>\n",
       "      <td>14 days 09:28:47</td>\n",
       "      <td>24 days 09:11:03</td>\n",
       "      <td>16 days 04:02:56</td>\n",
       "      <td>NaT</td>\n",
       "    </tr>\n",
       "    <tr>\n",
       "      <th>DOE</th>\n",
       "      <td>5 days 01:34:55</td>\n",
       "      <td>2 days 17:11:26</td>\n",
       "      <td>3 days 19:12:48</td>\n",
       "      <td>4 days 10:49:02</td>\n",
       "      <td>6 days 07:33:22</td>\n",
       "      <td>9 days 19:25:47</td>\n",
       "    </tr>\n",
       "    <tr>\n",
       "      <th>DOF</th>\n",
       "      <td>14 days 22:46:47</td>\n",
       "      <td>14 days 06:27:49.500000</td>\n",
       "      <td>10 days 19:00:13</td>\n",
       "      <td>12 days 03:06:58</td>\n",
       "      <td>12 days 23:34:54</td>\n",
       "      <td>NaT</td>\n",
       "    </tr>\n",
       "    <tr>\n",
       "      <th>DOHMH</th>\n",
       "      <td>2 days 00:00:00</td>\n",
       "      <td>4 days 00:00:00</td>\n",
       "      <td>3 days 00:00:00</td>\n",
       "      <td>4 days 14:42:36</td>\n",
       "      <td>5 days 11:54:04</td>\n",
       "      <td>15 days 17:03:59</td>\n",
       "    </tr>\n",
       "    <tr>\n",
       "      <th>DOITT</th>\n",
       "      <td>15 days 01:18:20.500000</td>\n",
       "      <td>13 days 01:52:56</td>\n",
       "      <td>14 days 02:30:51</td>\n",
       "      <td>17 days 16:56:08</td>\n",
       "      <td>17 days 21:47:06</td>\n",
       "      <td>NaT</td>\n",
       "    </tr>\n",
       "    <tr>\n",
       "      <th>DOT</th>\n",
       "      <td>1 days 00:56:15</td>\n",
       "      <td>1 days 04:31:01</td>\n",
       "      <td>1 days 03:52:47</td>\n",
       "      <td>1 days 23:49:28.500000</td>\n",
       "      <td>1 days 21:41:27</td>\n",
       "      <td>0 days 16:26:06.500000</td>\n",
       "    </tr>\n",
       "    <tr>\n",
       "      <th>DPR</th>\n",
       "      <td>4 days 05:28:17</td>\n",
       "      <td>4 days 01:32:10</td>\n",
       "      <td>4 days 23:50:31</td>\n",
       "      <td>2 days 02:23:17</td>\n",
       "      <td>2 days 03:57:32</td>\n",
       "      <td>2 days 11:27:22</td>\n",
       "    </tr>\n",
       "    <tr>\n",
       "      <th>DSNY</th>\n",
       "      <td>1 days 16:25:00</td>\n",
       "      <td>2 days 09:38:00</td>\n",
       "      <td>1 days 23:30:00</td>\n",
       "      <td>3 days 03:08:30</td>\n",
       "      <td>2 days 05:15:30</td>\n",
       "      <td>NaT</td>\n",
       "    </tr>\n",
       "    <tr>\n",
       "      <th>EDC</th>\n",
       "      <td>29 days 09:57:57</td>\n",
       "      <td>19 days 23:27:58</td>\n",
       "      <td>18 days 23:30:31</td>\n",
       "      <td>18 days 13:30:47</td>\n",
       "      <td>17 days 22:38:35.500000</td>\n",
       "      <td>NaT</td>\n",
       "    </tr>\n",
       "    <tr>\n",
       "      <th>HPD</th>\n",
       "      <td>6 days 07:25:41</td>\n",
       "      <td>4 days 00:34:31</td>\n",
       "      <td>6 days 02:25:21</td>\n",
       "      <td>5 days 05:53:39</td>\n",
       "      <td>13 days 08:17:09</td>\n",
       "      <td>NaT</td>\n",
       "    </tr>\n",
       "    <tr>\n",
       "      <th>NYPD</th>\n",
       "      <td>0 days 03:57:43</td>\n",
       "      <td>0 days 02:31:50</td>\n",
       "      <td>0 days 01:54:39.500000</td>\n",
       "      <td>0 days 02:31:49</td>\n",
       "      <td>0 days 02:32:24.500000</td>\n",
       "      <td>0 days 03:23:11.500000</td>\n",
       "    </tr>\n",
       "    <tr>\n",
       "      <th>TLC</th>\n",
       "      <td>55 days 17:23:51.500000</td>\n",
       "      <td>61 days 20:14:29.500000</td>\n",
       "      <td>60 days 00:36:36</td>\n",
       "      <td>55 days 08:43:30</td>\n",
       "      <td>59 days 02:22:32</td>\n",
       "      <td>55 days 08:28:06</td>\n",
       "    </tr>\n",
       "  </tbody>\n",
       "</table>\n",
       "</div>"
      ],
      "text/plain": [
       "borough                   BRONX                BROOKLYN  \\\n",
       "agency                                                    \n",
       "DCA            15 days 06:21:21         5 days 03:51:55   \n",
       "DEP             0 days 21:23:30         0 days 19:56:00   \n",
       "DFTA    13 days 00:02:30.500000        12 days 23:30:09   \n",
       "DHS      0 days 01:43:37.500000  0 days 01:56:10.500000   \n",
       "DOB            15 days 15:08:27        20 days 10:41:12   \n",
       "DOE             5 days 01:34:55         2 days 17:11:26   \n",
       "DOF            14 days 22:46:47 14 days 06:27:49.500000   \n",
       "DOHMH           2 days 00:00:00         4 days 00:00:00   \n",
       "DOITT   15 days 01:18:20.500000        13 days 01:52:56   \n",
       "DOT             1 days 00:56:15         1 days 04:31:01   \n",
       "DPR             4 days 05:28:17         4 days 01:32:10   \n",
       "DSNY            1 days 16:25:00         2 days 09:38:00   \n",
       "EDC            29 days 09:57:57        19 days 23:27:58   \n",
       "HPD             6 days 07:25:41         4 days 00:34:31   \n",
       "NYPD            0 days 03:57:43         0 days 02:31:50   \n",
       "TLC     55 days 17:23:51.500000 61 days 20:14:29.500000   \n",
       "\n",
       "borough               MANHATTAN                  QUEENS  \\\n",
       "agency                                                    \n",
       "DCA             3 days 18:14:23        15 days 01:35:38   \n",
       "DEP             1 days 23:09:00         0 days 20:13:00   \n",
       "DFTA    12 days 22:24:04.500000 13 days 02:33:22.500000   \n",
       "DHS             0 days 01:10:08         0 days 00:50:56   \n",
       "DOB            14 days 09:28:47        24 days 09:11:03   \n",
       "DOE             3 days 19:12:48         4 days 10:49:02   \n",
       "DOF            10 days 19:00:13        12 days 03:06:58   \n",
       "DOHMH           3 days 00:00:00         4 days 14:42:36   \n",
       "DOITT          14 days 02:30:51        17 days 16:56:08   \n",
       "DOT             1 days 03:52:47  1 days 23:49:28.500000   \n",
       "DPR             4 days 23:50:31         2 days 02:23:17   \n",
       "DSNY            1 days 23:30:00         3 days 03:08:30   \n",
       "EDC            18 days 23:30:31        18 days 13:30:47   \n",
       "HPD             6 days 02:25:21         5 days 05:53:39   \n",
       "NYPD     0 days 01:54:39.500000         0 days 02:31:49   \n",
       "TLC            60 days 00:36:36        55 days 08:43:30   \n",
       "\n",
       "borough           STATEN ISLAND            Unspecified  \n",
       "agency                                                  \n",
       "DCA            15 days 06:10:56       15 days 09:54:22  \n",
       "DEP             0 days 18:56:00        0 days 00:59:30  \n",
       "DFTA           13 days 23:36:06        8 days 01:03:31  \n",
       "DHS      0 days 04:15:57.500000                    NaT  \n",
       "DOB            16 days 04:02:56                    NaT  \n",
       "DOE             6 days 07:33:22        9 days 19:25:47  \n",
       "DOF            12 days 23:34:54                    NaT  \n",
       "DOHMH           5 days 11:54:04       15 days 17:03:59  \n",
       "DOITT          17 days 21:47:06                    NaT  \n",
       "DOT             1 days 21:41:27 0 days 16:26:06.500000  \n",
       "DPR             2 days 03:57:32        2 days 11:27:22  \n",
       "DSNY            2 days 05:15:30                    NaT  \n",
       "EDC     17 days 22:38:35.500000                    NaT  \n",
       "HPD            13 days 08:17:09                    NaT  \n",
       "NYPD     0 days 02:32:24.500000 0 days 03:23:11.500000  \n",
       "TLC            59 days 02:22:32       55 days 08:28:06  "
      ]
     },
     "execution_count": 41,
     "metadata": {},
     "output_type": "execute_result"
    }
   ],
   "source": [
    "pivoted = df.pivot_table(\n",
    "    columns='borough',\n",
    "    index='agency',\n",
    "    values='time_to_fix',\n",
    "    aggfunc='median'\n",
    ")\n",
    "\n",
    "pivoted\n",
    "\n",
    "# Another way I attempted this: with borough as the row and agency as the index\n",
    "# df.pivot_table(\n",
    "#     columns='agency',\n",
    "#     index='borough',\n",
    "#     values='time_to_fix',\n",
    "#     aggfunc='median'\n",
    "# )"
   ]
  },
  {
   "cell_type": "markdown",
   "id": "01d10369",
   "metadata": {},
   "source": [
    "### Use the pivot table result to find the worst-performing agency in the Bronx, then compare with Staten Island\n",
    "\n",
    "Since it's a dataframe, you can use the power of `.sort_values` (twice!). Do any of the agencies have a large difference between the two?"
   ]
  },
  {
   "cell_type": "code",
   "execution_count": 42,
   "id": "e09a49d8",
   "metadata": {},
   "outputs": [
    {
     "data": {
      "text/html": [
       "<div>\n",
       "<style scoped>\n",
       "    .dataframe tbody tr th:only-of-type {\n",
       "        vertical-align: middle;\n",
       "    }\n",
       "\n",
       "    .dataframe tbody tr th {\n",
       "        vertical-align: top;\n",
       "    }\n",
       "\n",
       "    .dataframe thead th {\n",
       "        text-align: right;\n",
       "    }\n",
       "</style>\n",
       "<table border=\"1\" class=\"dataframe\">\n",
       "  <thead>\n",
       "    <tr style=\"text-align: right;\">\n",
       "      <th>borough</th>\n",
       "      <th>BRONX</th>\n",
       "      <th>BROOKLYN</th>\n",
       "      <th>MANHATTAN</th>\n",
       "      <th>QUEENS</th>\n",
       "      <th>STATEN ISLAND</th>\n",
       "      <th>Unspecified</th>\n",
       "    </tr>\n",
       "    <tr>\n",
       "      <th>agency</th>\n",
       "      <th></th>\n",
       "      <th></th>\n",
       "      <th></th>\n",
       "      <th></th>\n",
       "      <th></th>\n",
       "      <th></th>\n",
       "    </tr>\n",
       "  </thead>\n",
       "  <tbody>\n",
       "    <tr>\n",
       "      <th>TLC</th>\n",
       "      <td>55 days 17:23:51.500000</td>\n",
       "      <td>61 days 20:14:29.500000</td>\n",
       "      <td>60 days 00:36:36</td>\n",
       "      <td>55 days 08:43:30</td>\n",
       "      <td>59 days 02:22:32</td>\n",
       "      <td>55 days 08:28:06</td>\n",
       "    </tr>\n",
       "    <tr>\n",
       "      <th>EDC</th>\n",
       "      <td>29 days 09:57:57</td>\n",
       "      <td>19 days 23:27:58</td>\n",
       "      <td>18 days 23:30:31</td>\n",
       "      <td>18 days 13:30:47</td>\n",
       "      <td>17 days 22:38:35.500000</td>\n",
       "      <td>NaT</td>\n",
       "    </tr>\n",
       "    <tr>\n",
       "      <th>DOB</th>\n",
       "      <td>15 days 15:08:27</td>\n",
       "      <td>20 days 10:41:12</td>\n",
       "      <td>14 days 09:28:47</td>\n",
       "      <td>24 days 09:11:03</td>\n",
       "      <td>16 days 04:02:56</td>\n",
       "      <td>NaT</td>\n",
       "    </tr>\n",
       "    <tr>\n",
       "      <th>DCA</th>\n",
       "      <td>15 days 06:21:21</td>\n",
       "      <td>5 days 03:51:55</td>\n",
       "      <td>3 days 18:14:23</td>\n",
       "      <td>15 days 01:35:38</td>\n",
       "      <td>15 days 06:10:56</td>\n",
       "      <td>15 days 09:54:22</td>\n",
       "    </tr>\n",
       "    <tr>\n",
       "      <th>DOITT</th>\n",
       "      <td>15 days 01:18:20.500000</td>\n",
       "      <td>13 days 01:52:56</td>\n",
       "      <td>14 days 02:30:51</td>\n",
       "      <td>17 days 16:56:08</td>\n",
       "      <td>17 days 21:47:06</td>\n",
       "      <td>NaT</td>\n",
       "    </tr>\n",
       "    <tr>\n",
       "      <th>DOF</th>\n",
       "      <td>14 days 22:46:47</td>\n",
       "      <td>14 days 06:27:49.500000</td>\n",
       "      <td>10 days 19:00:13</td>\n",
       "      <td>12 days 03:06:58</td>\n",
       "      <td>12 days 23:34:54</td>\n",
       "      <td>NaT</td>\n",
       "    </tr>\n",
       "    <tr>\n",
       "      <th>DFTA</th>\n",
       "      <td>13 days 00:02:30.500000</td>\n",
       "      <td>12 days 23:30:09</td>\n",
       "      <td>12 days 22:24:04.500000</td>\n",
       "      <td>13 days 02:33:22.500000</td>\n",
       "      <td>13 days 23:36:06</td>\n",
       "      <td>8 days 01:03:31</td>\n",
       "    </tr>\n",
       "    <tr>\n",
       "      <th>HPD</th>\n",
       "      <td>6 days 07:25:41</td>\n",
       "      <td>4 days 00:34:31</td>\n",
       "      <td>6 days 02:25:21</td>\n",
       "      <td>5 days 05:53:39</td>\n",
       "      <td>13 days 08:17:09</td>\n",
       "      <td>NaT</td>\n",
       "    </tr>\n",
       "    <tr>\n",
       "      <th>DOE</th>\n",
       "      <td>5 days 01:34:55</td>\n",
       "      <td>2 days 17:11:26</td>\n",
       "      <td>3 days 19:12:48</td>\n",
       "      <td>4 days 10:49:02</td>\n",
       "      <td>6 days 07:33:22</td>\n",
       "      <td>9 days 19:25:47</td>\n",
       "    </tr>\n",
       "    <tr>\n",
       "      <th>DPR</th>\n",
       "      <td>4 days 05:28:17</td>\n",
       "      <td>4 days 01:32:10</td>\n",
       "      <td>4 days 23:50:31</td>\n",
       "      <td>2 days 02:23:17</td>\n",
       "      <td>2 days 03:57:32</td>\n",
       "      <td>2 days 11:27:22</td>\n",
       "    </tr>\n",
       "    <tr>\n",
       "      <th>DOHMH</th>\n",
       "      <td>2 days 00:00:00</td>\n",
       "      <td>4 days 00:00:00</td>\n",
       "      <td>3 days 00:00:00</td>\n",
       "      <td>4 days 14:42:36</td>\n",
       "      <td>5 days 11:54:04</td>\n",
       "      <td>15 days 17:03:59</td>\n",
       "    </tr>\n",
       "    <tr>\n",
       "      <th>DSNY</th>\n",
       "      <td>1 days 16:25:00</td>\n",
       "      <td>2 days 09:38:00</td>\n",
       "      <td>1 days 23:30:00</td>\n",
       "      <td>3 days 03:08:30</td>\n",
       "      <td>2 days 05:15:30</td>\n",
       "      <td>NaT</td>\n",
       "    </tr>\n",
       "    <tr>\n",
       "      <th>DOT</th>\n",
       "      <td>1 days 00:56:15</td>\n",
       "      <td>1 days 04:31:01</td>\n",
       "      <td>1 days 03:52:47</td>\n",
       "      <td>1 days 23:49:28.500000</td>\n",
       "      <td>1 days 21:41:27</td>\n",
       "      <td>0 days 16:26:06.500000</td>\n",
       "    </tr>\n",
       "    <tr>\n",
       "      <th>DEP</th>\n",
       "      <td>0 days 21:23:30</td>\n",
       "      <td>0 days 19:56:00</td>\n",
       "      <td>1 days 23:09:00</td>\n",
       "      <td>0 days 20:13:00</td>\n",
       "      <td>0 days 18:56:00</td>\n",
       "      <td>0 days 00:59:30</td>\n",
       "    </tr>\n",
       "    <tr>\n",
       "      <th>NYPD</th>\n",
       "      <td>0 days 03:57:43</td>\n",
       "      <td>0 days 02:31:50</td>\n",
       "      <td>0 days 01:54:39.500000</td>\n",
       "      <td>0 days 02:31:49</td>\n",
       "      <td>0 days 02:32:24.500000</td>\n",
       "      <td>0 days 03:23:11.500000</td>\n",
       "    </tr>\n",
       "    <tr>\n",
       "      <th>DHS</th>\n",
       "      <td>0 days 01:43:37.500000</td>\n",
       "      <td>0 days 01:56:10.500000</td>\n",
       "      <td>0 days 01:10:08</td>\n",
       "      <td>0 days 00:50:56</td>\n",
       "      <td>0 days 04:15:57.500000</td>\n",
       "      <td>NaT</td>\n",
       "    </tr>\n",
       "  </tbody>\n",
       "</table>\n",
       "</div>"
      ],
      "text/plain": [
       "borough                   BRONX                BROOKLYN  \\\n",
       "agency                                                    \n",
       "TLC     55 days 17:23:51.500000 61 days 20:14:29.500000   \n",
       "EDC            29 days 09:57:57        19 days 23:27:58   \n",
       "DOB            15 days 15:08:27        20 days 10:41:12   \n",
       "DCA            15 days 06:21:21         5 days 03:51:55   \n",
       "DOITT   15 days 01:18:20.500000        13 days 01:52:56   \n",
       "DOF            14 days 22:46:47 14 days 06:27:49.500000   \n",
       "DFTA    13 days 00:02:30.500000        12 days 23:30:09   \n",
       "HPD             6 days 07:25:41         4 days 00:34:31   \n",
       "DOE             5 days 01:34:55         2 days 17:11:26   \n",
       "DPR             4 days 05:28:17         4 days 01:32:10   \n",
       "DOHMH           2 days 00:00:00         4 days 00:00:00   \n",
       "DSNY            1 days 16:25:00         2 days 09:38:00   \n",
       "DOT             1 days 00:56:15         1 days 04:31:01   \n",
       "DEP             0 days 21:23:30         0 days 19:56:00   \n",
       "NYPD            0 days 03:57:43         0 days 02:31:50   \n",
       "DHS      0 days 01:43:37.500000  0 days 01:56:10.500000   \n",
       "\n",
       "borough               MANHATTAN                  QUEENS  \\\n",
       "agency                                                    \n",
       "TLC            60 days 00:36:36        55 days 08:43:30   \n",
       "EDC            18 days 23:30:31        18 days 13:30:47   \n",
       "DOB            14 days 09:28:47        24 days 09:11:03   \n",
       "DCA             3 days 18:14:23        15 days 01:35:38   \n",
       "DOITT          14 days 02:30:51        17 days 16:56:08   \n",
       "DOF            10 days 19:00:13        12 days 03:06:58   \n",
       "DFTA    12 days 22:24:04.500000 13 days 02:33:22.500000   \n",
       "HPD             6 days 02:25:21         5 days 05:53:39   \n",
       "DOE             3 days 19:12:48         4 days 10:49:02   \n",
       "DPR             4 days 23:50:31         2 days 02:23:17   \n",
       "DOHMH           3 days 00:00:00         4 days 14:42:36   \n",
       "DSNY            1 days 23:30:00         3 days 03:08:30   \n",
       "DOT             1 days 03:52:47  1 days 23:49:28.500000   \n",
       "DEP             1 days 23:09:00         0 days 20:13:00   \n",
       "NYPD     0 days 01:54:39.500000         0 days 02:31:49   \n",
       "DHS             0 days 01:10:08         0 days 00:50:56   \n",
       "\n",
       "borough           STATEN ISLAND            Unspecified  \n",
       "agency                                                  \n",
       "TLC            59 days 02:22:32       55 days 08:28:06  \n",
       "EDC     17 days 22:38:35.500000                    NaT  \n",
       "DOB            16 days 04:02:56                    NaT  \n",
       "DCA            15 days 06:10:56       15 days 09:54:22  \n",
       "DOITT          17 days 21:47:06                    NaT  \n",
       "DOF            12 days 23:34:54                    NaT  \n",
       "DFTA           13 days 23:36:06        8 days 01:03:31  \n",
       "HPD            13 days 08:17:09                    NaT  \n",
       "DOE             6 days 07:33:22        9 days 19:25:47  \n",
       "DPR             2 days 03:57:32        2 days 11:27:22  \n",
       "DOHMH           5 days 11:54:04       15 days 17:03:59  \n",
       "DSNY            2 days 05:15:30                    NaT  \n",
       "DOT             1 days 21:41:27 0 days 16:26:06.500000  \n",
       "DEP             0 days 18:56:00        0 days 00:59:30  \n",
       "NYPD     0 days 02:32:24.500000 0 days 03:23:11.500000  \n",
       "DHS      0 days 04:15:57.500000                    NaT  "
      ]
     },
     "execution_count": 42,
     "metadata": {},
     "output_type": "execute_result"
    }
   ],
   "source": [
    "# TLC is the worst in the Bronx\n",
    "pivoted.sort_values('BRONX', ascending=False)"
   ]
  },
  {
   "cell_type": "code",
   "execution_count": 43,
   "id": "e62e55f1",
   "metadata": {},
   "outputs": [
    {
     "data": {
      "text/html": [
       "<div>\n",
       "<style scoped>\n",
       "    .dataframe tbody tr th:only-of-type {\n",
       "        vertical-align: middle;\n",
       "    }\n",
       "\n",
       "    .dataframe tbody tr th {\n",
       "        vertical-align: top;\n",
       "    }\n",
       "\n",
       "    .dataframe thead th {\n",
       "        text-align: right;\n",
       "    }\n",
       "</style>\n",
       "<table border=\"1\" class=\"dataframe\">\n",
       "  <thead>\n",
       "    <tr style=\"text-align: right;\">\n",
       "      <th>borough</th>\n",
       "      <th>BRONX</th>\n",
       "      <th>BROOKLYN</th>\n",
       "      <th>MANHATTAN</th>\n",
       "      <th>QUEENS</th>\n",
       "      <th>STATEN ISLAND</th>\n",
       "      <th>Unspecified</th>\n",
       "    </tr>\n",
       "    <tr>\n",
       "      <th>agency</th>\n",
       "      <th></th>\n",
       "      <th></th>\n",
       "      <th></th>\n",
       "      <th></th>\n",
       "      <th></th>\n",
       "      <th></th>\n",
       "    </tr>\n",
       "  </thead>\n",
       "  <tbody>\n",
       "    <tr>\n",
       "      <th>TLC</th>\n",
       "      <td>55 days 17:23:51.500000</td>\n",
       "      <td>61 days 20:14:29.500000</td>\n",
       "      <td>60 days 00:36:36</td>\n",
       "      <td>55 days 08:43:30</td>\n",
       "      <td>59 days 02:22:32</td>\n",
       "      <td>55 days 08:28:06</td>\n",
       "    </tr>\n",
       "    <tr>\n",
       "      <th>EDC</th>\n",
       "      <td>29 days 09:57:57</td>\n",
       "      <td>19 days 23:27:58</td>\n",
       "      <td>18 days 23:30:31</td>\n",
       "      <td>18 days 13:30:47</td>\n",
       "      <td>17 days 22:38:35.500000</td>\n",
       "      <td>NaT</td>\n",
       "    </tr>\n",
       "    <tr>\n",
       "      <th>DOITT</th>\n",
       "      <td>15 days 01:18:20.500000</td>\n",
       "      <td>13 days 01:52:56</td>\n",
       "      <td>14 days 02:30:51</td>\n",
       "      <td>17 days 16:56:08</td>\n",
       "      <td>17 days 21:47:06</td>\n",
       "      <td>NaT</td>\n",
       "    </tr>\n",
       "    <tr>\n",
       "      <th>DOB</th>\n",
       "      <td>15 days 15:08:27</td>\n",
       "      <td>20 days 10:41:12</td>\n",
       "      <td>14 days 09:28:47</td>\n",
       "      <td>24 days 09:11:03</td>\n",
       "      <td>16 days 04:02:56</td>\n",
       "      <td>NaT</td>\n",
       "    </tr>\n",
       "    <tr>\n",
       "      <th>DCA</th>\n",
       "      <td>15 days 06:21:21</td>\n",
       "      <td>5 days 03:51:55</td>\n",
       "      <td>3 days 18:14:23</td>\n",
       "      <td>15 days 01:35:38</td>\n",
       "      <td>15 days 06:10:56</td>\n",
       "      <td>15 days 09:54:22</td>\n",
       "    </tr>\n",
       "    <tr>\n",
       "      <th>DFTA</th>\n",
       "      <td>13 days 00:02:30.500000</td>\n",
       "      <td>12 days 23:30:09</td>\n",
       "      <td>12 days 22:24:04.500000</td>\n",
       "      <td>13 days 02:33:22.500000</td>\n",
       "      <td>13 days 23:36:06</td>\n",
       "      <td>8 days 01:03:31</td>\n",
       "    </tr>\n",
       "    <tr>\n",
       "      <th>HPD</th>\n",
       "      <td>6 days 07:25:41</td>\n",
       "      <td>4 days 00:34:31</td>\n",
       "      <td>6 days 02:25:21</td>\n",
       "      <td>5 days 05:53:39</td>\n",
       "      <td>13 days 08:17:09</td>\n",
       "      <td>NaT</td>\n",
       "    </tr>\n",
       "    <tr>\n",
       "      <th>DOF</th>\n",
       "      <td>14 days 22:46:47</td>\n",
       "      <td>14 days 06:27:49.500000</td>\n",
       "      <td>10 days 19:00:13</td>\n",
       "      <td>12 days 03:06:58</td>\n",
       "      <td>12 days 23:34:54</td>\n",
       "      <td>NaT</td>\n",
       "    </tr>\n",
       "    <tr>\n",
       "      <th>DOE</th>\n",
       "      <td>5 days 01:34:55</td>\n",
       "      <td>2 days 17:11:26</td>\n",
       "      <td>3 days 19:12:48</td>\n",
       "      <td>4 days 10:49:02</td>\n",
       "      <td>6 days 07:33:22</td>\n",
       "      <td>9 days 19:25:47</td>\n",
       "    </tr>\n",
       "    <tr>\n",
       "      <th>DOHMH</th>\n",
       "      <td>2 days 00:00:00</td>\n",
       "      <td>4 days 00:00:00</td>\n",
       "      <td>3 days 00:00:00</td>\n",
       "      <td>4 days 14:42:36</td>\n",
       "      <td>5 days 11:54:04</td>\n",
       "      <td>15 days 17:03:59</td>\n",
       "    </tr>\n",
       "    <tr>\n",
       "      <th>DSNY</th>\n",
       "      <td>1 days 16:25:00</td>\n",
       "      <td>2 days 09:38:00</td>\n",
       "      <td>1 days 23:30:00</td>\n",
       "      <td>3 days 03:08:30</td>\n",
       "      <td>2 days 05:15:30</td>\n",
       "      <td>NaT</td>\n",
       "    </tr>\n",
       "    <tr>\n",
       "      <th>DPR</th>\n",
       "      <td>4 days 05:28:17</td>\n",
       "      <td>4 days 01:32:10</td>\n",
       "      <td>4 days 23:50:31</td>\n",
       "      <td>2 days 02:23:17</td>\n",
       "      <td>2 days 03:57:32</td>\n",
       "      <td>2 days 11:27:22</td>\n",
       "    </tr>\n",
       "    <tr>\n",
       "      <th>DOT</th>\n",
       "      <td>1 days 00:56:15</td>\n",
       "      <td>1 days 04:31:01</td>\n",
       "      <td>1 days 03:52:47</td>\n",
       "      <td>1 days 23:49:28.500000</td>\n",
       "      <td>1 days 21:41:27</td>\n",
       "      <td>0 days 16:26:06.500000</td>\n",
       "    </tr>\n",
       "    <tr>\n",
       "      <th>DEP</th>\n",
       "      <td>0 days 21:23:30</td>\n",
       "      <td>0 days 19:56:00</td>\n",
       "      <td>1 days 23:09:00</td>\n",
       "      <td>0 days 20:13:00</td>\n",
       "      <td>0 days 18:56:00</td>\n",
       "      <td>0 days 00:59:30</td>\n",
       "    </tr>\n",
       "    <tr>\n",
       "      <th>DHS</th>\n",
       "      <td>0 days 01:43:37.500000</td>\n",
       "      <td>0 days 01:56:10.500000</td>\n",
       "      <td>0 days 01:10:08</td>\n",
       "      <td>0 days 00:50:56</td>\n",
       "      <td>0 days 04:15:57.500000</td>\n",
       "      <td>NaT</td>\n",
       "    </tr>\n",
       "    <tr>\n",
       "      <th>NYPD</th>\n",
       "      <td>0 days 03:57:43</td>\n",
       "      <td>0 days 02:31:50</td>\n",
       "      <td>0 days 01:54:39.500000</td>\n",
       "      <td>0 days 02:31:49</td>\n",
       "      <td>0 days 02:32:24.500000</td>\n",
       "      <td>0 days 03:23:11.500000</td>\n",
       "    </tr>\n",
       "  </tbody>\n",
       "</table>\n",
       "</div>"
      ],
      "text/plain": [
       "borough                   BRONX                BROOKLYN  \\\n",
       "agency                                                    \n",
       "TLC     55 days 17:23:51.500000 61 days 20:14:29.500000   \n",
       "EDC            29 days 09:57:57        19 days 23:27:58   \n",
       "DOITT   15 days 01:18:20.500000        13 days 01:52:56   \n",
       "DOB            15 days 15:08:27        20 days 10:41:12   \n",
       "DCA            15 days 06:21:21         5 days 03:51:55   \n",
       "DFTA    13 days 00:02:30.500000        12 days 23:30:09   \n",
       "HPD             6 days 07:25:41         4 days 00:34:31   \n",
       "DOF            14 days 22:46:47 14 days 06:27:49.500000   \n",
       "DOE             5 days 01:34:55         2 days 17:11:26   \n",
       "DOHMH           2 days 00:00:00         4 days 00:00:00   \n",
       "DSNY            1 days 16:25:00         2 days 09:38:00   \n",
       "DPR             4 days 05:28:17         4 days 01:32:10   \n",
       "DOT             1 days 00:56:15         1 days 04:31:01   \n",
       "DEP             0 days 21:23:30         0 days 19:56:00   \n",
       "DHS      0 days 01:43:37.500000  0 days 01:56:10.500000   \n",
       "NYPD            0 days 03:57:43         0 days 02:31:50   \n",
       "\n",
       "borough               MANHATTAN                  QUEENS  \\\n",
       "agency                                                    \n",
       "TLC            60 days 00:36:36        55 days 08:43:30   \n",
       "EDC            18 days 23:30:31        18 days 13:30:47   \n",
       "DOITT          14 days 02:30:51        17 days 16:56:08   \n",
       "DOB            14 days 09:28:47        24 days 09:11:03   \n",
       "DCA             3 days 18:14:23        15 days 01:35:38   \n",
       "DFTA    12 days 22:24:04.500000 13 days 02:33:22.500000   \n",
       "HPD             6 days 02:25:21         5 days 05:53:39   \n",
       "DOF            10 days 19:00:13        12 days 03:06:58   \n",
       "DOE             3 days 19:12:48         4 days 10:49:02   \n",
       "DOHMH           3 days 00:00:00         4 days 14:42:36   \n",
       "DSNY            1 days 23:30:00         3 days 03:08:30   \n",
       "DPR             4 days 23:50:31         2 days 02:23:17   \n",
       "DOT             1 days 03:52:47  1 days 23:49:28.500000   \n",
       "DEP             1 days 23:09:00         0 days 20:13:00   \n",
       "DHS             0 days 01:10:08         0 days 00:50:56   \n",
       "NYPD     0 days 01:54:39.500000         0 days 02:31:49   \n",
       "\n",
       "borough           STATEN ISLAND            Unspecified  \n",
       "agency                                                  \n",
       "TLC            59 days 02:22:32       55 days 08:28:06  \n",
       "EDC     17 days 22:38:35.500000                    NaT  \n",
       "DOITT          17 days 21:47:06                    NaT  \n",
       "DOB            16 days 04:02:56                    NaT  \n",
       "DCA            15 days 06:10:56       15 days 09:54:22  \n",
       "DFTA           13 days 23:36:06        8 days 01:03:31  \n",
       "HPD            13 days 08:17:09                    NaT  \n",
       "DOF            12 days 23:34:54                    NaT  \n",
       "DOE             6 days 07:33:22        9 days 19:25:47  \n",
       "DOHMH           5 days 11:54:04       15 days 17:03:59  \n",
       "DSNY            2 days 05:15:30                    NaT  \n",
       "DPR             2 days 03:57:32        2 days 11:27:22  \n",
       "DOT             1 days 21:41:27 0 days 16:26:06.500000  \n",
       "DEP             0 days 18:56:00        0 days 00:59:30  \n",
       "DHS      0 days 04:15:57.500000                    NaT  \n",
       "NYPD     0 days 02:32:24.500000 0 days 03:23:11.500000  "
      ]
     },
     "execution_count": 43,
     "metadata": {},
     "output_type": "execute_result"
    }
   ],
   "source": [
    "# TLC is the worst in Staten Island too\n",
    "pivoted.sort_values('STATEN ISLAND', ascending=False)\n",
    "\n",
    "# EDC takes 16 days longer in the Bronx to resolve a complaint than elsewhere\n",
    "# DOB responses are also slower in the Bronx"
   ]
  },
  {
   "cell_type": "markdown",
   "id": "ce6c5d0b",
   "metadata": {},
   "source": [
    "## What were the top ten 311 types of complaints on Thanksgiving 2020? Are they different than the day before Thanksgiving?\n",
    "\n",
    "**Finding exact dates is awful, honestly.** While you can do something like this to ask for rows after a specific date:\n",
    "\n",
    "```python\n",
    "df[df.date_column >= '2020-01-01']\n",
    "```\n",
    "\n",
    "You, for some reason, can't ask for an **exact match** unless you're really looking for exactly at midnight. For example, this won't give you what you want:\n",
    "\n",
    "```python\n",
    "df[df.date_column == '2020-01-01']\n",
    "```\n",
    "\n",
    "Instead, the thing you need to do is this:\n",
    "\n",
    "```python\n",
    "df[(df.date_column >= '2020-01-01') & (df.date_column < '2020-01-02']\n",
    "```\n",
    "\n",
    "Everything that starts at midnight on the 1st but *is still less than midnight on the 2nd**."
   ]
  },
  {
   "cell_type": "code",
   "execution_count": 44,
   "id": "e6882c87",
   "metadata": {},
   "outputs": [
    {
     "data": {
      "text/html": [
       "<div>\n",
       "<style scoped>\n",
       "    .dataframe tbody tr th:only-of-type {\n",
       "        vertical-align: middle;\n",
       "    }\n",
       "\n",
       "    .dataframe tbody tr th {\n",
       "        vertical-align: top;\n",
       "    }\n",
       "\n",
       "    .dataframe thead th {\n",
       "        text-align: right;\n",
       "    }\n",
       "</style>\n",
       "<table border=\"1\" class=\"dataframe\">\n",
       "  <thead>\n",
       "    <tr style=\"text-align: right;\">\n",
       "      <th></th>\n",
       "      <th>unique_key</th>\n",
       "      <th>created_date</th>\n",
       "      <th>closed_date</th>\n",
       "      <th>agency</th>\n",
       "      <th>agency_name</th>\n",
       "      <th>complaint_type</th>\n",
       "      <th>descriptor</th>\n",
       "      <th>location_type</th>\n",
       "      <th>incident_zip</th>\n",
       "      <th>incident_address</th>\n",
       "      <th>address_type</th>\n",
       "      <th>city</th>\n",
       "      <th>status</th>\n",
       "      <th>borough</th>\n",
       "      <th>open_data_channel_type</th>\n",
       "      <th>month_year</th>\n",
       "      <th>time_to_fix</th>\n",
       "    </tr>\n",
       "  </thead>\n",
       "  <tbody>\n",
       "  </tbody>\n",
       "</table>\n",
       "</div>"
      ],
      "text/plain": [
       "Empty DataFrame\n",
       "Columns: [unique_key, created_date, closed_date, agency, agency_name, complaint_type, descriptor, location_type, incident_zip, incident_address, address_type, city, status, borough, open_data_channel_type, month_year, time_to_fix]\n",
       "Index: []"
      ]
     },
     "execution_count": 44,
     "metadata": {},
     "output_type": "execute_result"
    }
   ],
   "source": [
    "df[(df.created_date >= '2020-11-25') & (df.created_date < '2020-11-26')]"
   ]
  },
  {
   "cell_type": "code",
   "execution_count": 45,
   "id": "a56a4ce0",
   "metadata": {},
   "outputs": [
    {
     "data": {
      "text/html": [
       "<div>\n",
       "<style scoped>\n",
       "    .dataframe tbody tr th:only-of-type {\n",
       "        vertical-align: middle;\n",
       "    }\n",
       "\n",
       "    .dataframe tbody tr th {\n",
       "        vertical-align: top;\n",
       "    }\n",
       "\n",
       "    .dataframe thead th {\n",
       "        text-align: right;\n",
       "    }\n",
       "</style>\n",
       "<table border=\"1\" class=\"dataframe\">\n",
       "  <thead>\n",
       "    <tr style=\"text-align: right;\">\n",
       "      <th></th>\n",
       "      <th>unique_key</th>\n",
       "      <th>created_date</th>\n",
       "      <th>closed_date</th>\n",
       "      <th>agency</th>\n",
       "      <th>agency_name</th>\n",
       "      <th>complaint_type</th>\n",
       "      <th>descriptor</th>\n",
       "      <th>location_type</th>\n",
       "      <th>incident_zip</th>\n",
       "      <th>incident_address</th>\n",
       "      <th>address_type</th>\n",
       "      <th>city</th>\n",
       "      <th>status</th>\n",
       "      <th>borough</th>\n",
       "      <th>open_data_channel_type</th>\n",
       "      <th>month_year</th>\n",
       "      <th>time_to_fix</th>\n",
       "    </tr>\n",
       "  </thead>\n",
       "  <tbody>\n",
       "  </tbody>\n",
       "</table>\n",
       "</div>"
      ],
      "text/plain": [
       "Empty DataFrame\n",
       "Columns: [unique_key, created_date, closed_date, agency, agency_name, complaint_type, descriptor, location_type, incident_zip, incident_address, address_type, city, status, borough, open_data_channel_type, month_year, time_to_fix]\n",
       "Index: []"
      ]
     },
     "execution_count": 45,
     "metadata": {},
     "output_type": "execute_result"
    }
   ],
   "source": [
    "df[(df.created_date >= '2020-11-24') & (df.created_date < '2020-11-25')]"
   ]
  },
  {
   "cell_type": "markdown",
   "id": "db27701d",
   "metadata": {},
   "source": [
    "## What is the most common 311 complaint types on Christmas day?\n",
    "\n",
    "And I mean *all Christmas days*, not just in certain years)\n",
    "\n",
    "* Tip: `dt.` and `&` are going to be your friend here\n",
    "* Tip: If you want to get fancy you can look up `strftime`\n",
    "* Tip: One of those is much much faster than the other"
   ]
  },
  {
   "cell_type": "code",
   "execution_count": 46,
   "id": "4b935a41",
   "metadata": {},
   "outputs": [
    {
     "data": {
      "text/plain": [
       "Elevator                35\n",
       "UNSANITARY CONDITION     9\n",
       "WATER LEAK               8\n",
       "ELECTRIC                 5\n",
       "PLUMBING                 5\n",
       "PAINT/PLASTER            4\n",
       "GENERAL                  2\n",
       "DOOR/WINDOW              1\n",
       "Name: complaint_type, dtype: int64"
      ]
     },
     "execution_count": 46,
     "metadata": {},
     "output_type": "execute_result"
    }
   ],
   "source": [
    "df[df.created_date.dt.strftime('%m-%d') == '12-25' ].complaint_type.value_counts()"
   ]
  }
 ],
 "metadata": {
  "kernelspec": {
   "display_name": "Python 3 (ipykernel)",
   "language": "python",
   "name": "python3"
  },
  "language_info": {
   "codemirror_mode": {
    "name": "ipython",
    "version": 3
   },
   "file_extension": ".py",
   "mimetype": "text/x-python",
   "name": "python",
   "nbconvert_exporter": "python",
   "pygments_lexer": "ipython3",
   "version": "3.9.7"
  }
 },
 "nbformat": 4,
 "nbformat_minor": 5
}
