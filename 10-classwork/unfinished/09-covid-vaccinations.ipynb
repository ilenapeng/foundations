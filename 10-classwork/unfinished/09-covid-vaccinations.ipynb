{
 "cells": [
  {
   "cell_type": "markdown",
   "id": "22f62d47",
   "metadata": {},
   "source": [
    "# COVID Vaccinations\n",
    "\n",
    "* **Data:** `covid-vaccinations.csv`\n",
    "* **Description:** Selected country-based COVID vaccination data from [Our World in Data](https://ourworldindata.org/)\n",
    "* **Source:** https://github.com/owid/covid-19-data/tree/master/public/data\n",
    "* **Columns of interest:**\n",
    "    * `continent` is the continent the country is located on\n",
    "    * `location` is the name of the country\n",
    "    * `date` is the date of the measurement\n",
    "    * `total_vaccinations` is the total number of vaccines distributed (e.g. one person with two shots = 2)\n",
    "    * `people_vaccinated` is the total number of people having received at least one vaccine shot (e.g. one person with two shots = 1)\n",
    "    * `population` is the total population of the country"
   ]
  },
  {
   "cell_type": "markdown",
   "id": "8d1acc53",
   "metadata": {},
   "source": [
    "## Read in your data"
   ]
  },
  {
   "cell_type": "code",
   "execution_count": null,
   "id": "65cc51cf",
   "metadata": {},
   "outputs": [],
   "source": []
  },
  {
   "cell_type": "markdown",
   "id": "7126970d",
   "metadata": {},
   "source": [
    "## How often does the \"people vaccinated\" column not provide data?"
   ]
  },
  {
   "cell_type": "code",
   "execution_count": null,
   "id": "28489798",
   "metadata": {},
   "outputs": [],
   "source": []
  },
  {
   "cell_type": "markdown",
   "id": "320ac940",
   "metadata": {},
   "source": [
    "## What ten countries are missing \"people vaccinated\" data most often?\n",
    "\n",
    "If a couple of them don't look like countries, don't worry, you're fine."
   ]
  },
  {
   "cell_type": "code",
   "execution_count": null,
   "id": "e87a42e5",
   "metadata": {},
   "outputs": [],
   "source": []
  },
  {
   "cell_type": "markdown",
   "id": "54ed5e1a",
   "metadata": {},
   "source": [
    "## Find the dates where Kuwait has \"people vaccinated\" data reported"
   ]
  },
  {
   "cell_type": "code",
   "execution_count": null,
   "id": "3abc5317",
   "metadata": {},
   "outputs": [],
   "source": []
  },
  {
   "cell_type": "markdown",
   "id": "19e2e664",
   "metadata": {},
   "source": [
    "## Select the data for just November 19th, 2021.\n",
    "\n",
    "Yes, we'll be missing data for some countries. The alternative would be for me to have you resample over time to get estimates, but I never taught you TimeGrouper!"
   ]
  },
  {
   "cell_type": "code",
   "execution_count": null,
   "id": "eb4331de",
   "metadata": {},
   "outputs": [],
   "source": []
  },
  {
   "cell_type": "markdown",
   "id": "3bf80769",
   "metadata": {},
   "source": [
    "## Cleaning up your data\n",
    "\n",
    "Notice that the country **OWID_AFR** is just all of Africa. There are plenty of other rows like that - collections of continents, income levels, etc. Please remove them by dropping all of the rows that do not have a continent. Your resulting dataset should have 210 rows."
   ]
  },
  {
   "cell_type": "code",
   "execution_count": null,
   "id": "82d0469f",
   "metadata": {},
   "outputs": [],
   "source": []
  },
  {
   "cell_type": "markdown",
   "id": "535af503",
   "metadata": {},
   "source": [
    "## Which five countries have used the most vaccinations?"
   ]
  },
  {
   "cell_type": "code",
   "execution_count": null,
   "id": "d5f87a99",
   "metadata": {},
   "outputs": [],
   "source": []
  },
  {
   "cell_type": "markdown",
   "id": "9f72fa0b",
   "metadata": {},
   "source": [
    "## Which continent has the most vaccinated people on it?"
   ]
  },
  {
   "cell_type": "code",
   "execution_count": null,
   "id": "cc487f0e",
   "metadata": {},
   "outputs": [],
   "source": []
  },
  {
   "cell_type": "markdown",
   "id": "76993eeb",
   "metadata": {},
   "source": [
    "## Which six countries have the most people vaccinated per-capita?\n",
    "\n",
    "You can use the \"people_vaccinated\" as the number of people vaccinated."
   ]
  },
  {
   "cell_type": "code",
   "execution_count": null,
   "id": "6338c5be",
   "metadata": {},
   "outputs": [],
   "source": []
  },
  {
   "cell_type": "code",
   "execution_count": null,
   "id": "478b8cf7",
   "metadata": {},
   "outputs": [],
   "source": []
  },
  {
   "cell_type": "markdown",
   "id": "4c9aec8b",
   "metadata": {},
   "source": [
    "## What continent has the lowest average per-capita vaccination rate?"
   ]
  },
  {
   "cell_type": "code",
   "execution_count": null,
   "id": "b47db8d9",
   "metadata": {},
   "outputs": [],
   "source": []
  },
  {
   "cell_type": "markdown",
   "id": "49484c06",
   "metadata": {},
   "source": [
    "Complete the following sentence: `With a vaccination rate of ____, the continent of ____ has vaccinated a total of _____ people out of a population of _____.`"
   ]
  },
  {
   "cell_type": "code",
   "execution_count": null,
   "id": "337c862c",
   "metadata": {},
   "outputs": [],
   "source": []
  }
 ],
 "metadata": {
  "kernelspec": {
   "display_name": "Python 3 (ipykernel)",
   "language": "python",
   "name": "python3"
  },
  "language_info": {
   "codemirror_mode": {
    "name": "ipython",
    "version": 3
   },
   "file_extension": ".py",
   "mimetype": "text/x-python",
   "name": "python",
   "nbconvert_exporter": "python",
   "pygments_lexer": "ipython3",
   "version": "3.9.7"
  }
 },
 "nbformat": 4,
 "nbformat_minor": 5
}
