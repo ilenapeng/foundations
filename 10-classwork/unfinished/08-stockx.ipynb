{
 "cells": [
  {
   "cell_type": "markdown",
   "id": "5f497065",
   "metadata": {},
   "source": [
    "# COVID Vaccinations\n",
    "\n",
    "* **Data:** `StockX-Data-Contest-2019-3.xlsx`\n",
    "* **Description:** You can buy shoes and resell them later online for more money. Wild world, right? This data is from [StockX](https://stockx.com/)\n",
    "* **Source:** https://stockx.com/news/the-2019-data-contest/\n",
    "* **Columns of interest:**\n",
    "    * `Order Date` is the resale order was completed\n",
    "    * `Brand` is the name of the company producing the shoe\n",
    "    * `Sneaker Name` is the name of the shoe itself\n",
    "    * `Sale Price` is how much the shoe went for at resale\n",
    "    * `Retail Price` is how much the shoe originally cost\n",
    "    * `Release Date` is when the shoe was originally released\n",
    "    * `Shoe Size` is the size of the shoe being sold\n",
    "    * `Buyer Region` is where the shoe's buyer is located\n",
    "\n",
    "This dataset is topical due to the passing of [Virgil Abloh, founder of Off-White](https://www.newyorker.com/culture/postscript/the-remarkable-life-of-virgil-abloh)."
   ]
  },
  {
   "cell_type": "markdown",
   "id": "a34e18b0",
   "metadata": {},
   "source": [
    "## Read in your data\n",
    "\n",
    "This Excel file has multiple sheets in it! You'll need to specify the sheet when you read it in with `sheet_name='Raw Data'`."
   ]
  },
  {
   "cell_type": "code",
   "execution_count": null,
   "id": "e77a0169",
   "metadata": {},
   "outputs": [],
   "source": []
  },
  {
   "cell_type": "markdown",
   "id": "64b9e32d",
   "metadata": {},
   "source": [
    "## What brand had more sales?\n",
    "\n",
    "Yes, there are only two of them."
   ]
  },
  {
   "cell_type": "code",
   "execution_count": null,
   "id": "4586bb21",
   "metadata": {},
   "outputs": [],
   "source": []
  },
  {
   "cell_type": "markdown",
   "id": "96608e5f",
   "metadata": {},
   "source": [
    "## What's the most common shoe size sold?\n",
    "\n",
    "I'd like you to write a sentence like `Size ____ is the most common shoe size sold, capturing ___ percent of the market.`"
   ]
  },
  {
   "cell_type": "code",
   "execution_count": null,
   "id": "7ec30863",
   "metadata": {},
   "outputs": [],
   "source": []
  },
  {
   "cell_type": "markdown",
   "id": "bc5be5ba",
   "metadata": {},
   "source": [
    "## What was the median difference between the sale price and the retail price?"
   ]
  },
  {
   "cell_type": "code",
   "execution_count": null,
   "id": "1afcd0e8",
   "metadata": {},
   "outputs": [],
   "source": []
  },
  {
   "cell_type": "markdown",
   "id": "025edaed",
   "metadata": {},
   "source": [
    "## What were the total sales (in dollars) to South Dakota, New Mexico, and Vermont?"
   ]
  },
  {
   "cell_type": "code",
   "execution_count": null,
   "id": "07d39264",
   "metadata": {},
   "outputs": [],
   "source": []
  },
  {
   "cell_type": "markdown",
   "id": "2f971a8d",
   "metadata": {},
   "source": [
    "## What were the total sales (in dollars) of shoes sized 5, 6 and 7?"
   ]
  },
  {
   "cell_type": "code",
   "execution_count": null,
   "id": "00363d4c",
   "metadata": {},
   "outputs": [],
   "source": []
  },
  {
   "cell_type": "markdown",
   "id": "f541836c",
   "metadata": {},
   "source": [
    "## What sneakers sold, on average, for the highest sale price?"
   ]
  },
  {
   "cell_type": "code",
   "execution_count": null,
   "id": "265eb338",
   "metadata": {
    "scrolled": true
   },
   "outputs": [],
   "source": []
  },
  {
   "cell_type": "markdown",
   "id": "5f640f47",
   "metadata": {},
   "source": [
    "## How many shoes in the dataset were produced by Nike?\n",
    "\n",
    "A sneaker with either 'Nike' or 'Jordan' in the name is going to be produced by Nike. "
   ]
  },
  {
   "cell_type": "code",
   "execution_count": null,
   "id": "14d08a1a",
   "metadata": {},
   "outputs": [],
   "source": []
  },
  {
   "cell_type": "markdown",
   "id": "6e50058c",
   "metadata": {},
   "source": [
    "## What are the top 3 months for buying shoes? (This is order date, not release date)\n",
    "\n",
    "People like to buy shoes for Christmas, or with money they received during Christmas. "
   ]
  },
  {
   "cell_type": "code",
   "execution_count": null,
   "id": "203a4f1a",
   "metadata": {},
   "outputs": [],
   "source": []
  },
  {
   "cell_type": "code",
   "execution_count": null,
   "id": "d40cfed2",
   "metadata": {},
   "outputs": [],
   "source": []
  },
  {
   "cell_type": "markdown",
   "id": "145ab20a",
   "metadata": {},
   "source": [
    "## What month had the most total money spent on the shoes in this dataset?\n",
    "\n",
    "Not super-month, but rather instead something like May 2017. And If you get weird decimals like `5,068,067.6894`, don't worry, the data is just a little dirty."
   ]
  },
  {
   "cell_type": "code",
   "execution_count": null,
   "id": "de14f361",
   "metadata": {
    "scrolled": true
   },
   "outputs": [],
   "source": []
  },
  {
   "cell_type": "code",
   "execution_count": null,
   "id": "089dba50",
   "metadata": {},
   "outputs": [],
   "source": []
  }
 ],
 "metadata": {
  "kernelspec": {
   "display_name": "Python 3 (ipykernel)",
   "language": "python",
   "name": "python3"
  },
  "language_info": {
   "codemirror_mode": {
    "name": "ipython",
    "version": 3
   },
   "file_extension": ".py",
   "mimetype": "text/x-python",
   "name": "python",
   "nbconvert_exporter": "python",
   "pygments_lexer": "ipython3",
   "version": "3.9.7"
  }
 },
 "nbformat": 4,
 "nbformat_minor": 5
}
