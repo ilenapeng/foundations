{
 "cells": [
  {
   "cell_type": "markdown",
   "id": "98174bb9",
   "metadata": {},
   "source": [
    "# Chinese Loans to Africa\n",
    "\n",
    "* **Data:** `china-loans-to-africa.csv`\n",
    "* **Description:** A database of loans made between Chinese financiers and African recipients\n",
    "* **Source:** https://www.bu.edu/gdp/research/databases/global-china-databases/#Chinese-Loans\n",
    "* **Columns of interest:**\n",
    "    * `year` is the year of the loan\n",
    "    * `country` is the country of the loan recipient\n",
    "    * `region` is the region of Africa (CA = Central, EA = Eastern, etc). Note that `RG` is regional investment.\n",
    "    * `borrowerNotGouv` is the recipient of the loan\n",
    "    * `financier` is the (Chinese) source of the loan\n",
    "    * `cleanUSD` is the reported value converted to US dollars\n",
    "    * `purpose` is a description of what the loan is for\n",
    "\n",
    "Note that questions like \"What country has received the most loans from China?\" are an inaccurate way to portray the loans because the government of the country wasn't the loan recipient. Additionally, reports of these loans are collected by an organization, not released by an official source, so there are a thousand and one additional caveats about trusting the data. But I think generally you should be able to understand what I mean by my questions."
   ]
  },
  {
   "cell_type": "markdown",
   "id": "98cc2ea4",
   "metadata": {},
   "source": [
    "## Read in your data"
   ]
  },
  {
   "cell_type": "code",
   "execution_count": null,
   "id": "d82f38ea",
   "metadata": {},
   "outputs": [],
   "source": []
  },
  {
   "cell_type": "markdown",
   "id": "e87d0158",
   "metadata": {},
   "source": [
    "## What country has received the most loans from China?"
   ]
  },
  {
   "cell_type": "code",
   "execution_count": null,
   "id": "b4ead550",
   "metadata": {},
   "outputs": [],
   "source": []
  },
  {
   "cell_type": "markdown",
   "id": "f6382b51",
   "metadata": {},
   "source": [
    "## What is the total amount of Chinese loans to African governments/organizations, in US dollars?\n",
    "\n",
    "Write out the total amount in a comment, as `The total amount of loans is $____`. Note that the column is in **millions**."
   ]
  },
  {
   "cell_type": "code",
   "execution_count": null,
   "id": "60a5d8e2",
   "metadata": {},
   "outputs": [],
   "source": []
  },
  {
   "cell_type": "code",
   "execution_count": null,
   "id": "296f41d9",
   "metadata": {},
   "outputs": [],
   "source": []
  },
  {
   "cell_type": "markdown",
   "id": "9eb0ae1e",
   "metadata": {},
   "source": [
    "## What is the largest investment in the dataset?"
   ]
  },
  {
   "cell_type": "code",
   "execution_count": null,
   "id": "61a3ba1a",
   "metadata": {},
   "outputs": [],
   "source": []
  },
  {
   "cell_type": "markdown",
   "id": "622c799c",
   "metadata": {},
   "source": [
    "## How many loans were used for hospitals?"
   ]
  },
  {
   "cell_type": "code",
   "execution_count": null,
   "id": "fc920bde",
   "metadata": {},
   "outputs": [],
   "source": []
  },
  {
   "cell_type": "markdown",
   "id": "3255e30e",
   "metadata": {},
   "source": [
    "## Who was the most common loan financier?"
   ]
  },
  {
   "cell_type": "code",
   "execution_count": null,
   "id": "447b2731",
   "metadata": {},
   "outputs": [],
   "source": []
  },
  {
   "cell_type": "markdown",
   "id": "345e9348",
   "metadata": {},
   "source": [
    "## Who was the most common loan financier for loans going to Ghana?"
   ]
  },
  {
   "cell_type": "code",
   "execution_count": null,
   "id": "203f24a0",
   "metadata": {},
   "outputs": [],
   "source": []
  },
  {
   "cell_type": "markdown",
   "id": "81efd863",
   "metadata": {},
   "source": [
    "## Who were the top 3 most common loan financiers in each region?"
   ]
  },
  {
   "cell_type": "code",
   "execution_count": null,
   "id": "1db50622",
   "metadata": {},
   "outputs": [],
   "source": []
  },
  {
   "cell_type": "markdown",
   "id": "299f76bb",
   "metadata": {},
   "source": [
    "## What country received the highest total investment?"
   ]
  },
  {
   "cell_type": "code",
   "execution_count": null,
   "id": "de61a961",
   "metadata": {},
   "outputs": [],
   "source": []
  },
  {
   "cell_type": "markdown",
   "id": "ed7bcc97",
   "metadata": {},
   "source": [
    "## Plot a line graph of the number of loans each year.\n",
    "\n",
    "It's okay if your x axis looks awful, but make sure it's ordered correctly."
   ]
  },
  {
   "cell_type": "code",
   "execution_count": null,
   "id": "b17c6564",
   "metadata": {},
   "outputs": [],
   "source": []
  },
  {
   "cell_type": "markdown",
   "id": "50804083",
   "metadata": {},
   "source": [
    "## Plot a line graph of the total amount (in USD) of the loans per year.\n",
    "\n",
    "It's okay if your x axis looks awful, but make sure it's ordered correctly."
   ]
  },
  {
   "cell_type": "code",
   "execution_count": null,
   "id": "21c4aaf5",
   "metadata": {},
   "outputs": [],
   "source": []
  },
  {
   "cell_type": "markdown",
   "id": "c9fef052",
   "metadata": {},
   "source": [
    "## For each region, what are the top three countries in terms of total number of loans?"
   ]
  },
  {
   "cell_type": "code",
   "execution_count": null,
   "id": "88a69d95",
   "metadata": {},
   "outputs": [],
   "source": []
  },
  {
   "cell_type": "markdown",
   "id": "3e3dfe1b",
   "metadata": {},
   "source": [
    "## Make a dataset of loans that did not go directly to governments, save it as `non-govt.csv`"
   ]
  },
  {
   "cell_type": "code",
   "execution_count": null,
   "id": "2d152eff",
   "metadata": {},
   "outputs": [],
   "source": []
  },
  {
   "cell_type": "code",
   "execution_count": null,
   "id": "c0dd0563",
   "metadata": {},
   "outputs": [],
   "source": []
  }
 ],
 "metadata": {
  "kernelspec": {
   "display_name": "Python 3 (ipykernel)",
   "language": "python",
   "name": "python3"
  },
  "language_info": {
   "codemirror_mode": {
    "name": "ipython",
    "version": 3
   },
   "file_extension": ".py",
   "mimetype": "text/x-python",
   "name": "python",
   "nbconvert_exporter": "python",
   "pygments_lexer": "ipython3",
   "version": "3.9.7"
  }
 },
 "nbformat": 4,
 "nbformat_minor": 5
}
