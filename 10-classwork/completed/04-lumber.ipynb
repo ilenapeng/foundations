{
 "cells": [
  {
   "cell_type": "markdown",
   "id": "5371f04c",
   "metadata": {},
   "source": [
    "# Lumber Prices\n",
    "\n",
    "* **Data:** `lumber-prices.csv`\n",
    "* **Description:** Chicago lumber futures per 1000 board feet, in USD. To keep things simple, we're going to say that this is the measurement over a month instead of just one date per month. Basically: each month, how much you'd pay if you bought 125 2x4 boards at the hardware store.\n",
    "* **Source:** https://tradingeconomics.com/commodity/lumber\n",
    "* **Columns of interest:**\n",
    "    * `Open` is the price at the start of the month\n",
    "    * `High` is the high price over the course of the month\n",
    "    * `Low` is the low number over the course of the month\n",
    "    * `Close` is the number at the end of the month"
   ]
  },
  {
   "cell_type": "markdown",
   "id": "ffcf050f",
   "metadata": {},
   "source": [
    "## Read in your data"
   ]
  },
  {
   "cell_type": "code",
   "execution_count": 1,
   "id": "505f1e94",
   "metadata": {},
   "outputs": [
    {
     "name": "stderr",
     "output_type": "stream",
     "text": [
      "/Users/ilenapeng/.pyenv/versions/3.9.7/lib/python3.9/site-packages/pandas/compat/__init__.py:124: UserWarning: Could not import the lzma module. Your installed Python is incomplete. Attempting to use lzma compression will result in a RuntimeError.\n",
      "  warnings.warn(msg)\n"
     ]
    }
   ],
   "source": [
    "import pandas as pd\n",
    "pd.set_option('max_columns', None)\n",
    "\n",
    "import numpy as np"
   ]
  },
  {
   "cell_type": "code",
   "execution_count": 2,
   "id": "3d1c20cf",
   "metadata": {},
   "outputs": [
    {
     "data": {
      "text/html": [
       "<div>\n",
       "<style scoped>\n",
       "    .dataframe tbody tr th:only-of-type {\n",
       "        vertical-align: middle;\n",
       "    }\n",
       "\n",
       "    .dataframe tbody tr th {\n",
       "        vertical-align: top;\n",
       "    }\n",
       "\n",
       "    .dataframe thead th {\n",
       "        text-align: right;\n",
       "    }\n",
       "</style>\n",
       "<table border=\"1\" class=\"dataframe\">\n",
       "  <thead>\n",
       "    <tr style=\"text-align: right;\">\n",
       "      <th></th>\n",
       "      <th>open</th>\n",
       "      <th>high</th>\n",
       "      <th>low</th>\n",
       "      <th>close</th>\n",
       "      <th>date</th>\n",
       "    </tr>\n",
       "  </thead>\n",
       "  <tbody>\n",
       "    <tr>\n",
       "      <th>0</th>\n",
       "      <td>$407.00</td>\n",
       "      <td>$424.70</td>\n",
       "      <td>$377.00</td>\n",
       "      <td>$424.70</td>\n",
       "      <td>1996-12-09T00:00:00</td>\n",
       "    </tr>\n",
       "    <tr>\n",
       "      <th>1</th>\n",
       "      <td>$426.00</td>\n",
       "      <td>$450.50</td>\n",
       "      <td>$395.00</td>\n",
       "      <td>$411.40</td>\n",
       "      <td>1997-01-02T00:00:00</td>\n",
       "    </tr>\n",
       "    <tr>\n",
       "      <th>2</th>\n",
       "      <td>$408.50</td>\n",
       "      <td>$421.50</td>\n",
       "      <td>$382.10</td>\n",
       "      <td>$383.50</td>\n",
       "      <td>1997-02-03T00:00:00</td>\n",
       "    </tr>\n",
       "    <tr>\n",
       "      <th>3</th>\n",
       "      <td>$386.00</td>\n",
       "      <td>$389.70</td>\n",
       "      <td>$355.00</td>\n",
       "      <td>$380.50</td>\n",
       "      <td>1997-03-03T00:00:00</td>\n",
       "    </tr>\n",
       "    <tr>\n",
       "      <th>4</th>\n",
       "      <td>$378.00</td>\n",
       "      <td>$417.50</td>\n",
       "      <td>$376.50</td>\n",
       "      <td>$403.10</td>\n",
       "      <td>1997-04-01T00:00:00</td>\n",
       "    </tr>\n",
       "  </tbody>\n",
       "</table>\n",
       "</div>"
      ],
      "text/plain": [
       "      open     high      low    close                 date\n",
       "0  $407.00  $424.70  $377.00  $424.70  1996-12-09T00:00:00\n",
       "1  $426.00  $450.50  $395.00  $411.40  1997-01-02T00:00:00\n",
       "2  $408.50  $421.50  $382.10  $383.50  1997-02-03T00:00:00\n",
       "3  $386.00  $389.70  $355.00  $380.50  1997-03-03T00:00:00\n",
       "4  $378.00  $417.50  $376.50  $403.10  1997-04-01T00:00:00"
      ]
     },
     "execution_count": 2,
     "metadata": {},
     "output_type": "execute_result"
    }
   ],
   "source": [
    "df = pd.read_csv('lumber-prices.csv')\n",
    "df.head()"
   ]
  },
  {
   "cell_type": "code",
   "execution_count": 3,
   "id": "bfdca1bd",
   "metadata": {},
   "outputs": [
    {
     "name": "stderr",
     "output_type": "stream",
     "text": [
      "/var/folders/9x/ttxn_gwj0592mr6h8s5y29980000gn/T/ipykernel_2851/3997235610.py:1: FutureWarning: The default value of regex will change from True to False in a future version. In addition, single character regular expressions will *not* be treated as literal strings when regex=True.\n",
      "  df.open = df.open.str.replace('$', '').astype(float)\n",
      "/var/folders/9x/ttxn_gwj0592mr6h8s5y29980000gn/T/ipykernel_2851/3997235610.py:2: FutureWarning: The default value of regex will change from True to False in a future version. In addition, single character regular expressions will *not* be treated as literal strings when regex=True.\n",
      "  df.high = df.high.str.replace('$', '').astype(float)\n",
      "/var/folders/9x/ttxn_gwj0592mr6h8s5y29980000gn/T/ipykernel_2851/3997235610.py:3: FutureWarning: The default value of regex will change from True to False in a future version. In addition, single character regular expressions will *not* be treated as literal strings when regex=True.\n",
      "  df.low = df.low.str.replace('$', '').astype(float)\n",
      "/var/folders/9x/ttxn_gwj0592mr6h8s5y29980000gn/T/ipykernel_2851/3997235610.py:4: FutureWarning: The default value of regex will change from True to False in a future version. In addition, single character regular expressions will *not* be treated as literal strings when regex=True.\n",
      "  df.close = df.close.str.replace('$', '').astype(float)\n"
     ]
    }
   ],
   "source": [
    "df.open = df.open.str.replace('$', '').astype(float)\n",
    "df.high = df.high.str.replace('$', '').astype(float)\n",
    "df.low = df.low.str.replace('$', '').astype(float)\n",
    "df.close = df.close.str.replace('$', '').astype(float)"
   ]
  },
  {
   "cell_type": "code",
   "execution_count": 4,
   "id": "d980dad9",
   "metadata": {},
   "outputs": [
    {
     "data": {
      "text/plain": [
       "open     float64\n",
       "high     float64\n",
       "low      float64\n",
       "close    float64\n",
       "date      object\n",
       "dtype: object"
      ]
     },
     "execution_count": 4,
     "metadata": {},
     "output_type": "execute_result"
    }
   ],
   "source": [
    "df.dtypes"
   ]
  },
  {
   "cell_type": "markdown",
   "id": "e0403107",
   "metadata": {},
   "source": [
    "## What is the earliest month in this dataset?\n",
    "\n",
    "We only have one reading per month, so you could also read this as \"what is the earliest date in the dataset\""
   ]
  },
  {
   "cell_type": "code",
   "execution_count": 5,
   "id": "991a1049",
   "metadata": {},
   "outputs": [
    {
     "data": {
      "text/plain": [
       "0     1996-12-09\n",
       "1     1997-01-02\n",
       "2     1997-02-03\n",
       "3     1997-03-03\n",
       "4     1997-04-01\n",
       "         ...    \n",
       "295   2021-07-01\n",
       "296   2021-08-02\n",
       "297   2021-09-01\n",
       "298   2021-10-01\n",
       "299   2021-11-01\n",
       "Name: date, Length: 300, dtype: datetime64[ns]"
      ]
     },
     "execution_count": 5,
     "metadata": {},
     "output_type": "execute_result"
    }
   ],
   "source": [
    "df.date = pd.to_datetime(df.date, format=\"%Y-%m-%d\")\n",
    "df.date"
   ]
  },
  {
   "cell_type": "code",
   "execution_count": 6,
   "id": "9dfd66cc",
   "metadata": {},
   "outputs": [
    {
     "data": {
      "text/plain": [
       "Timestamp('1996-12-09 00:00:00')"
      ]
     },
     "execution_count": 6,
     "metadata": {},
     "output_type": "execute_result"
    }
   ],
   "source": [
    "df.date.min()"
   ]
  },
  {
   "cell_type": "markdown",
   "id": "0a55273d",
   "metadata": {},
   "source": [
    "## What 3 months had the highest high lumber price?"
   ]
  },
  {
   "cell_type": "code",
   "execution_count": 7,
   "id": "e55f3521",
   "metadata": {},
   "outputs": [
    {
     "data": {
      "text/plain": [
       "date\n",
       "2021-05-31    1711.2\n",
       "2021-04-30    1502.3\n",
       "2021-06-30    1380.0\n",
       "Name: high, dtype: float64"
      ]
     },
     "execution_count": 7,
     "metadata": {},
     "output_type": "execute_result"
    }
   ],
   "source": [
    "df.resample('M', on='date').high.max().sort_values(ascending=False).head(3)"
   ]
  },
  {
   "cell_type": "code",
   "execution_count": 8,
   "id": "0e5cf127",
   "metadata": {},
   "outputs": [
    {
     "data": {
      "text/html": [
       "<div>\n",
       "<style scoped>\n",
       "    .dataframe tbody tr th:only-of-type {\n",
       "        vertical-align: middle;\n",
       "    }\n",
       "\n",
       "    .dataframe tbody tr th {\n",
       "        vertical-align: top;\n",
       "    }\n",
       "\n",
       "    .dataframe thead th {\n",
       "        text-align: right;\n",
       "    }\n",
       "</style>\n",
       "<table border=\"1\" class=\"dataframe\">\n",
       "  <thead>\n",
       "    <tr style=\"text-align: right;\">\n",
       "      <th></th>\n",
       "      <th>open</th>\n",
       "      <th>high</th>\n",
       "      <th>low</th>\n",
       "      <th>close</th>\n",
       "      <th>date</th>\n",
       "    </tr>\n",
       "  </thead>\n",
       "  <tbody>\n",
       "    <tr>\n",
       "      <th>0</th>\n",
       "      <td>407.0</td>\n",
       "      <td>424.7</td>\n",
       "      <td>377.0</td>\n",
       "      <td>424.7</td>\n",
       "      <td>1996-12-09</td>\n",
       "    </tr>\n",
       "    <tr>\n",
       "      <th>1</th>\n",
       "      <td>426.0</td>\n",
       "      <td>450.5</td>\n",
       "      <td>395.0</td>\n",
       "      <td>411.4</td>\n",
       "      <td>1997-01-02</td>\n",
       "    </tr>\n",
       "    <tr>\n",
       "      <th>2</th>\n",
       "      <td>408.5</td>\n",
       "      <td>421.5</td>\n",
       "      <td>382.1</td>\n",
       "      <td>383.5</td>\n",
       "      <td>1997-02-03</td>\n",
       "    </tr>\n",
       "    <tr>\n",
       "      <th>3</th>\n",
       "      <td>386.0</td>\n",
       "      <td>389.7</td>\n",
       "      <td>355.0</td>\n",
       "      <td>380.5</td>\n",
       "      <td>1997-03-03</td>\n",
       "    </tr>\n",
       "    <tr>\n",
       "      <th>4</th>\n",
       "      <td>378.0</td>\n",
       "      <td>417.5</td>\n",
       "      <td>376.5</td>\n",
       "      <td>403.1</td>\n",
       "      <td>1997-04-01</td>\n",
       "    </tr>\n",
       "  </tbody>\n",
       "</table>\n",
       "</div>"
      ],
      "text/plain": [
       "    open   high    low  close       date\n",
       "0  407.0  424.7  377.0  424.7 1996-12-09\n",
       "1  426.0  450.5  395.0  411.4 1997-01-02\n",
       "2  408.5  421.5  382.1  383.5 1997-02-03\n",
       "3  386.0  389.7  355.0  380.5 1997-03-03\n",
       "4  378.0  417.5  376.5  403.1 1997-04-01"
      ]
     },
     "execution_count": 8,
     "metadata": {},
     "output_type": "execute_result"
    }
   ],
   "source": [
    "df.head()"
   ]
  },
  {
   "cell_type": "markdown",
   "id": "843b2f36",
   "metadata": {},
   "source": [
    "## What is the median \"high\" lumber price in our dataset?"
   ]
  },
  {
   "cell_type": "code",
   "execution_count": 9,
   "id": "d7d69d6b",
   "metadata": {},
   "outputs": [
    {
     "data": {
      "text/plain": [
       "329.65"
      ]
     },
     "execution_count": 9,
     "metadata": {},
     "output_type": "execute_result"
    }
   ],
   "source": [
    "df.high.median()"
   ]
  },
  {
   "cell_type": "markdown",
   "id": "898b6df0",
   "metadata": {},
   "source": [
    "## Plot the lowest \"low\" lumber price on an annual basis."
   ]
  },
  {
   "cell_type": "code",
   "execution_count": 10,
   "id": "007ed835",
   "metadata": {},
   "outputs": [
    {
     "data": {
      "text/plain": [
       "<AxesSubplot:xlabel='date'>"
      ]
     },
     "execution_count": 10,
     "metadata": {},
     "output_type": "execute_result"
    },
    {
     "data": {
      "image/png": "[encoded data removed]",
      "text/plain": [
       "<Figure size 432x288 with 1 Axes>"
      ]
     },
     "metadata": {
      "needs_background": "light"
     },
     "output_type": "display_data"
    }
   ],
   "source": [
    "df.resample('Y', on='date').low.min().plot()"
   ]
  },
  {
   "cell_type": "markdown",
   "id": "a507d8a6",
   "metadata": {},
   "source": [
    "## What month in our dataset had the largest swing between high and low?\n",
    "\n",
    "You'll want to create a new column for this one"
   ]
  },
  {
   "cell_type": "code",
   "execution_count": 11,
   "id": "4178d51c",
   "metadata": {},
   "outputs": [],
   "source": [
    "df['swing'] = df.high - df.low\n",
    "# df.swing"
   ]
  },
  {
   "cell_type": "code",
   "execution_count": 12,
   "id": "42d3445c",
   "metadata": {},
   "outputs": [
    {
     "data": {
      "text/plain": [
       "date\n",
       "2021-06-30    675.0\n",
       "Name: swing, dtype: float64"
      ]
     },
     "execution_count": 12,
     "metadata": {},
     "output_type": "execute_result"
    }
   ],
   "source": [
    "df.resample('M', on='date').swing.max().sort_values(ascending=False).head(1)"
   ]
  },
  {
   "cell_type": "markdown",
   "id": "dd08822c",
   "metadata": {},
   "source": [
    "## In how many months did lumber prices rise?\n",
    "\n",
    "If the price was greater at the end of the month than the beginning of the month, we'll say the price rose."
   ]
  },
  {
   "cell_type": "code",
   "execution_count": 13,
   "id": "e6549397",
   "metadata": {},
   "outputs": [],
   "source": [
    "# looking at 'Open' versus 'Close'\n",
    "df['month_difference'] = df.close - df.open\n",
    "# if month_difference is POSITIVE, then prices rose. if it is negative, then prices declined"
   ]
  },
  {
   "cell_type": "code",
   "execution_count": 14,
   "id": "696becea",
   "metadata": {},
   "outputs": [
    {
     "data": {
      "text/plain": [
       "145"
      ]
     },
     "execution_count": 14,
     "metadata": {},
     "output_type": "execute_result"
    }
   ],
   "source": [
    "len(df[df.month_difference > 0])"
   ]
  },
  {
   "cell_type": "code",
   "execution_count": 15,
   "id": "610bf6c3",
   "metadata": {},
   "outputs": [],
   "source": [
    "df['rise_fall'] = np.where((df.month_difference > 0), 'Rise', 'Fall')"
   ]
  },
  {
   "cell_type": "code",
   "execution_count": 16,
   "id": "e032e77d",
   "metadata": {},
   "outputs": [
    {
     "data": {
      "text/html": [
       "<div>\n",
       "<style scoped>\n",
       "    .dataframe tbody tr th:only-of-type {\n",
       "        vertical-align: middle;\n",
       "    }\n",
       "\n",
       "    .dataframe tbody tr th {\n",
       "        vertical-align: top;\n",
       "    }\n",
       "\n",
       "    .dataframe thead th {\n",
       "        text-align: right;\n",
       "    }\n",
       "</style>\n",
       "<table border=\"1\" class=\"dataframe\">\n",
       "  <thead>\n",
       "    <tr style=\"text-align: right;\">\n",
       "      <th></th>\n",
       "      <th>open</th>\n",
       "      <th>high</th>\n",
       "      <th>low</th>\n",
       "      <th>close</th>\n",
       "      <th>date</th>\n",
       "      <th>swing</th>\n",
       "      <th>month_difference</th>\n",
       "      <th>rise_fall</th>\n",
       "    </tr>\n",
       "  </thead>\n",
       "  <tbody>\n",
       "    <tr>\n",
       "      <th>0</th>\n",
       "      <td>407.0</td>\n",
       "      <td>424.7</td>\n",
       "      <td>377.0</td>\n",
       "      <td>424.7</td>\n",
       "      <td>1996-12-09</td>\n",
       "      <td>47.7</td>\n",
       "      <td>17.7</td>\n",
       "      <td>Rise</td>\n",
       "    </tr>\n",
       "    <tr>\n",
       "      <th>1</th>\n",
       "      <td>426.0</td>\n",
       "      <td>450.5</td>\n",
       "      <td>395.0</td>\n",
       "      <td>411.4</td>\n",
       "      <td>1997-01-02</td>\n",
       "      <td>55.5</td>\n",
       "      <td>-14.6</td>\n",
       "      <td>Fall</td>\n",
       "    </tr>\n",
       "    <tr>\n",
       "      <th>2</th>\n",
       "      <td>408.5</td>\n",
       "      <td>421.5</td>\n",
       "      <td>382.1</td>\n",
       "      <td>383.5</td>\n",
       "      <td>1997-02-03</td>\n",
       "      <td>39.4</td>\n",
       "      <td>-25.0</td>\n",
       "      <td>Fall</td>\n",
       "    </tr>\n",
       "    <tr>\n",
       "      <th>3</th>\n",
       "      <td>386.0</td>\n",
       "      <td>389.7</td>\n",
       "      <td>355.0</td>\n",
       "      <td>380.5</td>\n",
       "      <td>1997-03-03</td>\n",
       "      <td>34.7</td>\n",
       "      <td>-5.5</td>\n",
       "      <td>Fall</td>\n",
       "    </tr>\n",
       "    <tr>\n",
       "      <th>4</th>\n",
       "      <td>378.0</td>\n",
       "      <td>417.5</td>\n",
       "      <td>376.5</td>\n",
       "      <td>403.1</td>\n",
       "      <td>1997-04-01</td>\n",
       "      <td>41.0</td>\n",
       "      <td>25.1</td>\n",
       "      <td>Rise</td>\n",
       "    </tr>\n",
       "  </tbody>\n",
       "</table>\n",
       "</div>"
      ],
      "text/plain": [
       "    open   high    low  close       date  swing  month_difference rise_fall\n",
       "0  407.0  424.7  377.0  424.7 1996-12-09   47.7              17.7      Rise\n",
       "1  426.0  450.5  395.0  411.4 1997-01-02   55.5             -14.6      Fall\n",
       "2  408.5  421.5  382.1  383.5 1997-02-03   39.4             -25.0      Fall\n",
       "3  386.0  389.7  355.0  380.5 1997-03-03   34.7              -5.5      Fall\n",
       "4  378.0  417.5  376.5  403.1 1997-04-01   41.0              25.1      Rise"
      ]
     },
     "execution_count": 16,
     "metadata": {},
     "output_type": "execute_result"
    }
   ],
   "source": [
    "df.head()"
   ]
  },
  {
   "cell_type": "markdown",
   "id": "3b98b6d5",
   "metadata": {},
   "source": [
    "## In 2000, how many months saw lumber prices rise vs lumber prices fall?"
   ]
  },
  {
   "cell_type": "code",
   "execution_count": 17,
   "id": "534265d7",
   "metadata": {},
   "outputs": [
    {
     "data": {
      "text/plain": [
       "Fall    10\n",
       "Rise     2\n",
       "Name: rise_fall, dtype: int64"
      ]
     },
     "execution_count": 17,
     "metadata": {},
     "output_type": "execute_result"
    }
   ],
   "source": [
    "df[df['date'].dt.year == 2000].rise_fall.value_counts()"
   ]
  }
 ],
 "metadata": {
  "kernelspec": {
   "display_name": "Python 3 (ipykernel)",
   "language": "python",
   "name": "python3"
  },
  "language_info": {
   "codemirror_mode": {
    "name": "ipython",
    "version": 3
   },
   "file_extension": ".py",
   "mimetype": "text/x-python",
   "name": "python",
   "nbconvert_exporter": "python",
   "pygments_lexer": "ipython3",
   "version": "3.9.7"
  }
 },
 "nbformat": 4,
 "nbformat_minor": 5
}
