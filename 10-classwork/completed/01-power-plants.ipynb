{
 "cells": [
  {
   "cell_type": "markdown",
   "id": "8d532d66",
   "metadata": {},
   "source": [
    "# Power Plants\n",
    "\n",
    "* **Data:** `powerplants.csv`\n",
    "* **Columns of interest:**\n",
    "    * `Plant_Name` is the name of the power plant\n",
    "    * `Utility_Na` is the name of the owner of the power plant\n",
    "    * `City`, `County`, `StateName`, `Zip`\n",
    "    * `PrimSource` is what kind of energy source it uses (nuclear, coal, etc)\n",
    "    * `Total_MW` is the total amount of energy produces"
   ]
  },
  {
   "cell_type": "markdown",
   "id": "2a954687",
   "metadata": {},
   "source": [
    "## Read in the data"
   ]
  },
  {
   "cell_type": "code",
   "execution_count": 1,
   "id": "d32c3000",
   "metadata": {},
   "outputs": [
    {
     "name": "stderr",
     "output_type": "stream",
     "text": [
      "/Users/ilenapeng/.pyenv/versions/3.9.7/lib/python3.9/site-packages/pandas/compat/__init__.py:124: UserWarning: Could not import the lzma module. Your installed Python is incomplete. Attempting to use lzma compression will result in a RuntimeError.\n",
      "  warnings.warn(msg)\n"
     ]
    }
   ],
   "source": [
    "import pandas as pd\n",
    "pd.set_option('max_columns', None)"
   ]
  },
  {
   "cell_type": "code",
   "execution_count": 2,
   "id": "12564179",
   "metadata": {},
   "outputs": [],
   "source": [
    "df = pd.read_csv('powerplants.csv')"
   ]
  },
  {
   "cell_type": "markdown",
   "id": "07743f11",
   "metadata": {},
   "source": [
    "## What are the different types of energy sources in this dataset?"
   ]
  },
  {
   "cell_type": "code",
   "execution_count": 3,
   "id": "141d5afd",
   "metadata": {},
   "outputs": [
    {
     "data": {
      "text/plain": [
       "array(['hydroelectric', 'natural gas', 'coal', 'nuclear', 'petroleum',\n",
       "       'pumped storage', 'geothermal', 'biomass', 'wind', 'other',\n",
       "       'solar'], dtype=object)"
      ]
     },
     "execution_count": 3,
     "metadata": {},
     "output_type": "execute_result"
    }
   ],
   "source": [
    "df.PrimSource.unique()"
   ]
  },
  {
   "cell_type": "markdown",
   "id": "b8f99b09",
   "metadata": {},
   "source": [
    "## What is the most common type of power plant in the United States?"
   ]
  },
  {
   "cell_type": "code",
   "execution_count": 4,
   "id": "21cc3608",
   "metadata": {},
   "outputs": [
    {
     "data": {
      "text/plain": [
       "solar             2255\n",
       "natural gas       1701\n",
       "hydroelectric     1410\n",
       "wind              1043\n",
       "petroleum          842\n",
       "biomass            726\n",
       "coal               337\n",
       "other              140\n",
       "geothermal          66\n",
       "nuclear             61\n",
       "pumped storage      35\n",
       "Name: PrimSource, dtype: int64"
      ]
     },
     "execution_count": 4,
     "metadata": {},
     "output_type": "execute_result"
    }
   ],
   "source": [
    "df.PrimSource.value_counts()"
   ]
  },
  {
   "cell_type": "markdown",
   "id": "30e1410c",
   "metadata": {},
   "source": [
    "## Make a graph of it, with the longest bar on the top."
   ]
  },
  {
   "cell_type": "code",
   "execution_count": 5,
   "id": "282ea8ef",
   "metadata": {},
   "outputs": [
    {
     "data": {
      "text/plain": [
       "<AxesSubplot:>"
      ]
     },
     "execution_count": 5,
     "metadata": {},
     "output_type": "execute_result"
    },
    {
     "data": {
      "image/png": "[encoded data removed]",
      "text/plain": [
       "<Figure size 432x288 with 1 Axes>"
      ]
     },
     "metadata": {
      "needs_background": "light"
     },
     "output_type": "display_data"
    }
   ],
   "source": [
    "df.PrimSource.value_counts().sort_values(ascending=True).plot(kind='barh')"
   ]
  },
  {
   "cell_type": "markdown",
   "id": "cdbcf52f",
   "metadata": {},
   "source": [
    "## What type of power plant produces the most energy in the United States?"
   ]
  },
  {
   "cell_type": "code",
   "execution_count": 6,
   "id": "027eecbe",
   "metadata": {},
   "outputs": [
    {
     "data": {
      "text/plain": [
       "PrimSource\n",
       "natural gas       453886.8\n",
       "coal              257599.1\n",
       "nuclear           100883.2\n",
       "wind               88450.1\n",
       "hydroelectric      79906.2\n",
       "petroleum          30739.2\n",
       "solar              27384.1\n",
       "pumped storage     22864.5\n",
       "biomass            14085.3\n",
       "other               3882.5\n",
       "geothermal          2541.0\n",
       "Name: Total_MW, dtype: float64"
      ]
     },
     "execution_count": 6,
     "metadata": {},
     "output_type": "execute_result"
    }
   ],
   "source": [
    "# I defined 'most' as in the largest total\n",
    "df.groupby('PrimSource').Total_MW.sum().sort_values(ascending=False)"
   ]
  },
  {
   "cell_type": "markdown",
   "id": "1a3c1d5e",
   "metadata": {},
   "source": [
    "## Make a graph of it, with the longest bar on the top."
   ]
  },
  {
   "cell_type": "code",
   "execution_count": 7,
   "id": "a09a6d80",
   "metadata": {},
   "outputs": [
    {
     "data": {
      "text/plain": [
       "<AxesSubplot:ylabel='PrimSource'>"
      ]
     },
     "execution_count": 7,
     "metadata": {},
     "output_type": "execute_result"
    },
    {
     "data": {
      "image/png": "[encoded data removed]",
      "text/plain": [
       "<Figure size 432x288 with 1 Axes>"
      ]
     },
     "metadata": {
      "needs_background": "light"
     },
     "output_type": "display_data"
    }
   ],
   "source": [
    "df.groupby('PrimSource').Total_MW.sum().sort_values(ascending=True).plot(kind='barh')"
   ]
  },
  {
   "cell_type": "markdown",
   "id": "6205e138",
   "metadata": {},
   "source": [
    "## What US state has the most power plants?"
   ]
  },
  {
   "cell_type": "code",
   "execution_count": 8,
   "id": "50ba22a6",
   "metadata": {},
   "outputs": [
    {
     "data": {
      "text/plain": [
       "California    1344\n",
       "Name: StateName, dtype: int64"
      ]
     },
     "execution_count": 8,
     "metadata": {},
     "output_type": "execute_result"
    }
   ],
   "source": [
    "df.StateName.value_counts().head(1)"
   ]
  },
  {
   "cell_type": "markdown",
   "id": "57d07f78",
   "metadata": {},
   "source": [
    "## What three US states produce the most energy?"
   ]
  },
  {
   "cell_type": "code",
   "execution_count": 9,
   "id": "903b8cec",
   "metadata": {},
   "outputs": [
    {
     "data": {
      "text/plain": [
       "StateName\n",
       "Texas         120730.5\n",
       "California     76724.7\n",
       "Florida        57987.4\n",
       "Name: Total_MW, dtype: float64"
      ]
     },
     "execution_count": 9,
     "metadata": {},
     "output_type": "execute_result"
    }
   ],
   "source": [
    "df.groupby('StateName').Total_MW.sum().sort_values(ascending=False).head(3)"
   ]
  },
  {
   "cell_type": "markdown",
   "id": "a9c597a5",
   "metadata": {},
   "source": [
    "## What state has the most coal power plants?"
   ]
  },
  {
   "cell_type": "code",
   "execution_count": 10,
   "id": "44124416",
   "metadata": {},
   "outputs": [
    {
     "data": {
      "text/plain": [
       "Illinois        21\n",
       "Pennsylvania    21\n",
       "Texas           18\n",
       "Name: StateName, dtype: int64"
      ]
     },
     "execution_count": 10,
     "metadata": {},
     "output_type": "execute_result"
    }
   ],
   "source": [
    "# printed out top 3 because there's a tie\n",
    "df[df.PrimSource == 'coal'].StateName.value_counts().head(3)"
   ]
  },
  {
   "cell_type": "markdown",
   "id": "2b36fa02",
   "metadata": {},
   "source": [
    "## What state produces the most energy using solar power?"
   ]
  },
  {
   "cell_type": "code",
   "execution_count": 11,
   "id": "d3082fcc",
   "metadata": {},
   "outputs": [
    {
     "data": {
      "text/plain": [
       "StateName\n",
       "California    10953.9\n",
       "Name: Total_MW, dtype: float64"
      ]
     },
     "execution_count": 11,
     "metadata": {},
     "output_type": "execute_result"
    }
   ],
   "source": [
    "df[df.PrimSource == 'solar'].groupby('StateName').Total_MW.sum().sort_values(ascending=False).head(1)"
   ]
  },
  {
   "cell_type": "markdown",
   "id": "1809e8a1",
   "metadata": {},
   "source": [
    "## List all of the nuclear powerplants in New York."
   ]
  },
  {
   "cell_type": "code",
   "execution_count": 12,
   "id": "75aba10e",
   "metadata": {},
   "outputs": [
    {
     "data": {
      "text/plain": [
       "1155                     Indian Point 2\n",
       "1213    Nine Mile Point Nuclear Station\n",
       "1861                James A Fitzpatrick\n",
       "1868      R E Ginna Nuclear Power Plant\n",
       "2536                     Indian Point 3\n",
       "Name: Plant_Name, dtype: object"
      ]
     },
     "execution_count": 12,
     "metadata": {},
     "output_type": "execute_result"
    }
   ],
   "source": [
    "df[(df.PrimSource == 'nuclear') & (df.StateName == 'New York')].Plant_Name"
   ]
  },
  {
   "cell_type": "markdown",
   "id": "a865c0ce",
   "metadata": {},
   "source": [
    "## What is the most common type of powerplant in New Jersey?"
   ]
  },
  {
   "cell_type": "code",
   "execution_count": 13,
   "id": "28016666",
   "metadata": {},
   "outputs": [
    {
     "data": {
      "text/plain": [
       "solar             183\n",
       "natural gas        48\n",
       "biomass            16\n",
       "petroleum           4\n",
       "nuclear             3\n",
       "coal                2\n",
       "hydroelectric       2\n",
       "other               2\n",
       "wind                2\n",
       "pumped storage      1\n",
       "Name: PrimSource, dtype: int64"
      ]
     },
     "execution_count": 13,
     "metadata": {},
     "output_type": "execute_result"
    }
   ],
   "source": [
    "df[df.StateName == 'New Jersey'].PrimSource.value_counts()"
   ]
  },
  {
   "cell_type": "markdown",
   "id": "d59391ef",
   "metadata": {},
   "source": [
    "## What type of power plant produces the most power in New Jersey?"
   ]
  },
  {
   "cell_type": "code",
   "execution_count": 14,
   "id": "1d36be1e",
   "metadata": {},
   "outputs": [
    {
     "data": {
      "text/plain": [
       "PrimSource\n",
       "natural gas       11556.3\n",
       "nuclear            4146.3\n",
       "solar               638.5\n",
       "coal                463.0\n",
       "pumped storage      420.0\n",
       "petroleum           334.0\n",
       "biomass             226.4\n",
       "other                13.1\n",
       "hydroelectric        12.3\n",
       "wind                  7.6\n",
       "Name: Total_MW, dtype: float64"
      ]
     },
     "execution_count": 14,
     "metadata": {},
     "output_type": "execute_result"
    }
   ],
   "source": [
    "df[df.StateName == 'New Jersey'].groupby('PrimSource').Total_MW.sum().sort_values(ascending=False)"
   ]
  }
 ],
 "metadata": {
  "kernelspec": {
   "display_name": "Python 3 (ipykernel)",
   "language": "python",
   "name": "python3"
  },
  "language_info": {
   "codemirror_mode": {
    "name": "ipython",
    "version": 3
   },
   "file_extension": ".py",
   "mimetype": "text/x-python",
   "name": "python",
   "nbconvert_exporter": "python",
   "pygments_lexer": "ipython3",
   "version": "3.9.7"
  }
 },
 "nbformat": 4,
 "nbformat_minor": 5
}
