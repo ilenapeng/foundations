{
 "cells": [
  {
   "cell_type": "markdown",
   "id": "dff6e79f",
   "metadata": {},
   "source": [
    "# Traffic Fatalities\n",
    "\n",
    "* **Data:** `traffic-fatalities.csv`\n",
    "* **Description:** NYC Pedestrian Fatalities (Bicycle-Pedestrian and Motor Vehicle-Pedestrian Crashes)\n",
    "* **Source:** https://www1.nyc.gov/html/dot/downloads/pdf/nycdot-pedestrian-fatalities-by-bike-motor-vehicle.pdf\n",
    "* **Columns of interest:**\n",
    "    * `Year` is the year of the measurements\n",
    "    * `Struck_by_Bicycle` is the number of people killed after being hit by a bicycle\n",
    "    * `Struck_by_Motor_Vehicle` is the number of people killed after being hit by a motor vehicle (car, bus, etc)"
   ]
  },
  {
   "cell_type": "markdown",
   "id": "1d360b17",
   "metadata": {},
   "source": [
    "## Read in the data"
   ]
  },
  {
   "cell_type": "code",
   "execution_count": 1,
   "id": "8b9b23cd",
   "metadata": {},
   "outputs": [
    {
     "name": "stderr",
     "output_type": "stream",
     "text": [
      "/Users/ilenapeng/.pyenv/versions/3.9.7/lib/python3.9/site-packages/pandas/compat/__init__.py:124: UserWarning: Could not import the lzma module. Your installed Python is incomplete. Attempting to use lzma compression will result in a RuntimeError.\n",
      "  warnings.warn(msg)\n"
     ]
    }
   ],
   "source": [
    "import pandas as pd\n",
    "pd.set_option('max_columns', None)"
   ]
  },
  {
   "cell_type": "code",
   "execution_count": 4,
   "id": "4e6d6b4a",
   "metadata": {},
   "outputs": [
    {
     "data": {
      "text/html": [
       "<div>\n",
       "<style scoped>\n",
       "    .dataframe tbody tr th:only-of-type {\n",
       "        vertical-align: middle;\n",
       "    }\n",
       "\n",
       "    .dataframe tbody tr th {\n",
       "        vertical-align: top;\n",
       "    }\n",
       "\n",
       "    .dataframe thead th {\n",
       "        text-align: right;\n",
       "    }\n",
       "</style>\n",
       "<table border=\"1\" class=\"dataframe\">\n",
       "  <thead>\n",
       "    <tr style=\"text-align: right;\">\n",
       "      <th></th>\n",
       "      <th>Year</th>\n",
       "      <th>Struck_by_Bicycle</th>\n",
       "      <th>Struck_by_Motor_Vehicle</th>\n",
       "    </tr>\n",
       "  </thead>\n",
       "  <tbody>\n",
       "    <tr>\n",
       "      <th>0</th>\n",
       "      <td>2006</td>\n",
       "      <td>0</td>\n",
       "      <td>168</td>\n",
       "    </tr>\n",
       "    <tr>\n",
       "      <th>1</th>\n",
       "      <td>2007</td>\n",
       "      <td>0</td>\n",
       "      <td>140</td>\n",
       "    </tr>\n",
       "    <tr>\n",
       "      <th>2</th>\n",
       "      <td>2008</td>\n",
       "      <td>1</td>\n",
       "      <td>153</td>\n",
       "    </tr>\n",
       "    <tr>\n",
       "      <th>3</th>\n",
       "      <td>2009</td>\n",
       "      <td>2</td>\n",
       "      <td>156</td>\n",
       "    </tr>\n",
       "    <tr>\n",
       "      <th>4</th>\n",
       "      <td>2010</td>\n",
       "      <td>0</td>\n",
       "      <td>153</td>\n",
       "    </tr>\n",
       "  </tbody>\n",
       "</table>\n",
       "</div>"
      ],
      "text/plain": [
       "   Year  Struck_by_Bicycle  Struck_by_Motor_Vehicle\n",
       "0  2006                  0                      168\n",
       "1  2007                  0                      140\n",
       "2  2008                  1                      153\n",
       "3  2009                  2                      156\n",
       "4  2010                  0                      153"
      ]
     },
     "execution_count": 4,
     "metadata": {},
     "output_type": "execute_result"
    }
   ],
   "source": [
    "df = pd.read_csv('traffic-fatalities.csv')\n",
    "df.head()"
   ]
  },
  {
   "cell_type": "code",
   "execution_count": 17,
   "id": "3c1cc23f",
   "metadata": {},
   "outputs": [
    {
     "data": {
      "text/plain": [
       "(15, 3)"
      ]
     },
     "execution_count": 17,
     "metadata": {},
     "output_type": "execute_result"
    }
   ],
   "source": [
    "df.shape"
   ]
  },
  {
   "cell_type": "markdown",
   "id": "b4c3b134",
   "metadata": {},
   "source": [
    "## How many years of data do we have?\n",
    "\n",
    "Provide the first and last year."
   ]
  },
  {
   "cell_type": "code",
   "execution_count": 10,
   "id": "7d7cdd2f",
   "metadata": {},
   "outputs": [
    {
     "data": {
      "text/plain": [
       "2006"
      ]
     },
     "execution_count": 10,
     "metadata": {},
     "output_type": "execute_result"
    }
   ],
   "source": [
    "df.Year.min()"
   ]
  },
  {
   "cell_type": "code",
   "execution_count": 11,
   "id": "47fcf439",
   "metadata": {},
   "outputs": [
    {
     "data": {
      "text/plain": [
       "2020"
      ]
     },
     "execution_count": 11,
     "metadata": {},
     "output_type": "execute_result"
    }
   ],
   "source": [
    "df.Year.max()"
   ]
  },
  {
   "cell_type": "markdown",
   "id": "a773654e",
   "metadata": {},
   "source": [
    "## Total number of people killed by being struck by bicycle"
   ]
  },
  {
   "cell_type": "code",
   "execution_count": 16,
   "id": "4e06b260",
   "metadata": {},
   "outputs": [
    {
     "data": {
      "text/plain": [
       "15"
      ]
     },
     "execution_count": 16,
     "metadata": {},
     "output_type": "execute_result"
    }
   ],
   "source": [
    "len(df.Struck_by_Bicycle)"
   ]
  },
  {
   "cell_type": "markdown",
   "id": "fd7fa2ee",
   "metadata": {},
   "source": [
    "## Create a new column for each year that is total deaths"
   ]
  },
  {
   "cell_type": "code",
   "execution_count": 18,
   "id": "83bbc9ef",
   "metadata": {},
   "outputs": [],
   "source": [
    "df['total_deaths'] = df.Struck_by_Bicycle + df.Struck_by_Motor_Vehicle"
   ]
  },
  {
   "cell_type": "markdown",
   "id": "2d5b0bbc",
   "metadata": {},
   "source": [
    "## Create a new column that is percent of deaths caused by motor vehicles"
   ]
  },
  {
   "cell_type": "code",
   "execution_count": 19,
   "id": "ecda7821",
   "metadata": {},
   "outputs": [],
   "source": [
    "df['percent_Motor_Vehicle'] = df.Struck_by_Motor_Vehicle / df.total_deaths"
   ]
  },
  {
   "cell_type": "markdown",
   "id": "50990639",
   "metadata": {},
   "source": [
    "## What year had the lowest percentage of deaths caused by motor vehicles?"
   ]
  },
  {
   "cell_type": "code",
   "execution_count": 29,
   "id": "c0ad5497",
   "metadata": {},
   "outputs": [
    {
     "data": {
      "text/plain": [
       "Year\n",
       "2014    0.978571\n",
       "Name: percent_Motor_Vehicle, dtype: float64"
      ]
     },
     "execution_count": 29,
     "metadata": {},
     "output_type": "execute_result"
    }
   ],
   "source": [
    "df.groupby('Year').percent_Motor_Vehicle.min().sort_values(ascending=True).head(1)"
   ]
  },
  {
   "cell_type": "markdown",
   "id": "55910d77",
   "metadata": {},
   "source": [
    "## Plot the total number of traffic fatalities over time\n",
    "\n",
    "Make sure the y axis starts at zero."
   ]
  },
  {
   "cell_type": "code",
   "execution_count": 32,
   "id": "a8679057",
   "metadata": {},
   "outputs": [
    {
     "data": {
      "text/plain": [
       "<AxesSubplot:xlabel='Year'>"
      ]
     },
     "execution_count": 32,
     "metadata": {},
     "output_type": "execute_result"
    },
    {
     "data": {
      "image/png": "[encoded data removed]",
      "text/plain": [
       "<Figure size 432x288 with 1 Axes>"
      ]
     },
     "metadata": {
      "needs_background": "light"
     },
     "output_type": "display_data"
    }
   ],
   "source": [
    "df.plot(x='Year', y='total_deaths', ylim=(0, 200))"
   ]
  },
  {
   "cell_type": "markdown",
   "id": "4ce2f402",
   "metadata": {},
   "source": [
    "## What year had the largest percent drop in traffic fatalities?\n",
    "\n",
    "You calculate percentage change on a column using using `.pct_change()`."
   ]
  },
  {
   "cell_type": "code",
   "execution_count": 50,
   "id": "d5309975",
   "metadata": {},
   "outputs": [
    {
     "data": {
      "text/plain": [
       "11   -0.275168\n",
       "8    -0.239130\n",
       "14   -0.201613\n",
       "1    -0.166667\n",
       "5    -0.065359\n",
       "4    -0.031646\n",
       "9    -0.007143\n",
       "3     0.025974\n",
       "6     0.055944\n",
       "13    0.068966\n",
       "10    0.071942\n",
       "12    0.074074\n",
       "2     0.100000\n",
       "7     0.218543\n",
       "0          NaN\n",
       "Name: total_deaths, dtype: float64"
      ]
     },
     "execution_count": 50,
     "metadata": {},
     "output_type": "execute_result"
    }
   ],
   "source": [
    "# FIX THIS - need to get the date to print here too\n",
    "df.total_deaths.pct_change().sort_values(ascending=True)"
   ]
  },
  {
   "cell_type": "markdown",
   "id": "5ff3a3e8",
   "metadata": {},
   "source": [
    "## Complete the following sentence, using the year from the last question\n",
    "\n",
    "`Compared to the previous year, in____ there was a ____% drop in traffic fatalities.` Just type it in a comment, no need to use f-strings or anything. "
   ]
  },
  {
   "cell_type": "code",
   "execution_count": null,
   "id": "9f9f0c2f",
   "metadata": {},
   "outputs": [],
   "source": [
    "# Compared to the previous year, in 2017 there was a 27.5% drop in traffic fatalities"
   ]
  }
 ],
 "metadata": {
  "kernelspec": {
   "display_name": "Python 3 (ipykernel)",
   "language": "python",
   "name": "python3"
  },
  "language_info": {
   "codemirror_mode": {
    "name": "ipython",
    "version": 3
   },
   "file_extension": ".py",
   "mimetype": "text/x-python",
   "name": "python",
   "nbconvert_exporter": "python",
   "pygments_lexer": "ipython3",
   "version": "3.9.7"
  }
 },
 "nbformat": 4,
 "nbformat_minor": 5
}
