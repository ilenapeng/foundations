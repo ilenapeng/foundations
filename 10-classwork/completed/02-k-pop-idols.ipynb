{
 "cells": [
  {
   "cell_type": "markdown",
   "id": "410bd493",
   "metadata": {},
   "source": [
    "# K-pop Idols\n",
    "\n",
    "* **Data:** `kpop_idols.csv`\n",
    "* **Description:** K-pop is Korean pop music. It's popular the world over, especially when their fans take over Twitter hashtags. Idols are the individual musicians. Note that this dataset is not necessarily current k-pop idols, but includes people from the past, too (for example: group memberships might not be current).\n",
    "* **Source:** https://www.kaggle.com/kimjihoo/kpopdb\n",
    "* **Columns of interest:**\n",
    "    * These are pretty self-explanatory. Just know \"Birthplace\" is the city they were born in, while \"Country\" is the country."
   ]
  },
  {
   "cell_type": "markdown",
   "id": "341df782",
   "metadata": {},
   "source": [
    "## Read in your data"
   ]
  },
  {
   "cell_type": "code",
   "execution_count": 1,
   "id": "79e73513",
   "metadata": {},
   "outputs": [
    {
     "name": "stderr",
     "output_type": "stream",
     "text": [
      "/Users/ilenapeng/.pyenv/versions/3.9.7/lib/python3.9/site-packages/pandas/compat/__init__.py:124: UserWarning: Could not import the lzma module. Your installed Python is incomplete. Attempting to use lzma compression will result in a RuntimeError.\n",
      "  warnings.warn(msg)\n"
     ]
    }
   ],
   "source": [
    "import pandas as pd\n",
    "pd.set_option('max_columns', None)"
   ]
  },
  {
   "cell_type": "code",
   "execution_count": 2,
   "id": "73151a6b",
   "metadata": {},
   "outputs": [],
   "source": [
    "df = pd.read_csv('kpop_idols.csv')"
   ]
  },
  {
   "cell_type": "code",
   "execution_count": 3,
   "id": "4d816c77",
   "metadata": {},
   "outputs": [
    {
     "data": {
      "text/plain": [
       "Index(['Stage_Name', 'Full_Name', 'Korean_Name', 'K._Stage_Name',\n",
       "       'Date_of_Birth', 'Group', 'Country', 'Birthplace', 'Other_Group',\n",
       "       'Gender'],\n",
       "      dtype='object')"
      ]
     },
     "execution_count": 3,
     "metadata": {},
     "output_type": "execute_result"
    }
   ],
   "source": [
    "df.columns = df.columns.str.replace(' ', '_')\n",
    "df.columns"
   ]
  },
  {
   "cell_type": "markdown",
   "id": "b351e32a",
   "metadata": {},
   "source": [
    "## What is the percentage of male vs female kpop idols?"
   ]
  },
  {
   "cell_type": "code",
   "execution_count": 4,
   "id": "b9117b1d",
   "metadata": {},
   "outputs": [
    {
     "data": {
      "text/plain": [
       "M    0.516031\n",
       "F    0.483969\n",
       "Name: Gender, dtype: float64"
      ]
     },
     "execution_count": 4,
     "metadata": {},
     "output_type": "execute_result"
    }
   ],
   "source": [
    "df.Gender.value_counts(normalize=True)"
   ]
  },
  {
   "cell_type": "markdown",
   "id": "b8483eb3",
   "metadata": {},
   "source": [
    "## Not all idols are born in South Korea: make a horizontal bar plot of the top five countries they're from, with the longest bar at the top."
   ]
  },
  {
   "cell_type": "code",
   "execution_count": 5,
   "id": "2bac0609",
   "metadata": {},
   "outputs": [
    {
     "data": {
      "text/plain": [
       "<AxesSubplot:>"
      ]
     },
     "execution_count": 5,
     "metadata": {},
     "output_type": "execute_result"
    },
    {
     "data": {
      "image/png": "[encoded data removed]",
      "text/plain": [
       "<Figure size 432x288 with 1 Axes>"
      ]
     },
     "metadata": {
      "needs_background": "light"
     },
     "output_type": "display_data"
    }
   ],
   "source": [
    "df.Country.value_counts().head(5).sort_values(ascending=True).plot(kind='barh')"
   ]
  },
  {
   "cell_type": "markdown",
   "id": "954f90d9",
   "metadata": {},
   "source": [
    "## For **only** the idols born in China, what are the top 3 cities they were born in?"
   ]
  },
  {
   "cell_type": "code",
   "execution_count": 6,
   "id": "2b8c96c2",
   "metadata": {},
   "outputs": [
    {
     "data": {
      "text/plain": [
       "Shanghai       3\n",
       "Wuhan          2\n",
       "Qingdao        2\n",
       "Zhangjiajie    1\n",
       "Haidian        1\n",
       "Hainan         1\n",
       "Zhejiang       1\n",
       "Anshan         1\n",
       "Guangdong      1\n",
       "Jilin          1\n",
       "Luoyang        1\n",
       "Changsa        1\n",
       "Heilong        1\n",
       "Taizhou        1\n",
       "Shenzen        1\n",
       "Changja        1\n",
       "Hunan          1\n",
       "Mudanjiang     1\n",
       "Haikou         1\n",
       "Shenzhen       1\n",
       "Beijing        1\n",
       "Name: Birthplace, dtype: int64"
      ]
     },
     "execution_count": 6,
     "metadata": {},
     "output_type": "execute_result"
    }
   ],
   "source": [
    "# ommitted the .head(3) here because a bunch of places are tied, all with one idol\n",
    "df[df.Country == 'China'].Birthplace.value_counts()"
   ]
  },
  {
   "cell_type": "markdown",
   "id": "ce730b08",
   "metadata": {},
   "source": [
    "## What group has the most members in our dataset?"
   ]
  },
  {
   "cell_type": "code",
   "execution_count": 7,
   "id": "d9a1b0d5",
   "metadata": {},
   "outputs": [
    {
     "data": {
      "text/plain": [
       "NCT    18\n",
       "Name: Group, dtype: int64"
      ]
     },
     "execution_count": 7,
     "metadata": {},
     "output_type": "execute_result"
    }
   ],
   "source": [
    "df.Group.value_counts().head(1)"
   ]
  },
  {
   "cell_type": "markdown",
   "id": "1dd4401d",
   "metadata": {},
   "source": [
    "## Save a CSV file of just the members of Cosmic Girls, calling it `cosmic-girls.csv`.\n",
    "\n",
    "Count just the `Group` column."
   ]
  },
  {
   "cell_type": "code",
   "execution_count": 8,
   "id": "42405325",
   "metadata": {},
   "outputs": [
    {
     "data": {
      "text/html": [
       "<div>\n",
       "<style scoped>\n",
       "    .dataframe tbody tr th:only-of-type {\n",
       "        vertical-align: middle;\n",
       "    }\n",
       "\n",
       "    .dataframe tbody tr th {\n",
       "        vertical-align: top;\n",
       "    }\n",
       "\n",
       "    .dataframe thead th {\n",
       "        text-align: right;\n",
       "    }\n",
       "</style>\n",
       "<table border=\"1\" class=\"dataframe\">\n",
       "  <thead>\n",
       "    <tr style=\"text-align: right;\">\n",
       "      <th></th>\n",
       "      <th>Stage_Name</th>\n",
       "      <th>Full_Name</th>\n",
       "      <th>Korean_Name</th>\n",
       "      <th>K._Stage_Name</th>\n",
       "      <th>Date_of_Birth</th>\n",
       "      <th>Group</th>\n",
       "      <th>Country</th>\n",
       "      <th>Birthplace</th>\n",
       "      <th>Other_Group</th>\n",
       "      <th>Gender</th>\n",
       "    </tr>\n",
       "  </thead>\n",
       "  <tbody>\n",
       "    <tr>\n",
       "      <th>65</th>\n",
       "      <td>Bona</td>\n",
       "      <td>Kim Jiyeon</td>\n",
       "      <td>김지연</td>\n",
       "      <td>보나</td>\n",
       "      <td>1995-08-19</td>\n",
       "      <td>Cosmic Girls</td>\n",
       "      <td>South Korea</td>\n",
       "      <td>Daegu</td>\n",
       "      <td>NaN</td>\n",
       "      <td>F</td>\n",
       "    </tr>\n",
       "    <tr>\n",
       "      <th>112</th>\n",
       "      <td>Cheng Xiao</td>\n",
       "      <td>Cheng Xiao</td>\n",
       "      <td>청샤오</td>\n",
       "      <td>성소</td>\n",
       "      <td>1998-07-15</td>\n",
       "      <td>Cosmic Girls</td>\n",
       "      <td>China</td>\n",
       "      <td>Shenzhen</td>\n",
       "      <td>NaN</td>\n",
       "      <td>F</td>\n",
       "    </tr>\n",
       "    <tr>\n",
       "      <th>157</th>\n",
       "      <td>Dawon</td>\n",
       "      <td>Nam Dawon</td>\n",
       "      <td>남다원</td>\n",
       "      <td>다원</td>\n",
       "      <td>1997-03-16</td>\n",
       "      <td>Cosmic Girls</td>\n",
       "      <td>South Korea</td>\n",
       "      <td>Seoul</td>\n",
       "      <td>NaN</td>\n",
       "      <td>F</td>\n",
       "    </tr>\n",
       "    <tr>\n",
       "      <th>163</th>\n",
       "      <td>Dayoung</td>\n",
       "      <td>Im Dayoung</td>\n",
       "      <td>임다영</td>\n",
       "      <td>다영</td>\n",
       "      <td>1999-05-14</td>\n",
       "      <td>Cosmic Girls</td>\n",
       "      <td>South Korea</td>\n",
       "      <td>Jeju</td>\n",
       "      <td>NaN</td>\n",
       "      <td>F</td>\n",
       "    </tr>\n",
       "    <tr>\n",
       "      <th>235</th>\n",
       "      <td>Eunseo</td>\n",
       "      <td>Son Juyeon</td>\n",
       "      <td>손주연</td>\n",
       "      <td>은서</td>\n",
       "      <td>1998-05-27</td>\n",
       "      <td>Cosmic Girls</td>\n",
       "      <td>South Korea</td>\n",
       "      <td>Incheon</td>\n",
       "      <td>NaN</td>\n",
       "      <td>F</td>\n",
       "    </tr>\n",
       "    <tr>\n",
       "      <th>240</th>\n",
       "      <td>Exy</td>\n",
       "      <td>Chu Sojung</td>\n",
       "      <td>추소정</td>\n",
       "      <td>엑시</td>\n",
       "      <td>1995-11-06</td>\n",
       "      <td>Cosmic Girls</td>\n",
       "      <td>South Korea</td>\n",
       "      <td>Busan</td>\n",
       "      <td>NaN</td>\n",
       "      <td>F</td>\n",
       "    </tr>\n",
       "    <tr>\n",
       "      <th>722</th>\n",
       "      <td>Luda</td>\n",
       "      <td>Lee Luda</td>\n",
       "      <td>이루다</td>\n",
       "      <td>루다</td>\n",
       "      <td>1997-03-06</td>\n",
       "      <td>Cosmic Girls</td>\n",
       "      <td>South Korea</td>\n",
       "      <td>Seoul</td>\n",
       "      <td>WJMK</td>\n",
       "      <td>F</td>\n",
       "    </tr>\n",
       "    <tr>\n",
       "      <th>735</th>\n",
       "      <td>Meiqi</td>\n",
       "      <td>Meng Meiqi</td>\n",
       "      <td>멍메이치</td>\n",
       "      <td>미기</td>\n",
       "      <td>1998-10-15</td>\n",
       "      <td>Cosmic Girls</td>\n",
       "      <td>China</td>\n",
       "      <td>Luoyang</td>\n",
       "      <td>NaN</td>\n",
       "      <td>F</td>\n",
       "    </tr>\n",
       "    <tr>\n",
       "      <th>918</th>\n",
       "      <td>Seola</td>\n",
       "      <td>Kim Hyunjung</td>\n",
       "      <td>김현정</td>\n",
       "      <td>설아</td>\n",
       "      <td>1994-12-24</td>\n",
       "      <td>Cosmic Girls</td>\n",
       "      <td>South Korea</td>\n",
       "      <td>Seoul</td>\n",
       "      <td>WJMK</td>\n",
       "      <td>F</td>\n",
       "    </tr>\n",
       "    <tr>\n",
       "      <th>1001</th>\n",
       "      <td>Soobin</td>\n",
       "      <td>Park Soobin</td>\n",
       "      <td>박수빈</td>\n",
       "      <td>수빈</td>\n",
       "      <td>1996-09-14</td>\n",
       "      <td>Cosmic Girls</td>\n",
       "      <td>South Korea</td>\n",
       "      <td>Seoul</td>\n",
       "      <td>NaN</td>\n",
       "      <td>F</td>\n",
       "    </tr>\n",
       "    <tr>\n",
       "      <th>1168</th>\n",
       "      <td>Xuanyi</td>\n",
       "      <td>Wu Xuanyi</td>\n",
       "      <td>우쉬안이</td>\n",
       "      <td>선의</td>\n",
       "      <td>1995-01-26</td>\n",
       "      <td>Cosmic Girls</td>\n",
       "      <td>China</td>\n",
       "      <td>Hainan</td>\n",
       "      <td>NaN</td>\n",
       "      <td>F</td>\n",
       "    </tr>\n",
       "    <tr>\n",
       "      <th>1197</th>\n",
       "      <td>Yeonjung</td>\n",
       "      <td>Yu Yeonjung</td>\n",
       "      <td>유연정</td>\n",
       "      <td>연정</td>\n",
       "      <td>1999-08-03</td>\n",
       "      <td>Cosmic Girls</td>\n",
       "      <td>South Korea</td>\n",
       "      <td>Gwangmyeong</td>\n",
       "      <td>I.O.I</td>\n",
       "      <td>F</td>\n",
       "    </tr>\n",
       "    <tr>\n",
       "      <th>1200</th>\n",
       "      <td>Yeoreum</td>\n",
       "      <td>Lee Jinsook</td>\n",
       "      <td>이진숙</td>\n",
       "      <td>여름</td>\n",
       "      <td>1999-01-10</td>\n",
       "      <td>Cosmic Girls</td>\n",
       "      <td>South Korea</td>\n",
       "      <td>Seoul</td>\n",
       "      <td>NaN</td>\n",
       "      <td>F</td>\n",
       "    </tr>\n",
       "  </tbody>\n",
       "</table>\n",
       "</div>"
      ],
      "text/plain": [
       "      Stage_Name     Full_Name Korean_Name K._Stage_Name Date_of_Birth  \\\n",
       "65          Bona    Kim Jiyeon         김지연            보나    1995-08-19   \n",
       "112   Cheng Xiao    Cheng Xiao         청샤오            성소    1998-07-15   \n",
       "157        Dawon     Nam Dawon         남다원            다원    1997-03-16   \n",
       "163      Dayoung    Im Dayoung         임다영            다영    1999-05-14   \n",
       "235       Eunseo    Son Juyeon         손주연            은서    1998-05-27   \n",
       "240          Exy    Chu Sojung         추소정            엑시    1995-11-06   \n",
       "722         Luda      Lee Luda         이루다            루다    1997-03-06   \n",
       "735        Meiqi    Meng Meiqi        멍메이치            미기    1998-10-15   \n",
       "918        Seola  Kim Hyunjung         김현정            설아    1994-12-24   \n",
       "1001      Soobin   Park Soobin         박수빈            수빈    1996-09-14   \n",
       "1168      Xuanyi     Wu Xuanyi        우쉬안이            선의    1995-01-26   \n",
       "1197    Yeonjung   Yu Yeonjung         유연정            연정    1999-08-03   \n",
       "1200     Yeoreum   Lee Jinsook         이진숙            여름    1999-01-10   \n",
       "\n",
       "             Group      Country   Birthplace Other_Group Gender  \n",
       "65    Cosmic Girls  South Korea        Daegu         NaN      F  \n",
       "112   Cosmic Girls        China     Shenzhen         NaN      F  \n",
       "157   Cosmic Girls  South Korea        Seoul         NaN      F  \n",
       "163   Cosmic Girls  South Korea         Jeju         NaN      F  \n",
       "235   Cosmic Girls  South Korea      Incheon         NaN      F  \n",
       "240   Cosmic Girls  South Korea        Busan         NaN      F  \n",
       "722   Cosmic Girls  South Korea        Seoul        WJMK      F  \n",
       "735   Cosmic Girls        China      Luoyang         NaN      F  \n",
       "918   Cosmic Girls  South Korea        Seoul        WJMK      F  \n",
       "1001  Cosmic Girls  South Korea        Seoul         NaN      F  \n",
       "1168  Cosmic Girls        China       Hainan         NaN      F  \n",
       "1197  Cosmic Girls  South Korea  Gwangmyeong       I.O.I      F  \n",
       "1200  Cosmic Girls  South Korea        Seoul         NaN      F  "
      ]
     },
     "execution_count": 8,
     "metadata": {},
     "output_type": "execute_result"
    }
   ],
   "source": [
    "cosmicgirls_df = df[df.Group == 'Cosmic Girls']\n",
    "cosmicgirls_df"
   ]
  },
  {
   "cell_type": "code",
   "execution_count": 9,
   "id": "6d9b8f35",
   "metadata": {},
   "outputs": [],
   "source": [
    "cosmicgirls_df.to_csv('cosmic-girls.csv', index=False)"
   ]
  },
  {
   "cell_type": "markdown",
   "id": "b7b25a17",
   "metadata": {},
   "source": [
    "## How many idols are members of `Super Junior-M`?\n",
    "\n",
    "Count both `Group` and `Other Group`."
   ]
  },
  {
   "cell_type": "code",
   "execution_count": 10,
   "id": "c6a0d618",
   "metadata": {},
   "outputs": [
    {
     "data": {
      "text/plain": [
       "10"
      ]
     },
     "execution_count": 10,
     "metadata": {},
     "output_type": "execute_result"
    }
   ],
   "source": [
    "len(df[(df.Group == 'Super Junior') | (df.Other_Group == 'Super Junior-M')])"
   ]
  },
  {
   "cell_type": "markdown",
   "id": "21b296a7",
   "metadata": {},
   "source": [
    "## Create a new column called `age` that is the age of the idol.\n",
    "\n",
    "There are a few ways you can do this, but when calculating the age **just use the year**, you don't need to worry if they've had a birthday or not in 2021. For example, A.M. was born in 1996, so we would say she is **2021 - 1996 = 25 years old**."
   ]
  },
  {
   "cell_type": "code",
   "execution_count": 11,
   "id": "280b7ecd",
   "metadata": {},
   "outputs": [],
   "source": [
    "df.Date_of_Birth = pd.to_datetime(df.Date_of_Birth, format='%Y-%m-%d', errors='coerce')"
   ]
  },
  {
   "cell_type": "code",
   "execution_count": 12,
   "id": "68fe4509",
   "metadata": {},
   "outputs": [],
   "source": [
    "df['age'] = 2021 - df.Date_of_Birth.dt.year"
   ]
  },
  {
   "cell_type": "markdown",
   "id": "2eb3f339",
   "metadata": {},
   "source": [
    "## Who are the four youngest idols in our dataset?"
   ]
  },
  {
   "cell_type": "code",
   "execution_count": 13,
   "id": "a0f65ffa",
   "metadata": {},
   "outputs": [
    {
     "data": {
      "text/html": [
       "<div>\n",
       "<style scoped>\n",
       "    .dataframe tbody tr th:only-of-type {\n",
       "        vertical-align: middle;\n",
       "    }\n",
       "\n",
       "    .dataframe tbody tr th {\n",
       "        vertical-align: top;\n",
       "    }\n",
       "\n",
       "    .dataframe thead th {\n",
       "        text-align: right;\n",
       "    }\n",
       "</style>\n",
       "<table border=\"1\" class=\"dataframe\">\n",
       "  <thead>\n",
       "    <tr style=\"text-align: right;\">\n",
       "      <th></th>\n",
       "      <th>Stage_Name</th>\n",
       "      <th>Full_Name</th>\n",
       "      <th>Korean_Name</th>\n",
       "      <th>K._Stage_Name</th>\n",
       "      <th>Date_of_Birth</th>\n",
       "      <th>Group</th>\n",
       "      <th>Country</th>\n",
       "      <th>Birthplace</th>\n",
       "      <th>Other_Group</th>\n",
       "      <th>Gender</th>\n",
       "      <th>age</th>\n",
       "    </tr>\n",
       "  </thead>\n",
       "  <tbody>\n",
       "    <tr>\n",
       "      <th>142</th>\n",
       "      <td>Dahyun</td>\n",
       "      <td>Jeong Dahyun</td>\n",
       "      <td>정다현</td>\n",
       "      <td>다현</td>\n",
       "      <td>2005-04-29</td>\n",
       "      <td>Rocket Punch</td>\n",
       "      <td>South Korea</td>\n",
       "      <td>NaN</td>\n",
       "      <td>NaN</td>\n",
       "      <td>F</td>\n",
       "      <td>16</td>\n",
       "    </tr>\n",
       "    <tr>\n",
       "      <th>1307</th>\n",
       "      <td>Zoa</td>\n",
       "      <td>Cho Hyewon</td>\n",
       "      <td>조혜원</td>\n",
       "      <td>조아</td>\n",
       "      <td>2005-05-31</td>\n",
       "      <td>Weeekly</td>\n",
       "      <td>South Korea</td>\n",
       "      <td>NaN</td>\n",
       "      <td>NaN</td>\n",
       "      <td>F</td>\n",
       "      <td>16</td>\n",
       "    </tr>\n",
       "    <tr>\n",
       "      <th>1213</th>\n",
       "      <td>Yeseo</td>\n",
       "      <td>Kang Yeseo</td>\n",
       "      <td>강예서</td>\n",
       "      <td>예서</td>\n",
       "      <td>2005-08-22</td>\n",
       "      <td>Busters</td>\n",
       "      <td>South Korea</td>\n",
       "      <td>NaN</td>\n",
       "      <td>NaN</td>\n",
       "      <td>F</td>\n",
       "      <td>16</td>\n",
       "    </tr>\n",
       "    <tr>\n",
       "      <th>332</th>\n",
       "      <td>Heesun</td>\n",
       "      <td>Park Heesun</td>\n",
       "      <td>박희선</td>\n",
       "      <td>희선</td>\n",
       "      <td>2005-01-25</td>\n",
       "      <td>Pink Fantasy</td>\n",
       "      <td>South Korea</td>\n",
       "      <td>NaN</td>\n",
       "      <td>NaN</td>\n",
       "      <td>F</td>\n",
       "      <td>16</td>\n",
       "    </tr>\n",
       "  </tbody>\n",
       "</table>\n",
       "</div>"
      ],
      "text/plain": [
       "     Stage_Name     Full_Name Korean_Name K._Stage_Name Date_of_Birth  \\\n",
       "142      Dahyun  Jeong Dahyun         정다현            다현    2005-04-29   \n",
       "1307        Zoa    Cho Hyewon         조혜원            조아    2005-05-31   \n",
       "1213      Yeseo    Kang Yeseo         강예서            예서    2005-08-22   \n",
       "332      Heesun   Park Heesun         박희선            희선    2005-01-25   \n",
       "\n",
       "             Group      Country Birthplace Other_Group Gender  age  \n",
       "142   Rocket Punch  South Korea        NaN         NaN      F   16  \n",
       "1307       Weeekly  South Korea        NaN         NaN      F   16  \n",
       "1213       Busters  South Korea        NaN         NaN      F   16  \n",
       "332   Pink Fantasy  South Korea        NaN         NaN      F   16  "
      ]
     },
     "execution_count": 13,
     "metadata": {},
     "output_type": "execute_result"
    }
   ],
   "source": [
    "df.sort_values('age').head(4)"
   ]
  },
  {
   "cell_type": "markdown",
   "id": "f0b9702d",
   "metadata": {},
   "source": [
    "## What is the median age of male vs female idols?"
   ]
  },
  {
   "cell_type": "code",
   "execution_count": 14,
   "id": "25f2916e",
   "metadata": {},
   "outputs": [
    {
     "data": {
      "text/plain": [
       "Gender\n",
       "F    25.0\n",
       "M    26.0\n",
       "Name: age, dtype: float64"
      ]
     },
     "execution_count": 14,
     "metadata": {},
     "output_type": "execute_result"
    }
   ],
   "source": [
    "df.groupby('Gender').age.median()"
   ]
  }
 ],
 "metadata": {
  "kernelspec": {
   "display_name": "Python 3 (ipykernel)",
   "language": "python",
   "name": "python3"
  },
  "language_info": {
   "codemirror_mode": {
    "name": "ipython",
    "version": 3
   },
   "file_extension": ".py",
   "mimetype": "text/x-python",
   "name": "python",
   "nbconvert_exporter": "python",
   "pygments_lexer": "ipython3",
   "version": "3.9.7"
  }
 },
 "nbformat": 4,
 "nbformat_minor": 5
}
