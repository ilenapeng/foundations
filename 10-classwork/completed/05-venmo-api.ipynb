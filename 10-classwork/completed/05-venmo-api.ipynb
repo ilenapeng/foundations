{
 "cells": [
  {
   "cell_type": "markdown",
   "metadata": {},
   "source": [
    "# Venmo\n",
    "\n",
    "Venmo is used for two things:\n",
    "\n",
    "1. Sending money to people\n",
    "2. Spying on people sending money to people\n",
    "\n",
    "For some reason, they have (...had) a public API. You can find it here: https://venmo.com/api/v5/public\n",
    "\n",
    "## Using the Venmo API\n",
    "\n",
    "### Make a _successful_ request to the Venmo API\n",
    "\n",
    "You'll need to pretend to be a browser, which means your request will need to include `headers={'user-agent': 'Mozilla/5.0 (Macintosh; Intel Mac OS X 10.9; rv:32.0) Gecko/20100101 Firefox/32.0'}`."
   ]
  },
  {
   "cell_type": "code",
   "execution_count": 1,
   "metadata": {},
   "outputs": [
    {
     "name": "stderr",
     "output_type": "stream",
     "text": [
      "/Users/ilenapeng/.pyenv/versions/3.9.7/lib/python3.9/site-packages/pandas/compat/__init__.py:124: UserWarning: Could not import the lzma module. Your installed Python is incomplete. Attempting to use lzma compression will result in a RuntimeError.\n",
      "  warnings.warn(msg)\n"
     ]
    }
   ],
   "source": [
    "import requests\n",
    "import pandas as pd"
   ]
  },
  {
   "cell_type": "code",
   "execution_count": 2,
   "metadata": {},
   "outputs": [],
   "source": [
    "url = \"https://venmo.com/api/v5/public\"\n",
    "\n",
    "response = requests.get(url, headers={'user-agent': 'Mozilla/5.0 (Macintosh; Intel Mac OS X 10.9; rv:32.0) Gecko/20100101 Firefox/32.0'})\n",
    "data = response.json()"
   ]
  },
  {
   "cell_type": "markdown",
   "metadata": {},
   "source": [
    "## How many results do you get by default?"
   ]
  },
  {
   "cell_type": "code",
   "execution_count": 3,
   "metadata": {},
   "outputs": [
    {
     "data": {
      "text/plain": [
       "13"
      ]
     },
     "execution_count": 3,
     "metadata": {},
     "output_type": "execute_result"
    }
   ],
   "source": [
    "# data.keys()\n",
    "# dict_keys(['paging', 'data'])\n",
    "\n",
    "len(data['data'])"
   ]
  },
  {
   "cell_type": "markdown",
   "metadata": {},
   "source": [
    "## Print out each transaction's username and message"
   ]
  },
  {
   "cell_type": "code",
   "execution_count": 4,
   "metadata": {},
   "outputs": [
    {
     "data": {
      "text/plain": [
       "'John G'"
      ]
     },
     "execution_count": 4,
     "metadata": {},
     "output_type": "execute_result"
    }
   ],
   "source": [
    "data['data'][0]['transactions'][0]['target']['name']\n",
    "data['data'][1]['transactions'][0]['target']['name']\n",
    "data['data'][2]['transactions'][0]['target']['name']"
   ]
  },
  {
   "cell_type": "code",
   "execution_count": 5,
   "metadata": {},
   "outputs": [
    {
     "data": {
      "text/plain": [
       "'Miss you'"
      ]
     },
     "execution_count": 5,
     "metadata": {},
     "output_type": "execute_result"
    }
   ],
   "source": [
    "data['data'][0]['message']"
   ]
  },
  {
   "cell_type": "code",
   "execution_count": 6,
   "metadata": {},
   "outputs": [
    {
     "name": "stdout",
     "output_type": "stream",
     "text": [
      "Erica M\n",
      "Miss you\n",
      "-----\n",
      "Jordan K\n",
      "Groceries\n",
      "-----\n",
      "John G\n",
      "Virtual coffee date!!!\n",
      "-----\n",
      "Pluto S\n",
      "To help w/ your bills this month\n",
      "-----\n",
      "Liz A\n",
      "Thanks for everything you do\n",
      "-----\n",
      "Aaron D\n",
      "Rent's due, dude\n",
      "-----\n",
      "Kaylee N\n",
      "Takeout > Going out\n",
      "-----\n",
      "Woot H\n",
      "Thank you, friend\n",
      "-----\n",
      "Sean N\n",
      "Pizza for din. And bfast too.\n",
      "-----\n",
      "Annalee L\n",
      "You got this\n",
      "-----\n",
      "Benny N\n",
      "Dinner\n",
      "-----\n",
      "Liz A\n",
      "Treat yo self\n",
      "-----\n",
      "Ashley P\n",
      "Grab a snack on me!\n",
      "-----\n"
     ]
    }
   ],
   "source": [
    "for transaction in data['data']:\n",
    "    print(transaction['transactions'][0]['target']['name'])\n",
    "    print(transaction['message'])\n",
    "    print('-----')"
   ]
  },
  {
   "cell_type": "markdown",
   "metadata": {},
   "source": [
    "## Convert the list of transactions into a dataframe."
   ]
  },
  {
   "cell_type": "code",
   "execution_count": 7,
   "metadata": {},
   "outputs": [
    {
     "name": "stdout",
     "output_type": "stream",
     "text": [
      "[{'name': 'Erica M', 'message': 'Miss you'}, {'name': 'Jordan K', 'message': 'Groceries'}, {'name': 'John G', 'message': 'Virtual coffee date!!!'}, {'name': 'Pluto S', 'message': 'To help w/ your bills this month'}, {'name': 'Liz A', 'message': 'Thanks for everything you do'}, {'name': 'Aaron D', 'message': \"Rent's due, dude\"}, {'name': 'Kaylee N', 'message': 'Takeout > Going out'}, {'name': 'Woot H', 'message': 'Thank you, friend'}, {'name': 'Sean N', 'message': 'Pizza for din. And bfast too.'}, {'name': 'Annalee L', 'message': 'You got this'}, {'name': 'Benny N', 'message': 'Dinner'}, {'name': 'Liz A', 'message': 'Treat yo self'}, {'name': 'Ashley P', 'message': 'Grab a snack on me!'}]\n"
     ]
    }
   ],
   "source": [
    "dataset = []\n",
    "for transaction in data['data']:\n",
    "    each_transaction = {}\n",
    "    each_transaction['name'] = transaction['transactions'][0]['target']['name']\n",
    "    each_transaction['message'] = transaction['message']\n",
    "    dataset.append(each_transaction)\n",
    "print(dataset)"
   ]
  },
  {
   "cell_type": "code",
   "execution_count": 8,
   "metadata": {},
   "outputs": [
    {
     "data": {
      "text/html": [
       "<div>\n",
       "<style scoped>\n",
       "    .dataframe tbody tr th:only-of-type {\n",
       "        vertical-align: middle;\n",
       "    }\n",
       "\n",
       "    .dataframe tbody tr th {\n",
       "        vertical-align: top;\n",
       "    }\n",
       "\n",
       "    .dataframe thead th {\n",
       "        text-align: right;\n",
       "    }\n",
       "</style>\n",
       "<table border=\"1\" class=\"dataframe\">\n",
       "  <thead>\n",
       "    <tr style=\"text-align: right;\">\n",
       "      <th></th>\n",
       "      <th>name</th>\n",
       "      <th>message</th>\n",
       "    </tr>\n",
       "  </thead>\n",
       "  <tbody>\n",
       "    <tr>\n",
       "      <th>0</th>\n",
       "      <td>Erica M</td>\n",
       "      <td>Miss you</td>\n",
       "    </tr>\n",
       "    <tr>\n",
       "      <th>1</th>\n",
       "      <td>Jordan K</td>\n",
       "      <td>Groceries</td>\n",
       "    </tr>\n",
       "    <tr>\n",
       "      <th>2</th>\n",
       "      <td>John G</td>\n",
       "      <td>Virtual coffee date!!!</td>\n",
       "    </tr>\n",
       "    <tr>\n",
       "      <th>3</th>\n",
       "      <td>Pluto S</td>\n",
       "      <td>To help w/ your bills this month</td>\n",
       "    </tr>\n",
       "    <tr>\n",
       "      <th>4</th>\n",
       "      <td>Liz A</td>\n",
       "      <td>Thanks for everything you do</td>\n",
       "    </tr>\n",
       "    <tr>\n",
       "      <th>5</th>\n",
       "      <td>Aaron D</td>\n",
       "      <td>Rent's due, dude</td>\n",
       "    </tr>\n",
       "    <tr>\n",
       "      <th>6</th>\n",
       "      <td>Kaylee N</td>\n",
       "      <td>Takeout &gt; Going out</td>\n",
       "    </tr>\n",
       "    <tr>\n",
       "      <th>7</th>\n",
       "      <td>Woot H</td>\n",
       "      <td>Thank you, friend</td>\n",
       "    </tr>\n",
       "    <tr>\n",
       "      <th>8</th>\n",
       "      <td>Sean N</td>\n",
       "      <td>Pizza for din. And bfast too.</td>\n",
       "    </tr>\n",
       "    <tr>\n",
       "      <th>9</th>\n",
       "      <td>Annalee L</td>\n",
       "      <td>You got this</td>\n",
       "    </tr>\n",
       "    <tr>\n",
       "      <th>10</th>\n",
       "      <td>Benny N</td>\n",
       "      <td>Dinner</td>\n",
       "    </tr>\n",
       "    <tr>\n",
       "      <th>11</th>\n",
       "      <td>Liz A</td>\n",
       "      <td>Treat yo self</td>\n",
       "    </tr>\n",
       "    <tr>\n",
       "      <th>12</th>\n",
       "      <td>Ashley P</td>\n",
       "      <td>Grab a snack on me!</td>\n",
       "    </tr>\n",
       "  </tbody>\n",
       "</table>\n",
       "</div>"
      ],
      "text/plain": [
       "         name                           message\n",
       "0     Erica M                          Miss you\n",
       "1    Jordan K                         Groceries\n",
       "2      John G            Virtual coffee date!!!\n",
       "3     Pluto S  To help w/ your bills this month\n",
       "4       Liz A      Thanks for everything you do\n",
       "5     Aaron D                  Rent's due, dude\n",
       "6    Kaylee N               Takeout > Going out\n",
       "7      Woot H                 Thank you, friend\n",
       "8      Sean N     Pizza for din. And bfast too.\n",
       "9   Annalee L                      You got this\n",
       "10    Benny N                            Dinner\n",
       "11      Liz A                     Treat yo self\n",
       "12   Ashley P               Grab a snack on me!"
      ]
     },
     "execution_count": 8,
     "metadata": {},
     "output_type": "execute_result"
    }
   ],
   "source": [
    "pd.DataFrame(dataset)"
   ]
  },
  {
   "cell_type": "markdown",
   "metadata": {},
   "source": [
    "## But now: to reality\n",
    "\n",
    "You should cry a little bit, because **this data isn't real**. It *used* to be real, but it isn't any more, because Venmo finally decided it was a bit too much of an invasion of privacy."
   ]
  }
 ],
 "metadata": {
  "kernelspec": {
   "display_name": "Python 3 (ipykernel)",
   "language": "python",
   "name": "python3"
  },
  "language_info": {
   "codemirror_mode": {
    "name": "ipython",
    "version": 3
   },
   "file_extension": ".py",
   "mimetype": "text/x-python",
   "name": "python",
   "nbconvert_exporter": "python",
   "pygments_lexer": "ipython3",
   "version": "3.9.7"
  }
 },
 "nbformat": 4,
 "nbformat_minor": 4
}
