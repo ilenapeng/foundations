{
 "cells": [
  {
   "cell_type": "markdown",
   "metadata": {},
   "source": [
    "# Camelot: Text-based PDFs with tables\n",
    "\n",
    "## Installation, part 1\n",
    "\n",
    "First, we'll need to install Ghostscript and Tkinter, two things Camelot depends on. You can follow the [installation instructions](https://camelot-py.readthedocs.io/en/master/user/install-deps.html#install-deps), but I've also reproduced them below.\n",
    "\n",
    "### OS X\n",
    "\n",
    "You can install them on OS X with Homebrew.\n",
    "\n",
    "```\n",
    "brew install ghostscript tcl-tk\n",
    "```\n",
    "\n",
    "This might take a little while.\n",
    "\n",
    "### Windows\n",
    "\n",
    "Download and run the installers for [Ghostscript](https://www.ghostscript.com/download/gsdnld.html) and [ActiveTcl](https://www.activestate.com/products/tcl/downloads/)\n",
    "\n",
    "## Installation, part 2\n",
    "\n",
    "Hopefully they installed correctly, and **now you can actually install Camelot.** [Instructions are here](https://camelot-py.readthedocs.io/en/master/user/install.html#install), but I've also reproduced them below.\n",
    "\n",
    "```\n",
    "pip install \"camelot-py[base]\"\n",
    "```\n",
    "\n",
    "If Ghostscript doesn't successfully install (above), you won't be able to read **lattice**-style PDFs.\n",
    "\n",
    "## Use\n",
    "\n",
    "\n",
    "Simple use is like so:\n",
    "\n",
    "```python\n",
    "import camelot\n",
    "\n",
    "tables = camelot.read_pdf(\"......\")\n",
    "```\n",
    "\n",
    "and a single table is turned into a dataframe with\n",
    "\n",
    "```python\n",
    "tables[0].df\n",
    "```\n",
    "\n",
    "**Try to read in `players/players.pdf`.**"
   ]
  },
  {
   "cell_type": "code",
   "execution_count": null,
   "metadata": {},
   "outputs": [],
   "source": []
  },
  {
   "cell_type": "markdown",
   "metadata": {},
   "source": [
    "## Option: flavor\n",
    "\n",
    "...but to make things work correctly, you often have to specify `flavor=` as one of two options:\n",
    "\n",
    "* `lattice` for borders between things\n",
    "* `stream` for empty space between things"
   ]
  },
  {
   "cell_type": "code",
   "execution_count": null,
   "metadata": {},
   "outputs": [],
   "source": []
  },
  {
   "cell_type": "markdown",
   "metadata": {},
   "source": [
    "## Option: pages\n",
    "\n",
    "Try `misc-pdfs/2018_625_Ad_Val_Tax_Levy_Report_648625_7.pdf`. Does it pull in all of the tables?"
   ]
  },
  {
   "cell_type": "code",
   "execution_count": null,
   "metadata": {},
   "outputs": [],
   "source": []
  },
  {
   "cell_type": "markdown",
   "metadata": {},
   "source": [
    "You can specify the page range with `pages=`. For example, `1,2` or `1-end`."
   ]
  },
  {
   "cell_type": "code",
   "execution_count": null,
   "metadata": {},
   "outputs": [],
   "source": []
  },
  {
   "cell_type": "markdown",
   "metadata": {},
   "source": [
    "## Combining the the tables into a dataframe\n",
    "\n",
    "You can take every single dataframe that's pulled out of the page and combine it into a single big dataframe.\n",
    "\n",
    "```python\n",
    "import pandas as pd\n",
    "\n",
    "dfs = [table.df for table in tables]\n",
    "pd.concat(dfs, ignore_index=True)\n",
    "```"
   ]
  },
  {
   "cell_type": "code",
   "execution_count": null,
   "metadata": {},
   "outputs": [],
   "source": []
  },
  {
   "cell_type": "markdown",
   "metadata": {},
   "source": [
    "## Fun debugging and investigating tricks\n",
    "\n",
    "```\n",
    "camelot.plot(tables[0], kind='text').show()\n",
    "camelot.plot(tables[0], kind='grid').show()\n",
    "camelot.plot(tables[1], kind='contour').show()\n",
    "```\n"
   ]
  },
  {
   "cell_type": "code",
   "execution_count": null,
   "metadata": {},
   "outputs": [],
   "source": []
  },
  {
   "cell_type": "code",
   "execution_count": null,
   "metadata": {},
   "outputs": [],
   "source": []
  },
  {
   "cell_type": "code",
   "execution_count": null,
   "metadata": {},
   "outputs": [],
   "source": []
  },
  {
   "cell_type": "markdown",
   "metadata": {},
   "source": [
    "## Non-English PDFs\n",
    "\n",
    "It doesn't care, it isn't doing OCR. Try for `non-english/museums.pdf`."
   ]
  },
  {
   "cell_type": "code",
   "execution_count": null,
   "metadata": {},
   "outputs": [],
   "source": []
  }
 ],
 "metadata": {
  "kernelspec": {
   "display_name": "Python 3 (ipykernel)",
   "language": "python",
   "name": "python3"
  },
  "language_info": {
   "codemirror_mode": {
    "name": "ipython",
    "version": 3
   },
   "file_extension": ".py",
   "mimetype": "text/x-python",
   "name": "python",
   "nbconvert_exporter": "python",
   "pygments_lexer": "ipython3",
   "version": "3.9.7"
  }
 },
 "nbformat": 4,
 "nbformat_minor": 4
}
