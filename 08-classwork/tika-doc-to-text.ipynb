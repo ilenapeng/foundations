{
 "cells": [
  {
   "cell_type": "markdown",
   "metadata": {},
   "source": [
    "# Tika\n",
    "\n",
    "[Apache Tika](https://tika.apache.org/) is the best software in all of history when it comes to converting documents to text. It takes absolutely *anything* and turns it into text (just make sure you've installed tesseract first).\n",
    "\n",
    "## Installation, Part 1: Java\n",
    "\n",
    "### OS X\n",
    "\n",
    "You can install Java using Homebrew.\n",
    "\n",
    "```\n",
    "brew install --cask adoptopenjdk\n",
    "```\n",
    "\n",
    "### Windows\n",
    "\n",
    "You'll need to [download Java](https://java.com/en/download/manual.jsp) and install it (pick the offline installer, fewer things to go wrong).\n",
    "\n",
    "## Installation, Part 2: Python bindings for Tika\n",
    "\n",
    "Now we'll install the [Python bindings](https://github.com/chrismattmann/tika-python) of the Tika library.\n",
    "\n",
    "```\n",
    "pip install tika\n",
    "```\n",
    "\n",
    "We don't need to download Tika itself because *the Python library does it for us, every single time it runs*.\n",
    "\n",
    "## Using Tika\n",
    "\n",
    "Let's see if we can get this to work!\n",
    "\n",
    "```python\n",
    "import tika\n",
    "from tika import parser\n",
    "\n",
    "parsed = parser.from_file('......')\n",
    "```"
   ]
  },
  {
   "cell_type": "code",
   "execution_count": null,
   "metadata": {},
   "outputs": [],
   "source": []
  },
  {
   "cell_type": "markdown",
   "metadata": {},
   "source": [
    "### Converting PDFs to text\n",
    "\n",
    "Let's try `players/players.pdf`"
   ]
  },
  {
   "cell_type": "code",
   "execution_count": null,
   "metadata": {},
   "outputs": [],
   "source": []
  },
  {
   "cell_type": "markdown",
   "metadata": {},
   "source": [
    "### Reading scanned documents\n",
    "\n",
    "Let's try `players/players-scan.jpg`"
   ]
  },
  {
   "cell_type": "code",
   "execution_count": null,
   "metadata": {},
   "outputs": [],
   "source": []
  },
  {
   "cell_type": "markdown",
   "metadata": {},
   "source": [
    "### Reading HTML\n",
    "\n",
    "Let's try `new-york/nys-bill.html`"
   ]
  },
  {
   "cell_type": "code",
   "execution_count": null,
   "metadata": {},
   "outputs": [],
   "source": []
  },
  {
   "cell_type": "markdown",
   "metadata": {},
   "source": [
    "### Reading web pages\n",
    "\n",
    "```python\n",
    "import requests\n",
    "response = requests.get('....')\n",
    "\n",
    "parsed = parser.from_buffer(response.text)\n",
    "```\n",
    "\n",
    "Let's try `nytimes.com`"
   ]
  },
  {
   "cell_type": "code",
   "execution_count": null,
   "metadata": {},
   "outputs": [],
   "source": []
  },
  {
   "cell_type": "markdown",
   "metadata": {},
   "source": [
    "### Reading other languages\n",
    "\n",
    "> If you aren't working in English, you'll need to set headers with info from `tesseract --list-langs`"
   ]
  },
  {
   "cell_type": "code",
   "execution_count": null,
   "metadata": {},
   "outputs": [],
   "source": []
  },
  {
   "cell_type": "code",
   "execution_count": 1,
   "metadata": {},
   "outputs": [],
   "source": [
    "headers = {\n",
    "    \"X-Tika-OCRLanguage\": \"chi_sim\"\n",
    "}\n",
    "\n",
    "# results = parser.from_file('non-english/museums-scanned.jpg', headers=headers)"
   ]
  },
  {
   "cell_type": "code",
   "execution_count": 2,
   "metadata": {},
   "outputs": [],
   "source": [
    "headers = {\n",
    "    \"X-Tika-OCRLanguage\": \"grc\"\n",
    "}\n",
    "\n",
    "# results = parser.from_file('non-english/greek.png', headers=headers)"
   ]
  },
  {
   "cell_type": "code",
   "execution_count": null,
   "metadata": {},
   "outputs": [],
   "source": []
  }
 ],
 "metadata": {
  "kernelspec": {
   "display_name": "Python 3 (ipykernel)",
   "language": "python",
   "name": "python3"
  },
  "language_info": {
   "codemirror_mode": {
    "name": "ipython",
    "version": 3
   },
   "file_extension": ".py",
   "mimetype": "text/x-python",
   "name": "python",
   "nbconvert_exporter": "python",
   "pygments_lexer": "ipython3",
   "version": "3.9.7"
  }
 },
 "nbformat": 4,
 "nbformat_minor": 4
}
