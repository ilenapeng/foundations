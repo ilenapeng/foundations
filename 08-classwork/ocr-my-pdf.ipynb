{
 "cells": [
  {
   "cell_type": "markdown",
   "id": "2b91b1d3",
   "metadata": {},
   "source": [
    "# Adding text layers to image-based PDFs with OCRmyPDF\n",
    "\n",
    "## Installation\n",
    "\n",
    "### OSX \n",
    "\n",
    "Install using Homebrew. We'll install the language pack for tesseract so that it supports more than just English.\n",
    "\n",
    "```\n",
    "brew install tesseract-lang\n",
    "brew install ocrmypdf\n",
    "```\n",
    "\n",
    "### Windows\n",
    "\n",
    "[According to the instructions](https://ocrmypdf.readthedocs.io/en/latest/installation.html#installing-on-windows), you should first [install Chocolatey](https://chocolatey.org/), a Homebrew-like package manager for Windows. You should already have Python 3 installed, so we'll skip that command and go with the next few:\n",
    "\n",
    "```\n",
    "choco install --pre tesseract\n",
    "choco install ghostscript\n",
    "choco install pngquant\n",
    "pip install ocrmypdf\n",
    "```"
   ]
  },
  {
   "cell_type": "markdown",
   "id": "d024eeef",
   "metadata": {},
   "source": [
    "## Usage\n",
    "\n",
    "See [the cookbook](https://ocrmypdf.readthedocs.io/en/latest/cookbook.html) for more options (deskew, rotate, etc), but generally:\n",
    "    \n",
    "```\n",
    "ocrmypdf input.pdf output.pdf\n",
    "```\n",
    "\n",
    "### Convert a scanned or image-based PDF to one with selectable text"
   ]
  },
  {
   "cell_type": "code",
   "execution_count": 8,
   "id": "a6c68a43",
   "metadata": {},
   "outputs": [],
   "source": [
    "# players-scan.pdf"
   ]
  },
  {
   "cell_type": "markdown",
   "id": "c17c68bf",
   "metadata": {},
   "source": [
    "### Convert a skewed scanned or image-based PDF to one with selectable text"
   ]
  },
  {
   "cell_type": "code",
   "execution_count": 9,
   "id": "cc6a579d",
   "metadata": {},
   "outputs": [],
   "source": [
    "# players-scan-skewed.pdf"
   ]
  },
  {
   "cell_type": "markdown",
   "id": "7a78e9cb",
   "metadata": {},
   "source": [
    "### Convert a Chinese scanned or image-based PDF to one with selectable text"
   ]
  },
  {
   "cell_type": "code",
   "execution_count": 10,
   "id": "e19492fa",
   "metadata": {},
   "outputs": [],
   "source": [
    "# Get a list of supported languages from tesseract "
   ]
  },
  {
   "cell_type": "code",
   "execution_count": 11,
   "id": "8947c773",
   "metadata": {},
   "outputs": [],
   "source": [
    "# museums-scanned.pdf"
   ]
  },
  {
   "cell_type": "code",
   "execution_count": null,
   "id": "918a8bd1",
   "metadata": {},
   "outputs": [],
   "source": []
  }
 ],
 "metadata": {
  "kernelspec": {
   "display_name": "Python 3 (ipykernel)",
   "language": "python",
   "name": "python3"
  },
  "language_info": {
   "codemirror_mode": {
    "name": "ipython",
    "version": 3
   },
   "file_extension": ".py",
   "mimetype": "text/x-python",
   "name": "python",
   "nbconvert_exporter": "python",
   "pygments_lexer": "ipython3",
   "version": "3.9.7"
  }
 },
 "nbformat": 4,
 "nbformat_minor": 5
}
